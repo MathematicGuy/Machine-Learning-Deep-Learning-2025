{
 "cells": [
  {
   "cell_type": "markdown",
   "id": "245cf7fc",
   "metadata": {},
   "source": [
    "### Shared Class Attribute"
   ]
  },
  {
   "cell_type": "code",
   "execution_count": null,
   "id": "ed01d39e",
   "metadata": {},
   "outputs": [
    {
     "name": "stdout",
     "output_type": "stream",
     "text": [
      "[[1, 1, 1, 1, 1]]\n",
      "[[1, 1, 1, 1, 1]]\n"
     ]
    }
   ],
   "source": [
    "class GeneticAlgo:\n",
    "    population = [] #? class attribute, shared across all instance \n",
    "    \n",
    "    def __init__(self, pop_size, gene_len):\n",
    "        self.pop = [] \n",
    "        \n",
    "ga1 = GeneticAlgo(3, 5)\n",
    "ga2 = GeneticAlgo(3, 5)\n",
    "\n",
    "ga1.population.append([1,1,1,1,1])\n",
    "print(ga1.population)\n",
    "print(ga2.population)"
   ]
  },
  {
   "cell_type": "code",
   "execution_count": null,
   "id": "a49d29f9",
   "metadata": {},
   "outputs": [],
   "source": [
    "import random \n",
    "\n",
    "class genetic_algo: \n",
    "\tdef __init__(self, population_size, gene_length):\n",
    "\t\tself.population_size = population_size\n",
    "\t\tself.gene_length = gene_length\n",
    "\t\tself.population = [] \n",
    "\t\tself.initiate_population()\n",
    "\n",
    "\t@staticmethod #? Bad Practice: static method don't call `self` or `cls`, only variable.\n",
    "\tdef create_gene(self):\n",
    "\t\treturn [random.randint(0, 1) for i in range(0, self.gene_length)]\n",
    "\t\n",
    "\tdef initiate_population(self):\n",
    "\t\tself.population = [self.create_gene() for i in range(self.population_size)]\n",
    "\t\n",
    "\tdef display_population(self):\n",
    "\t\tprint(self.population)\n",
    "\t\n",
    " # selection \n",
    "\t# crossover\n",
    "\t# mutation ->\n",
    "\t# -> [1, 1, 1, 1, 1]\n",
    "\t"
   ]
  },
  {
   "cell_type": "code",
   "execution_count": null,
   "id": "442b830f",
   "metadata": {},
   "outputs": [],
   "source": []
  }
 ],
 "metadata": {
  "kernelspec": {
   "display_name": "ds",
   "language": "python",
   "name": "python3"
  },
  "language_info": {
   "codemirror_mode": {
    "name": "ipython",
    "version": 3
   },
   "file_extension": ".py",
   "mimetype": "text/x-python",
   "name": "python",
   "nbconvert_exporter": "python",
   "pygments_lexer": "ipython3",
   "version": "3.10.16"
  }
 },
 "nbformat": 4,
 "nbformat_minor": 5
}
