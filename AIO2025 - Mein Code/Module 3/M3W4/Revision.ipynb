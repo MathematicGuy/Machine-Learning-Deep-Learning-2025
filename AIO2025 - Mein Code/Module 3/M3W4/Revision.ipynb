{
 "cells": [
  {
   "cell_type": "code",
   "execution_count": 320,
   "id": "77c58fc7",
   "metadata": {},
   "outputs": [
    {
     "data": {
      "text/plain": [
       "array([[0, 1, 0, 0, 0, 0, 1, 0, 0, 0, 1, 0, 0, 0, 0],\n",
       "       [0, 0, 1, 1, 0, 0, 1, 0, 1, 0, 0, 0, 0, 0, 0],\n",
       "       [1, 0, 0, 1, 0, 0, 0, 0, 1, 1, 0, 0, 0, 0, 0],\n",
       "       [0, 1, 0, 0, 1, 1, 0, 0, 0, 0, 1, 0, 0, 0, 0],\n",
       "       [0, 1, 0, 0, 0, 0, 0, 1, 0, 0, 0, 1, 1, 0, 0],\n",
       "       [0, 0, 0, 0, 0, 0, 0, 0, 0, 0, 0, 0, 0, 1, 1],\n",
       "       [1, 1, 0, 1, 0, 0, 0, 0, 1, 0, 1, 0, 0, 0, 0]])"
      ]
     },
     "execution_count": 320,
     "metadata": {},
     "output_type": "execute_result"
    }
   ],
   "source": [
    "from sklearn.feature_extraction.text import CountVectorizer\n",
    "import numpy as np\n",
    "\n",
    "corpus = [\n",
    "    \"AI is efficient\",\n",
    "    \"fast and efficient algorithm\",\n",
    "    \"highly accurate and fast\",\n",
    "    \"coding AI is challenging\",\n",
    "    \"AI may produce errors\",\n",
    "    \"unpredictable results\",\n",
    "    \"AI is accurate and fast\",\n",
    "]\n",
    "\n",
    "vectorizer = CountVectorizer()\n",
    "ai_X = vectorizer.fit_transform(corpus)\n",
    "ai_X = ai_X.toarray()\n",
    "ai_X"
   ]
  },
  {
   "cell_type": "code",
   "execution_count": 321,
   "id": "0e5c0f73",
   "metadata": {},
   "outputs": [
    {
     "name": "stdout",
     "output_type": "stream",
     "text": [
      "[0 0 0 1 0 1 0 1 0 1 0 0 1 0 0]\n"
     ]
    }
   ],
   "source": [
    "print(X[-1])"
   ]
  },
  {
   "cell_type": "code",
   "execution_count": 322,
   "id": "c2318458",
   "metadata": {},
   "outputs": [
    {
     "name": "stdout",
     "output_type": "stream",
     "text": [
      "[[0 0 1 1 0 0 1 0 1 0 0 0 0 0 0]\n",
      " [1 0 0 1 0 0 0 0 1 1 0 0 0 0 0]\n",
      " [0 1 0 0 1 1 0 0 0 0 1 0 0 0 0]\n",
      " [0 0 0 0 0 0 0 0 0 0 0 0 0 1 1]]\n",
      "[2.828 2.828 2.449 2.449]\n",
      "[3 2 1 0]\n",
      "['highly accurate and fast', 'fast and efficient algorithm', 'AI is efficient']\n"
     ]
    }
   ],
   "source": [
    "def similarity(query, X):\n",
    "    N = 5\n",
    "    similarities = np.linalg.norm(query - X, axis=1)\n",
    "    # similarities = np.sqrt(np.sum((x - X)**2, axis=1))\n",
    "    print(np.round(similarities, 3))\n",
    "    sorted_indices = np.argsort(similarities)\n",
    "    top_N_indices = sorted_indices[:N]\n",
    "\n",
    "    print(np.round(top_N_indices, 3)) # type: ignore\n",
    "    print([corpus[i] for i in top_N_indices][1:])\n",
    "\n",
    "x = ai_X[[1, 2, 3, 5]]\n",
    "print(x)\n",
    "similarity([0, 1, 0, 0, 0, 0, 0, 1, 0, 0, 0, 1, 1, 0, 0], x)\n"
   ]
  },
  {
   "cell_type": "code",
   "execution_count": 323,
   "id": "1c104874",
   "metadata": {},
   "outputs": [
    {
     "name": "stdout",
     "output_type": "stream",
     "text": [
      "['C1', 'C1', 'C1', 'C1', 'C2', 'C1']\n"
     ]
    }
   ],
   "source": [
    "import numpy as np\n",
    "from sklearn.feature_extraction.text import CountVectorizer\n",
    "\n",
    "# Corpus\n",
    "corpus = [\n",
    "    \"AI is efficient\",\n",
    "    \"fast and efficient algorithm\",\n",
    "    \"highly accurate and fast\",\n",
    "    \"coding AI is challenging\",\n",
    "    \"AI may produce errors\",\n",
    "    \"unpredictable results\"\n",
    "]\n",
    "\n",
    "vectorizer = CountVectorizer()\n",
    "X = vectorizer.fit_transform(corpus).toarray()\n",
    "\n",
    "# Tâm cụm ban đầu (theo đề bài)\n",
    "C1 = np.array([0,1,0,0,0,0,1,0,0,0,1,0,0,0,0])\n",
    "C2 = np.array([0,1,0,0,0,0,0,1,0,0,0,1,1,0,0])\n",
    "\n",
    "centroids = np.vstack([C1, C2])\n",
    "\n",
    "# Tính khoảng cách Euclid và gán cụm\n",
    "assignments = []\n",
    "for x in X:\n",
    "    dists = np.linalg.norm(x - centroids, axis=1)\n",
    "    assignments.append(\"C1\" if dists[0] < dists[1] else \"C2\")\n",
    "\n",
    "print(assignments)\n"
   ]
  },
  {
   "cell_type": "code",
   "execution_count": 324,
   "id": "a3b8b5c7",
   "metadata": {},
   "outputs": [
    {
     "name": "stdout",
     "output_type": "stream",
     "text": [
      "Cluster labels: [0 1 0 0 0 1]\n",
      "Final centroids:\n",
      " [[0.25 0.5  0.5  0.25 0.25 0.   0.5  0.   0.25 0.25 0.25 0.   0.   0.\n",
      "  0.25]\n",
      " [0.   0.5  0.   0.5  0.   0.5  0.   1.   0.   0.5  0.   0.5  1.   0.\n",
      "  0.  ]]\n"
     ]
    }
   ],
   "source": [
    "import numpy as np\n",
    "\n",
    "def kmeans_by_sentence(X, initial_centroids, max_iters=100, tol=1e-4):\n",
    "    \"\"\"\n",
    "    KMeans clustering where each row in X is a sentence vector.\n",
    "\n",
    "    Parameters\n",
    "    ----------\n",
    "    X : np.ndarray\n",
    "        Sentence embeddings (num_sentences x num_features)\n",
    "    initial_centroids : np.ndarray\n",
    "        Initial cluster centers (k x num_features)\n",
    "    max_iters : int\n",
    "        Maximum iterations\n",
    "    tol : float\n",
    "        Convergence tolerance\n",
    "\n",
    "    Returns\n",
    "    -------\n",
    "    labels : np.ndarray\n",
    "        Cluster index (0 or 1, etc.) for each sentence\n",
    "    centroids : np.ndarray\n",
    "        Final centroids\n",
    "    \"\"\"\n",
    "    centroids = initial_centroids.astype(float).copy()\n",
    "    k = centroids.shape[0]\n",
    "\n",
    "    for _ in range(max_iters):\n",
    "        # Step 1: Compute distances of each sentence to each centroid\n",
    "        distances = np.linalg.norm(X[:, np.newaxis, :] - centroids, axis=2)\n",
    "        labels = np.argmin(distances, axis=1)\n",
    "\n",
    "        # Step 2: Recompute centroids as mean of assigned sentences\n",
    "        new_centroids = np.zeros_like(centroids)\n",
    "        for cluster_idx in range(k):\n",
    "            points = X[labels == cluster_idx]\n",
    "            if len(points) > 0:\n",
    "                new_centroids[cluster_idx] = points.mean(axis=0)\n",
    "            else:\n",
    "                # If no point assigned, keep old centroid\n",
    "                new_centroids[cluster_idx] = centroids[cluster_idx]\n",
    "\n",
    "        # Step 3: Check convergence\n",
    "        if np.linalg.norm(new_centroids - centroids) < tol:\n",
    "            break\n",
    "\n",
    "        centroids = new_centroids\n",
    "\n",
    "    return labels, centroids\n",
    "\n",
    "\n",
    "# Example: each row is a sentence vector\n",
    "X = np.array([\n",
    "    [0,1,0,0,0,0,1,0,0,0,1,0,0,0,0],\n",
    "    [0,1,0,0,0,0,0,1,0,0,0,1,1,0,0],\n",
    "    [1,0,1,0,0,0,0,0,0,1,0,0,0,0,0],\n",
    "    [0,1,0,1,0,0,1,0,0,0,0,0,0,0,0],\n",
    "    [0,0,1,0,1,0,0,0,1,0,0,0,0,0,1],\n",
    "    [0,0,0,1,0,1,0,1,0,1,0,0,1,0,0]\n",
    "])\n",
    "\n",
    "C1 = np.array([0,1,0,0,0,0,1,0,0,0,1,0,0,0,0])\n",
    "C2 = np.array([0,1,0,0,0,0,0,1,0,0,0,1,1,0,0])\n",
    "initial_centroids = np.vstack([C1, C2])\n",
    "\n",
    "labels, final_centroids = kmeans_by_sentence(X, initial_centroids)\n",
    "\n",
    "print(\"Cluster labels:\", labels)  # e.g., [0,1,0,...]\n",
    "print(\"Final centroids:\\n\", final_centroids)\n"
   ]
  },
  {
   "cell_type": "code",
   "execution_count": 325,
   "id": "fe744590",
   "metadata": {},
   "outputs": [],
   "source": [
    "import pandas as pd"
   ]
  },
  {
   "cell_type": "code",
   "execution_count": 326,
   "id": "abb8c5ec",
   "metadata": {},
   "outputs": [],
   "source": [
    "# !gdown 1z99FO2PE35V2BHGC4oy_qC7iKYDFy8pH\n",
    "df = pd.read_csv('my_data.csv')\n",
    "X_train = df[[\"perimeter_mean\", \"area_mean\", \"compactness_mean\"]].values.tolist()\n",
    "labels = df['diagnosis'].values.tolist()"
   ]
  },
  {
   "cell_type": "code",
   "execution_count": 327,
   "id": "41ecaaee",
   "metadata": {},
   "outputs": [
    {
     "name": "stdout",
     "output_type": "stream",
     "text": [
      "<class 'list'>\n"
     ]
    },
    {
     "data": {
      "text/plain": [
       "[0, 0, 0, 0, 0, 1, 1, 1, 1, 1]"
      ]
     },
     "execution_count": 327,
     "metadata": {},
     "output_type": "execute_result"
    }
   ],
   "source": [
    "y_train = []\n",
    "\n",
    "for label in labels:\n",
    "    if label == 'B':\n",
    "        y_train.append(0)\n",
    "    else:\n",
    "        y_train.append(1)\n",
    "\n",
    "print(type(y_train))\n",
    "y_train\n"
   ]
  },
  {
   "cell_type": "code",
   "execution_count": 339,
   "id": "f77ceb98",
   "metadata": {},
   "outputs": [
    {
     "data": {
      "text/plain": [
       "np.float64(3.56)"
      ]
     },
     "execution_count": 339,
     "metadata": {},
     "output_type": "execute_result"
    }
   ],
   "source": [
    "C2 = np.array([0.6, 0.48, 0.37])\n",
    "distances_to_C2 = np.linalg.norm(np.array(X_train) - C2, axis=1)\n",
    "total_distance_to_C2 = np.round(np.sum(distances_to_C2), 2)\n",
    "total_distance_to_C2\n"
   ]
  },
  {
   "cell_type": "code",
   "execution_count": 343,
   "id": "c570ef5d",
   "metadata": {},
   "outputs": [
    {
     "name": "stdout",
     "output_type": "stream",
     "text": [
      "Các điểm dữ liệu thuộc cụm 1 (vector biểu diễn):\n",
      "[[0.28 0.17 0.12]\n",
      " [0.11 0.06 0.16]\n",
      " [0.33 0.21 0.2 ]\n",
      " [0.26 0.15 0.09]\n",
      " [0.22 0.09 0.2 ]]\n",
      "Lớp của các điểm dữ liệu thuộc cụm 1:\n",
      "[0, 0, 0, 0, 0]\n",
      "\n",
      "Các điểm dữ liệu thuộc cụm 2 (vector biểu diễn):\n",
      "[[0.58 0.41 0.47]\n",
      " [0.57 0.37 0.77]\n",
      " [0.48 0.38 0.27]\n",
      " [0.6  0.48 0.37]\n",
      " [0.54 0.42 0.43]]\n",
      "Lớp của các điểm dữ liệu thuộc cụm 2:\n",
      "[1, 1, 1, 1, 1]\n"
     ]
    }
   ],
   "source": [
    "# Phân loại các điểm dữ liệu theo cụm\n",
    "cluster_1_points = X_train[labels == 0]\n",
    "cluster_2_points = X_train[labels == 1]\n",
    "\n",
    "# Lấy lớp tương ứng của các điểm dữ liệu trong từng cụm\n",
    "cluster_1_classes = [y_train[i] for i in range(len(labels)) if labels[i] == 0]\n",
    "cluster_2_classes = [y_train[i] for i in range(len(labels)) if labels[i] == 1]\n",
    "\n",
    "print(\"Các điểm dữ liệu thuộc cụm 1 (vector biểu diễn):\")\n",
    "print(cluster_1_points)\n",
    "print(\"Lớp của các điểm dữ liệu thuộc cụm 1:\")\n",
    "print(cluster_1_classes)\n",
    "\n",
    "print(\"\\nCác điểm dữ liệu thuộc cụm 2 (vector biểu diễn):\")\n",
    "print(cluster_2_points)\n",
    "print(\"Lớp của các điểm dữ liệu thuộc cụm 2:\")\n",
    "print(cluster_2_classes)\n"
   ]
  },
  {
   "cell_type": "code",
   "execution_count": 329,
   "id": "267d2a04",
   "metadata": {},
   "outputs": [
    {
     "data": {
      "text/plain": [
       "[([0.28, 0.17, 0.12], 0),\n",
       " ([0.11, 0.06, 0.16], 0),\n",
       " ([0.33, 0.21, 0.2], 0),\n",
       " ([0.26, 0.15, 0.09], 0),\n",
       " ([0.22, 0.09, 0.2], 0),\n",
       " ([0.58, 0.41, 0.47], 1),\n",
       " ([0.57, 0.37, 0.77], 1),\n",
       " ([0.48, 0.38, 0.27], 1),\n",
       " ([0.6, 0.48, 0.37], 1),\n",
       " ([0.54, 0.42, 0.43], 1)]"
      ]
     },
     "execution_count": 329,
     "metadata": {},
     "output_type": "execute_result"
    }
   ],
   "source": [
    "train_dat = zip(X_train, y_train)\n",
    "train_dat = list(train_dat)\n",
    "train_dat"
   ]
  },
  {
   "cell_type": "markdown",
   "id": "e9c9cced",
   "metadata": {},
   "source": [
    "## KMeans\n",
    "0) Choose K (recenter) iteration\n",
    "1) Choose N random centroids  \n",
    "2) Categorize dots base on their cloest centroid \n",
    "3) Recenter centroid base on the new categorize dots\n",
    "4) Repeat step 2 + 3 untils the distance between the centroid to each dots (i.e. MSE - Mean Square Error) is smallest out of K iteration. (Hmmm, I should define K first so I know how much Iteration I would have)   \n",
    "\n",
    "\n",
    "How many Cluster is enought ? \n",
    "\n",
    "-> We need a technique needed to find the optimize number of clusters. So narrow the scope down, the question is... \"How to evaluate a good cluster\". A good cluster is when \"the furthest distance between 2 points of a cluster is not too far and not too close\"\n",
    "\n",
    "uh I couldn't imagine what a good cluster look like, let visualize what datas look like for different number of clusters. \n",
    "\n",
    "![visual](images/clusterVisual.png)"
   ]
  },
  {
   "cell_type": "markdown",
   "id": "a68ae959",
   "metadata": {},
   "source": [
    "By intuition, the best number is 3 clusters. And I see there a bug fluctuation in the \"distance between 2 points of a cluster\" in the 2nd and 3rd cluster. This is it, I can determind the best cluster (intuitionaly) by checkig/tracking the fluctuation over N-Clusters (number of cluster).\n",
    "\n",
    "Let graph this changes out, oh it look like a elbows. Now I could say at the Elbows Points we have the best Number of Cluster:\n",
    "![](images/elbows.png)"
   ]
  },
  {
   "attachments": {
    "image.png": {
     "image/png": "[encoded data removed]"
    }
   },
   "cell_type": "markdown",
   "id": "5855c581",
   "metadata": {},
   "source": [
    "![image.png](attachment:image.png)"
   ]
  },
  {
   "cell_type": "code",
   "execution_count": 330,
   "id": "fb8ddd87",
   "metadata": {},
   "outputs": [
    {
     "data": {
      "text/html": [
       "<div>\n",
       "<style scoped>\n",
       "    .dataframe tbody tr th:only-of-type {\n",
       "        vertical-align: middle;\n",
       "    }\n",
       "\n",
       "    .dataframe tbody tr th {\n",
       "        vertical-align: top;\n",
       "    }\n",
       "\n",
       "    .dataframe thead th {\n",
       "        text-align: right;\n",
       "    }\n",
       "</style>\n",
       "<table border=\"1\" class=\"dataframe\">\n",
       "  <thead>\n",
       "    <tr style=\"text-align: right;\">\n",
       "      <th></th>\n",
       "      <th>Petal_Length</th>\n",
       "      <th>Label</th>\n",
       "    </tr>\n",
       "  </thead>\n",
       "  <tbody>\n",
       "    <tr>\n",
       "      <th>0</th>\n",
       "      <td>1.4</td>\n",
       "      <td>0.0</td>\n",
       "    </tr>\n",
       "    <tr>\n",
       "      <th>1</th>\n",
       "      <td>1.0</td>\n",
       "      <td>0.0</td>\n",
       "    </tr>\n",
       "    <tr>\n",
       "      <th>2</th>\n",
       "      <td>1.5</td>\n",
       "      <td>0.0</td>\n",
       "    </tr>\n",
       "    <tr>\n",
       "      <th>3</th>\n",
       "      <td>3.1</td>\n",
       "      <td>1.0</td>\n",
       "    </tr>\n",
       "    <tr>\n",
       "      <th>4</th>\n",
       "      <td>3.8</td>\n",
       "      <td>1.0</td>\n",
       "    </tr>\n",
       "  </tbody>\n",
       "</table>\n",
       "</div>"
      ],
      "text/plain": [
       "   Petal_Length  Label\n",
       "0           1.4    0.0\n",
       "1           1.0    0.0\n",
       "2           1.5    0.0\n",
       "3           3.1    1.0\n",
       "4           3.8    1.0"
      ]
     },
     "execution_count": 330,
     "metadata": {},
     "output_type": "execute_result"
    }
   ],
   "source": [
    "import pandas as pd\n",
    "import random\n",
    "import numpy as np\n",
    "\n",
    "iris_1d = pd.read_csv('iris_1D.csv')\n",
    "iris_1d.head()"
   ]
  },
  {
   "cell_type": "code",
   "execution_count": 331,
   "id": "c0a46491",
   "metadata": {},
   "outputs": [
    {
     "data": {
      "text/plain": [
       "array([[1.4],\n",
       "       [1. ],\n",
       "       [1.5],\n",
       "       [3.1],\n",
       "       [3.8],\n",
       "       [4.1]])"
      ]
     },
     "execution_count": 331,
     "metadata": {},
     "output_type": "execute_result"
    }
   ],
   "source": [
    "data = iris_1d.to_numpy()\n",
    "data[:, :-1]"
   ]
  },
  {
   "cell_type": "code",
   "execution_count": 332,
   "id": "0298c633",
   "metadata": {},
   "outputs": [
    {
     "data": {
      "text/plain": [
       "array([0, 0, 1, 1, 1])"
      ]
     },
     "execution_count": 332,
     "metadata": {},
     "output_type": "execute_result"
    }
   ],
   "source": [
    "D = np.array([\n",
    "    [0, 2.8],\n",
    "    [0.5, 2.3],\n",
    "    [2.1, 0.7],\n",
    "    [2.8, 0],\n",
    "    [3.1, 0.3],\n",
    "])\n",
    "\n",
    "np.argmin(D, axis=1)"
   ]
  },
  {
   "cell_type": "code",
   "execution_count": 333,
   "id": "08a142cd",
   "metadata": {},
   "outputs": [
    {
     "name": "stdout",
     "output_type": "stream",
     "text": [
      "[array([1., 2., 3.]), array([8., 9.])]\n"
     ]
    },
    {
     "data": {
      "text/plain": [
       "array([2. , 8.5])"
      ]
     },
     "execution_count": 333,
     "metadata": {},
     "output_type": "execute_result"
    }
   ],
   "source": [
    "X = np.array([1.0, 2.0, 3.0, 8.0, 9.0])\n",
    "labels = np.array([0,   0,   0,   1,   1  ])\n",
    "k = 2\n",
    "print([X[labels == i] for i in range(k)])\n",
    "new_centroids = np.array([X[labels == i].mean() for i in range(k)])\n",
    "# computation per cluster:\n",
    "# i = 0 -> mask = [True, True, True, False, False] -> X[mask] = [1,2,3] -> mean = 2.0\n",
    "# i = 1 -> mask = [False,False,False,True, True] -> X[mask] = [8,9] -> mean = 8.5\n",
    "new_centroids"
   ]
  },
  {
   "cell_type": "code",
   "execution_count": 334,
   "id": "b499674e",
   "metadata": {},
   "outputs": [
    {
     "data": {
      "text/plain": [
       "array([2. , 2. , 2. , 8.5, 8.5])"
      ]
     },
     "execution_count": 334,
     "metadata": {},
     "output_type": "execute_result"
    }
   ],
   "source": [
    "labels = np.array([0,0,0,1,1])\n",
    "centroids = np.array([2.0, 8.5])\n",
    "centroids[labels]"
   ]
  },
  {
   "cell_type": "code",
   "execution_count": 335,
   "id": "2bf713ae",
   "metadata": {},
   "outputs": [
    {
     "name": "stdout",
     "output_type": "stream",
     "text": [
      "Init centroids: [1.4 1. ]\n",
      "X: [[1.4]\n",
      " [1. ]\n",
      " [1.5]\n",
      " [3.1]\n",
      " [3.8]\n",
      " [4.1]]\n",
      "dist [[0.  0.4]\n",
      " [0.4 0. ]\n",
      " [0.1 0.5]\n",
      " [1.7 2.1]\n",
      " [2.4 2.8]\n",
      " [2.7 3.1]]\n",
      "labels: [0 1 0 0 0 0]\n",
      "new_centroids: [2.78 1.  ]\n",
      "dist [[1.38 0.4 ]\n",
      " [1.78 0.  ]\n",
      " [1.28 0.5 ]\n",
      " [0.32 2.1 ]\n",
      " [1.02 2.8 ]\n",
      " [1.32 3.1 ]]\n",
      "labels: [1 1 1 0 0 0]\n",
      "new_centroids: [3.66666667 1.3       ]\n",
      "square_norm_each_centroid: [array([3.1, 3.8, 4.1]), array([1.4, 1. , 1.5])]\n",
      "wcss 0.6666666666666662\n"
     ]
    }
   ],
   "source": [
    "def kmeans(data, k, n):\n",
    "    \"\"\"\n",
    "    n number of cluster\n",
    "    k iteration\n",
    "    \"\"\"\n",
    "    X = data['Petal_Length'].to_numpy()\n",
    "    # centroids = np.random.choice(X, size=k) # choose k random centroids\n",
    "    centroids = X[:2]\n",
    "    print('Init centroids:', centroids)\n",
    "    print('X:', X[:, np.newaxis])\n",
    "    labels = np.zeros(len(centroids))\n",
    "\n",
    "    for _ in range(n):\n",
    "        # print('new:', X[:, np.newaxis])\n",
    "        dist = np.sqrt((X[:, np.newaxis] - centroids)**2) # substract each centroids value to X\n",
    "        print('dist', dist)\n",
    "\n",
    "        labels = np.argmin(dist, axis=1)\n",
    "        print('labels:', labels)\n",
    "\n",
    "        new_centroids = np.array([X[labels == i].mean() for i in range(k)])\n",
    "        print('new_centroids:', new_centroids)\n",
    "\n",
    "        if all(centroids == new_centroids):\n",
    "            break\n",
    "\n",
    "        centroids = new_centroids\n",
    "\n",
    "    #? get all samples of the same class\n",
    "    square_norm_each_centroid = [X[labels == i] for i in range(k)] # [array([3.1, 3.8, 4.1]), array([1.4, 1. , 1.5])]\n",
    "    #? calc Square norm between centroid and sample for each class\n",
    "    css = [(square_norm_each_centroid[i] - centroids[i])**2 for i in range(k)]\n",
    "    wcss = np.sum([np.sum(css[i]) for i in range(k)])\n",
    "    print('square_norm_each_centroid:', square_norm_each_centroid)\n",
    "    print('wcss', wcss)\n",
    "\n",
    "    return centroids, labels\n",
    "\n",
    "    # a = np.abs(X.reshape(-1, 1))\n",
    "    # print(a)\n",
    "\n",
    "\n",
    "centroids, labels = kmeans(iris_1d, 2, 2)"
   ]
  },
  {
   "cell_type": "code",
   "execution_count": 336,
   "id": "856f9864",
   "metadata": {},
   "outputs": [
    {
     "data": {
      "text/plain": [
       "np.float64(9.999999994736442e-09)"
      ]
     },
     "execution_count": 336,
     "metadata": {},
     "output_type": "execute_result"
    }
   ],
   "source": [
    "np.sum(np.array([ 0.56666667, -0.13333333, -0.43333333]))"
   ]
  },
  {
   "cell_type": "code",
   "execution_count": null,
   "id": "e2232cf9",
   "metadata": {},
   "outputs": [],
   "source": []
  },
  {
   "cell_type": "code",
   "execution_count": 337,
   "id": "3d9a0813",
   "metadata": {},
   "outputs": [
    {
     "data": {
      "text/plain": [
       "array([[0, 1, 0, 0, 0, 0, 1, 0, 0, 0, 1, 0, 0, 0, 0],\n",
       "       [0, 0, 1, 1, 0, 0, 1, 0, 1, 0, 0, 0, 0, 0, 0],\n",
       "       [1, 0, 0, 1, 0, 0, 0, 0, 1, 1, 0, 0, 0, 0, 0],\n",
       "       [0, 1, 0, 0, 1, 1, 0, 0, 0, 0, 1, 0, 0, 0, 0],\n",
       "       [0, 1, 0, 0, 0, 0, 0, 1, 0, 0, 0, 1, 1, 0, 0],\n",
       "       [0, 0, 0, 0, 0, 0, 0, 0, 0, 0, 0, 0, 0, 1, 1],\n",
       "       [1, 1, 0, 1, 0, 0, 0, 0, 1, 0, 1, 0, 0, 0, 0]])"
      ]
     },
     "execution_count": 337,
     "metadata": {},
     "output_type": "execute_result"
    }
   ],
   "source": [
    "ai_X"
   ]
  },
  {
   "cell_type": "code",
   "execution_count": 338,
   "id": "f3aafd19",
   "metadata": {},
   "outputs": [
    {
     "name": "stdout",
     "output_type": "stream",
     "text": [
      "X: [0 0 1 0 0 0 1]\n",
      "[[0 1 0 0 0 0 1 0 0 0 1 0 0 0]\n",
      " [0 0 1 1 0 0 1 0 1 0 0 0 0 0]\n",
      " [1 0 0 1 0 0 0 0 1 1 0 0 0 0]\n",
      " [0 1 0 0 1 1 0 0 0 0 1 0 0 0]\n",
      " [0 1 0 0 0 0 0 1 0 0 0 1 1 0]\n",
      " [0 0 0 0 0 0 0 0 0 0 0 0 0 1]\n",
      " [1 1 0 1 0 0 0 0 1 0 1 0 0 0]]\n",
      "centroid: [1.4 1. ]\n",
      "\n",
      "Iter 0\n"
     ]
    },
    {
     "ename": "ValueError",
     "evalue": "operands could not be broadcast together with shapes (2,) (7,14) ",
     "output_type": "error",
     "traceback": [
      "\u001b[1;31m---------------------------------------------------------------------------\u001b[0m",
      "\u001b[1;31mValueError\u001b[0m                                Traceback (most recent call last)",
      "Cell \u001b[1;32mIn[338], line 57\u001b[0m\n\u001b[0;32m     53\u001b[0m     \u001b[38;5;28mprint\u001b[39m(\u001b[38;5;124m'\u001b[39m\u001b[38;5;124mwcss:\u001b[39m\u001b[38;5;124m'\u001b[39m, wcss)\n\u001b[0;32m     55\u001b[0m     \u001b[38;5;28;01mreturn\u001b[39;00m centroid, labels\n\u001b[1;32m---> 57\u001b[0m \u001b[43mKmeanssss\u001b[49m\u001b[43m(\u001b[49m\u001b[43mai_X\u001b[49m\u001b[43m,\u001b[49m\u001b[43m \u001b[49m\u001b[43mk\u001b[49m\u001b[38;5;241;43m=\u001b[39;49m\u001b[38;5;241;43m2\u001b[39;49m\u001b[43m,\u001b[49m\u001b[43m \u001b[49m\u001b[43mn\u001b[49m\u001b[38;5;241;43m=\u001b[39;49m\u001b[38;5;241;43m3\u001b[39;49m\u001b[43m)\u001b[49m\n",
      "Cell \u001b[1;32mIn[338], line 25\u001b[0m, in \u001b[0;36mKmeanssss\u001b[1;34m(data, k, n)\u001b[0m\n\u001b[0;32m     22\u001b[0m \u001b[38;5;28mprint\u001b[39m(\u001b[38;5;124mf\u001b[39m\u001b[38;5;124m'\u001b[39m\u001b[38;5;130;01m\\n\u001b[39;00m\u001b[38;5;124mIter \u001b[39m\u001b[38;5;132;01m{\u001b[39;00m_\u001b[38;5;132;01m}\u001b[39;00m\u001b[38;5;124m'\u001b[39m)\n\u001b[0;32m     23\u001b[0m \u001b[38;5;66;03m#? calc distance between centroid to class samples\u001b[39;00m\n\u001b[0;32m     24\u001b[0m \u001b[38;5;66;03m# k dim == n dim -> [a,b,c] - [[1,2,3,4], [1,2,3,4]] -> need to add flexible axis to X\u001b[39;00m\n\u001b[1;32m---> 25\u001b[0m dists \u001b[38;5;241m=\u001b[39m [np\u001b[38;5;241m.\u001b[39msqrt((\u001b[43mcentroid\u001b[49m\u001b[43m \u001b[49m\u001b[38;5;241;43m-\u001b[39;49m\u001b[43m \u001b[49m\u001b[43mX\u001b[49m)\u001b[38;5;241m*\u001b[39m\u001b[38;5;241m*\u001b[39m\u001b[38;5;241m2\u001b[39m)] \u001b[38;5;66;03m# euclidean distance\u001b[39;00m\n\u001b[0;32m     26\u001b[0m \u001b[38;5;66;03m# print('centroids to samples: \\n', dists[0])\u001b[39;00m\n\u001b[0;32m     27\u001b[0m \n\u001b[0;32m     28\u001b[0m \u001b[38;5;66;03m#? Update new class for each sample by labels base on the \"min distance\" for each class\u001b[39;00m\n\u001b[0;32m     29\u001b[0m labels \u001b[38;5;241m=\u001b[39m np\u001b[38;5;241m.\u001b[39margmin(dists[\u001b[38;5;241m0\u001b[39m], axis\u001b[38;5;241m=\u001b[39m\u001b[38;5;241m1\u001b[39m) \u001b[38;5;66;03m# map labels\u001b[39;00m\n",
      "\u001b[1;31mValueError\u001b[0m: operands could not be broadcast together with shapes (2,) (7,14) "
     ]
    }
   ],
   "source": [
    "def Kmeanssss(data, k, n):\n",
    "    \"\"\"\n",
    "    data with features and class\n",
    "    k number of cluster\n",
    "    n number of iteration\n",
    "    \"\"\"\n",
    "\n",
    "    if isinstance(data, pd.DataFrame):\n",
    "        data = data.to_numpy()\n",
    "\n",
    "    X = data[:, :-1] # get all features from data. Have k dim\n",
    "    singeD_X = X[:, 0]\n",
    "    print('X:', X[:, 0])\n",
    "    print(X)\n",
    "\n",
    "    # centroid = np.random.choice(singeD_X, size=k) # get k random centroid from data. Have n dom\n",
    "    centroid = np.array([1.4, 1])\n",
    "    print('centroid:', centroid)\n",
    "    labels = np.zeros(len(singeD_X))\n",
    "\n",
    "    for _ in range(n): # iteration\n",
    "        print(f'\\nIter {_}')\n",
    "        #? calc distance between centroid to class samples\n",
    "        # k dim == n dim -> [a,b,c] - [[1,2,3,4], [1,2,3,4]] -> need to add flexible axis to X\n",
    "        dists = [np.sqrt((centroid - X)**2)] # euclidean distance\n",
    "        # print('centroids to samples: \\n', dists[0])\n",
    "\n",
    "        #? Update new class for each sample by labels base on the \"min distance\" for each class\n",
    "        labels = np.argmin(dists[0], axis=1) # map labels\n",
    "        print('labels:',labels)\n",
    "\n",
    "        #? Calc Means for each cluster\n",
    "        new_centroid = [X[labels == i].mean() for i in range(k)]\n",
    "        if np.all(new_centroid == centroid):\n",
    "            \"\"\"Check if every new_centroid value is == old centroid [2.3, 2.5] == [3, 4] -> [False, False]. If all True then break\"\"\"\n",
    "            break\n",
    "\n",
    "        centroid = new_centroid\n",
    "        # print('centroid:', centroid)\n",
    "\n",
    "    # Within cluster sum of square (Sum of each cluster's SoS )\n",
    "    # k dim - j dim features\n",
    "\n",
    "    print()\n",
    "    print(X[labels == 1])\n",
    "    print(np.square((X[labels==0] - centroid[0])))\n",
    "\n",
    "    #? Centroid class i - samples class i\n",
    "    css = [np.square((X[labels==i] - centroid[i])) for i in range(k)] # cluster sum of square\n",
    "    wcss = np.sum([np.sum(css[i]) for i in range(k)]) # calc sum\n",
    "\n",
    "    print('css:', css[0])\n",
    "    print('wcss:', wcss)\n",
    "\n",
    "    return centroid, labels\n",
    "\n",
    "Kmeanssss(ai_X, k=2, n=3)"
   ]
  },
  {
   "cell_type": "markdown",
   "id": "a10c6b0e",
   "metadata": {},
   "source": [
    "## KNN\n",
    "An Unsupervised method that help you to categorize data automatically, but there a problem, how much groups/clusters is enough because it seems like we can choose infinty center and the dots next to it will always be closer.\n",
    "\n"
   ]
  },
  {
   "cell_type": "code",
   "execution_count": null,
   "id": "5c047a1d",
   "metadata": {},
   "outputs": [
    {
     "name": "stdout",
     "output_type": "stream",
     "text": [
      "\n",
      "--- K-NN demo ---\n",
      "K-NN accuracy (k=3): 1.000  (n_test=2)\n",
      "x=1.40  true=0.0  pred=0.0\n",
      "x=3.80  true=1.0  pred=1.0\n"
     ]
    }
   ],
   "source": [
    "# K-NN (from scratch) - simple, works for 1D or multi-D features\n",
    "import numpy as np\n",
    "\n",
    "def knn_predict(X_train, y_train, X_test, k=3, task='classification'):\n",
    "    \"\"\"Simple K-NN prediction.\n",
    "    X_train: array (n_samples, n_features)\n",
    "    y_train: array (n_samples,)\n",
    "    X_test:  array (m_samples, n_features)\n",
    "    task: 'classification' or 'regression'\n",
    "    \"\"\"\n",
    "    X_train = np.asarray(X_train)\n",
    "    X_test = np.asarray(X_test)\n",
    "    y_train = np.asarray(y_train)\n",
    "    if X_train.ndim == 1:\n",
    "        X_train = X_train.reshape(-1, 1)\n",
    "    if X_test.ndim == 1:\n",
    "        X_test = X_test.reshape(-1, 1)\n",
    "\n",
    "    preds = []\n",
    "    for x in X_test:\n",
    "        d = np.sqrt(np.sum((X_train - x)**2, axis=1))\n",
    "        idx = np.argsort(d)[:k]\n",
    "        neigh = y_train[idx]\n",
    "        if task == 'classification':\n",
    "            vals, counts = np.unique(neigh, return_counts=True)\n",
    "            preds.append(vals[np.argmax(counts)])\n",
    "        else:\n",
    "            preds.append(np.mean(neigh.astype(float)))\n",
    "    return np.array(preds)\n",
    "\n",
    "# Demo using `iris_1d` (expects a column for feature and last column for class if present)\n",
    "print('\\n--- K-NN demo ---')\n",
    "X = iris_1d['Petal_Length'].to_numpy().reshape(-1, 1)\n",
    "if 'Species' in iris_1d.columns:\n",
    "    y = iris_1d['Species'].to_numpy()\n",
    "else:\n",
    "    y = iris_1d.iloc[:, -1].to_numpy()\n",
    "\n",
    "# simple random train/test split\n",
    "n = len(X)\n",
    "idx = np.arange(n)\n",
    "np.random.seed(0)\n",
    "np.random.shuffle(idx)\n",
    "split = int(n * 0.7)\n",
    "train_idx, test_idx = idx[:split], idx[split:]\n",
    "X_train, X_test = X[train_idx], X[test_idx]\n",
    "y_train, y_test = y[train_idx], y[test_idx]\n",
    "\n",
    "preds = knn_predict(X_train, y_train, X_test, k=3, task='classification')\n",
    "acc = np.mean(preds == y_test)\n",
    "print(f'K-NN accuracy (k=3): {acc:.3f}  (n_test={len(X_test)})')\n",
    "\n",
    "# show a few predictions\n",
    "for i in range(min(6, len(X_test))):\n",
    "    print(f'x={X_test[i,0]:.2f}  true={y_test[i]}  pred={preds[i]}')\n"
   ]
  },
  {
   "cell_type": "code",
   "execution_count": null,
   "id": "53994931",
   "metadata": {},
   "outputs": [],
   "source": []
  },
  {
   "cell_type": "markdown",
   "id": "c15c7956",
   "metadata": {},
   "source": [
    "## Decision Tree"
   ]
  },
  {
   "cell_type": "code",
   "execution_count": null,
   "id": "d40a8dbb",
   "metadata": {},
   "outputs": [
    {
     "name": "stdout",
     "output_type": "stream",
     "text": [
      "{'Wind': {'Weak': {'Temperature': {'Cool': 'Yes', 'Mild': {'Outlook': {'Overcast': 'Yes', 'Sunny': 'No'}}, 'Hot': 'Yes'}}, 'Strong': {'Outlook': {'Sunny': 'No', 'Rain': 'No', 'Overcast': 'Yes'}}}}\n"
     ]
    }
   ],
   "source": [
    "import pandas as pd\n",
    "import numpy as np\n",
    "from math import log2\n",
    "\n",
    "# Tập dữ liệu huấn luyện\n",
    "data = [\n",
    "    ['Sunny', 'Cool', 'High', 'Weak', 'Yes'],\n",
    "    ['Sunny', 'Cool', 'High', 'Strong', 'No'],\n",
    "    ['Overcast', 'Mild', 'High', 'Weak', 'Yes'],\n",
    "    ['Rain', 'Hot', 'Normal', 'Weak', 'Yes'],\n",
    "    ['Rain', 'Hot', 'Normal', 'Strong', 'No'],\n",
    "    ['Overcast', 'Hot', 'Normal', 'Strong', 'Yes'],\n",
    "    ['Sunny', 'Mild', 'High', 'Weak', 'No'],\n",
    "    ['Sunny', 'Cool', 'Normal', 'Weak', 'Yes'],\n",
    "    ['Sunny', 'Hot', 'High', 'Strong', 'No'],\n",
    "    ['Rain', 'Cool', 'Normal', 'Weak', 'Yes'],\n",
    "    ['Rain', 'Cool', 'High', 'Strong', 'No']\n",
    "]\n",
    "\n",
    "df = pd.DataFrame(data, columns=['Outlook', 'Temperature', 'Humidity', 'Wind', 'PlayTennis'])\n",
    "\n",
    "# Hàm tính entropy\n",
    "def entropy(subset):\n",
    "    classes = subset['PlayTennis'].unique()\n",
    "    ent = 0\n",
    "    for c in classes:\n",
    "        p = len(subset[subset['PlayTennis'] == c]) / len(subset)\n",
    "        ent -= p * log2(p)\n",
    "    return ent\n",
    "\n",
    "# Hàm tính Information Gain cho một thuộc tính\n",
    "def info_gain(df, attribute):\n",
    "    total_entropy = entropy(df)\n",
    "    values = df[attribute].unique()\n",
    "    weighted_entropy = 0\n",
    "    for v in values:\n",
    "        subset = df[df[attribute] == v]\n",
    "        weighted_entropy += (len(subset) / len(df)) * entropy(subset)\n",
    "    return total_entropy - weighted_entropy\n",
    "\n",
    "# Hàm chọn thuộc tính tốt nhất\n",
    "def best_attribute(df):\n",
    "    attributes = df.columns[:-1]  # bỏ cột PlayTennis\n",
    "    gains = {attr: info_gain(df, attr) for attr in attributes}\n",
    "    return max(gains, key=gains.get)\n",
    "\n",
    "# Hàm xây dựng cây quyết định ID3\n",
    "def id3(df, tree=None):\n",
    "    target_values = df['PlayTennis'].unique()\n",
    "\n",
    "    # Nếu tất cả mẫu cùng lớp\n",
    "    if len(target_values) == 1:\n",
    "        return target_values[0]\n",
    "\n",
    "    # Nếu hết thuộc tính để chia\n",
    "    if len(df.columns) == 1:\n",
    "        return df['PlayTennis'].mode()[0]\n",
    "\n",
    "    best_attr = best_attribute(df)\n",
    "    tree = {best_attr: {}}\n",
    "\n",
    "    for v in df[best_attr].unique():\n",
    "        subset = df[df[best_attr] == v].drop(columns=[best_attr])\n",
    "        tree[best_attr][v] = id3(subset)\n",
    "\n",
    "    return tree\n",
    "\n",
    "# Xây dựng cây\n",
    "decision_tree = id3(df)\n",
    "print(decision_tree)\n"
   ]
  },
  {
   "cell_type": "code",
   "execution_count": 368,
   "id": "aff0bdcd",
   "metadata": {},
   "outputs": [
    {
     "name": "stdout",
     "output_type": "stream",
     "text": [
      "Số lượng lá trong cây quyết định: 7\n",
      "Dự đoán cho mẫu dữ liệu: Yes\n"
     ]
    }
   ],
   "source": [
    "def count_leaves(tree):\n",
    "    if not isinstance(tree, dict):  # nnếu nút không phải là dict, đó là một lá\n",
    "        return 1\n",
    "    return sum(count_leaves(subtree) for subtree in tree.values())\n",
    "\n",
    "# đếm số lá trong cây quyết định đã xây dựng\n",
    "num_leaves = count_leaves(decision_tree)\n",
    "print(f\"Số lượng lá trong cây quyết định: {num_leaves}\")\n",
    "\n",
    "\n",
    "# Mẫu dữ liệu cần dự đoán\n",
    "sample = {'Outlook': 'Rain', 'Temperature': 'Hot', 'Wind': 'Weak'}\n",
    "\n",
    "def predict(tree, sample):\n",
    "    if not isinstance(tree, dict):  # nếu nút là lá, trả về giá trị của lá\n",
    "        return tree\n",
    "    attribute = next(iter(tree))  # lấy thuộc tính tại nút hiện tại\n",
    "    value = sample[attribute]\n",
    "    subtree = tree[attribute].get(value)\n",
    "    if subtree is None:  # nếu không có nhánh phù hợp, trả về None\n",
    "        return None\n",
    "    return predict(subtree, sample)\n",
    "\n",
    "# Dự đoán kết quả\n",
    "prediction = predict(decision_tree, sample)\n",
    "print(f\"Dự đoán cho mẫu dữ liệu: {prediction}\")"
   ]
  },
  {
   "cell_type": "code",
   "execution_count": null,
   "id": "b0a79188",
   "metadata": {},
   "outputs": [
    {
     "name": "stdout",
     "output_type": "stream",
     "text": [
      "Yes\n"
     ]
    }
   ],
   "source": [
    "def predict(tree, sample):\n",
    "    # tree: cây quyết định đã xây dựng\n",
    "    # sample: dict với các thuộc tính và giá trị, ví dụ {'Outlook': 'Overcast', 'Wind': 'Weak'}\n",
    "\n",
    "    # Nếu tree là một giá trị lá (Yes/No) thì trả về luôn\n",
    "    if not isinstance(tree, dict):\n",
    "        return tree\n",
    "\n",
    "    # Lấy thuộc tính gốc (key đầu tiên trong dict)\n",
    "    root_attr = next(iter(tree))\n",
    "    subtree = tree[root_attr]\n",
    "    sample_value = sample[root_attr]\n",
    "\n",
    "    # Duyệt theo nhánh tương ứng giá trị trong sample\n",
    "    if sample_value in subtree:\n",
    "        return predict(subtree[sample_value], sample)\n",
    "    else:\n",
    "        # Nếu giá trị chưa từng xuất hiện trong huấn luyện, trả về mode (hoặc xử lý mặc định)\n",
    "        return df['PlayTennis'].mode()[0]\n",
    "\n",
    "# Ensure the sample contains all attributes used in the decision tree\n",
    "sample = {'Outlook': 'Overcast', 'Temperature': 'Mild', 'Humidity': 'Wind': 'Weak'}\n",
    "prediction = predict(decision_tree, sample)\n",
    "print(prediction)  # Kết quả: \"Yes\""
   ]
  },
  {
   "cell_type": "markdown",
   "id": "e112826d",
   "metadata": {},
   "source": [
    "## Regression Tree"
   ]
  },
  {
   "cell_type": "code",
   "execution_count": null,
   "id": "0c1678d9",
   "metadata": {},
   "outputs": [],
   "source": []
  },
  {
   "cell_type": "code",
   "execution_count": null,
   "id": "30d9aa20",
   "metadata": {},
   "outputs": [],
   "source": []
  },
  {
   "cell_type": "markdown",
   "id": "04da40b9",
   "metadata": {},
   "source": [
    "# Confirmation\n",
    "\n",
    "Your K-Means clustering on `ai_X` is applied correctly:\n",
    "\n",
    "- Transformed raw counts to TF-IDF and L2-normalized, so Euclidean KMeans approximates cosine similarity.\n",
    "- Used `KMeans.fit_predict` to assign cluster labels and inspected cluster sizes and top terms.\n",
    "- Optionally visualized with PCA.\n",
    "\n",
    "Optional improvement:\n",
    "- You can use `TfidfVectorizer` directly instead of `CountVectorizer` + `TfidfTransformer` for a one-step pipeline.\n",
    "- Evaluate different `k` using silhouette scores or the elbow method."
   ]
  }
 ],
 "metadata": {
  "kernelspec": {
   "display_name": "ds",
   "language": "python",
   "name": "python3"
  },
  "language_info": {
   "codemirror_mode": {
    "name": "ipython",
    "version": 3
   },
   "file_extension": ".py",
   "mimetype": "text/x-python",
   "name": "python",
   "nbconvert_exporter": "python",
   "pygments_lexer": "ipython3",
   "version": "3.10.16"
  }
 },
 "nbformat": 4,
 "nbformat_minor": 5
}
