{
 "cells": [
  {
   "cell_type": "markdown",
   "id": "eec44dcb",
   "metadata": {},
   "source": [
    "### Step-by-step implementation"
   ]
  },
  {
   "cell_type": "code",
   "execution_count": 1,
   "id": "b6a35825",
   "metadata": {},
   "outputs": [
    {
     "data": {
      "text/html": [
       "<div>\n",
       "<style scoped>\n",
       "    .dataframe tbody tr th:only-of-type {\n",
       "        vertical-align: middle;\n",
       "    }\n",
       "\n",
       "    .dataframe tbody tr th {\n",
       "        vertical-align: top;\n",
       "    }\n",
       "\n",
       "    .dataframe thead th {\n",
       "        text-align: right;\n",
       "    }\n",
       "</style>\n",
       "<table border=\"1\" class=\"dataframe\">\n",
       "  <thead>\n",
       "    <tr style=\"text-align: right;\">\n",
       "      <th></th>\n",
       "      <th>Petal_Length</th>\n",
       "      <th>Petal_Width</th>\n",
       "      <th>Label</th>\n",
       "    </tr>\n",
       "  </thead>\n",
       "  <tbody>\n",
       "    <tr>\n",
       "      <th>0</th>\n",
       "      <td>1.4</td>\n",
       "      <td>0.2</td>\n",
       "      <td>0.0</td>\n",
       "    </tr>\n",
       "    <tr>\n",
       "      <th>1</th>\n",
       "      <td>1.3</td>\n",
       "      <td>0.4</td>\n",
       "      <td>0.0</td>\n",
       "    </tr>\n",
       "    <tr>\n",
       "      <th>2</th>\n",
       "      <td>1.4</td>\n",
       "      <td>0.3</td>\n",
       "      <td>0.0</td>\n",
       "    </tr>\n",
       "    <tr>\n",
       "      <th>3</th>\n",
       "      <td>4.0</td>\n",
       "      <td>1.0</td>\n",
       "      <td>1.0</td>\n",
       "    </tr>\n",
       "    <tr>\n",
       "      <th>4</th>\n",
       "      <td>4.7</td>\n",
       "      <td>1.4</td>\n",
       "      <td>1.0</td>\n",
       "    </tr>\n",
       "    <tr>\n",
       "      <th>5</th>\n",
       "      <td>3.6</td>\n",
       "      <td>1.3</td>\n",
       "      <td>1.0</td>\n",
       "    </tr>\n",
       "  </tbody>\n",
       "</table>\n",
       "</div>"
      ],
      "text/plain": [
       "   Petal_Length  Petal_Width  Label\n",
       "0           1.4          0.2    0.0\n",
       "1           1.3          0.4    0.0\n",
       "2           1.4          0.3    0.0\n",
       "3           4.0          1.0    1.0\n",
       "4           4.7          1.4    1.0\n",
       "5           3.6          1.3    1.0"
      ]
     },
     "execution_count": 1,
     "metadata": {},
     "output_type": "execute_result"
    }
   ],
   "source": [
    "import numpy as np\n",
    "import pandas as pd\n",
    "\n",
    "data = pd.read_csv('iris_2D.csv')\n",
    "data"
   ]
  },
  {
   "cell_type": "code",
   "execution_count": null,
   "id": "d2fd775f",
   "metadata": {},
   "outputs": [
    {
     "name": "stdout",
     "output_type": "stream",
     "text": [
      "[[1.4 0.2]\n",
      " [1.3 0.4]\n",
      " [1.4 0.3]\n",
      " [4.  1. ]\n",
      " [4.7 1.4]\n",
      " [3.6 1.3]]\n"
     ]
    }
   ],
   "source": [
    "# 1. data\n",
    "X = data[['Petal_Length', 'Petal_Width']].to_numpy()\n",
    "print(X)"
   ]
  },
  {
   "cell_type": "code",
   "execution_count": 3,
   "id": "f8bb1085",
   "metadata": {},
   "outputs": [
    {
     "name": "stdout",
     "output_type": "stream",
     "text": [
      "Init centroids:  [[1.4 0.2]\n",
      " [1.3 0.4]]\n",
      "(2, 2)\n",
      "distances:  [[0.         0.2236068 ]\n",
      " [0.2236068  0.        ]\n",
      " [0.1        0.14142136]\n",
      " [2.7202941  2.76586334]\n",
      " [3.51140997 3.54400903]\n",
      " [2.45967478 2.46981781]]\n",
      "X: (6, 2)\n",
      "Labels: [0 1 0 0 0 0]\n",
      "Centroids: [[3.02 0.84]\n",
      " [1.3  0.4 ]]\n",
      "distances:  [[1.74183811 0.2236068 ]\n",
      " [1.77538728 0.        ]\n",
      " [1.70762994 0.14142136]\n",
      " [0.99297533 2.76586334]\n",
      " [1.77087549 3.54400903]\n",
      " [0.74027022 2.46981781]]\n",
      "X: (6, 2)\n",
      "Labels: [1 1 1 0 0 0]\n",
      "Centroids: [[4.1        1.23333333]\n",
      " [1.36666667 0.3       ]]\n",
      "WCSS: 0.7333333333333334\n"
     ]
    }
   ],
   "source": [
    "k = 2\n",
    "max_iters = 2\n",
    "\n",
    "# initialize centroids\n",
    "centroids = X[:k]\n",
    "print('Init centroids: ', centroids)\n",
    "print(centroids.shape)\n",
    "\n",
    "for _ in range(max_iters):\n",
    "    # assign points\n",
    "    #distances = np.linalg.norm(X[:, np.newaxis, :] - centroids, axis=2)\n",
    "    distances = np.sqrt( ((X[:, np.newaxis, :] - centroids)**2).sum(axis=2) )\n",
    "    labels = np.argmin(distances, axis=1)\n",
    "    print('distances: ', distances)\n",
    "\n",
    "    # update centroids\n",
    "    print('X:', X.shape)\n",
    "    new_centroids = np.array([X[labels == i].mean(axis=0) for i in range(k)])\n",
    "\n",
    "    # check for convergence\n",
    "    if np.all(centroids == new_centroids):\n",
    "        break\n",
    "\n",
    "    centroids = new_centroids\n",
    "\n",
    "    # print\n",
    "    print(\"Labels:\", labels)\n",
    "    print(\"Centroids:\", centroids)\n",
    "\n",
    "# calculate WCSS\n",
    "wcss = np.sum([np.sum(np.square(X[labels == i] - centroids[i])) for i in range(k)])\n",
    "print(\"WCSS:\", wcss)"
   ]
  },
  {
   "cell_type": "markdown",
   "id": "d1cb13de",
   "metadata": {},
   "source": [
    "### Using sklearn"
   ]
  },
  {
   "cell_type": "code",
   "execution_count": 4,
   "id": "f76c9a9b",
   "metadata": {},
   "outputs": [],
   "source": [
    "import numpy as np\n",
    "import pandas as pd\n",
    "\n",
    "data = pd.read_csv('iris_2D.csv')\n",
    "X = data[['Petal_Length', 'Petal_Width']].to_numpy()"
   ]
  },
  {
   "cell_type": "code",
   "execution_count": 5,
   "id": "2b8a0ae3",
   "metadata": {},
   "outputs": [
    {
     "name": "stdout",
     "output_type": "stream",
     "text": [
      "[0 0 0 1 1 1]\n",
      "0.7333333333333335\n",
      "Cluster 0: [1.4 0.2]\n",
      "Cluster 0: [1.3 0.4]\n",
      "Cluster 0: [1.4 0.3]\n",
      "Cluster 1: [4. 1.]\n",
      "Cluster 1: [4.7 1.4]\n",
      "Cluster 1: [3.6 1.3]\n"
     ]
    }
   ],
   "source": [
    "from sklearn.cluster import KMeans\n",
    "\n",
    "kmeans = KMeans(n_clusters=2)\n",
    "kmeans.fit(X.reshape(-1, 2))\n",
    "labels = kmeans.labels_\n",
    "\n",
    "print(labels)\n",
    "print(kmeans.inertia_)\n",
    "\n",
    "for x, label in zip(X, labels):\n",
    "    print(f\"Cluster {label}: {x}\")"
   ]
  },
  {
   "cell_type": "code",
   "execution_count": null,
   "id": "beed7409",
   "metadata": {},
   "outputs": [],
   "source": []
  },
  {
   "cell_type": "code",
   "execution_count": 6,
   "id": "61a3b29b",
   "metadata": {},
   "outputs": [
    {
     "data": {
      "image/png": "[encoded data removed]",
      "text/plain": [
       "<Figure size 640x480 with 1 Axes>"
      ]
     },
     "metadata": {},
     "output_type": "display_data"
    }
   ],
   "source": [
    "import matplotlib.pyplot as plt\n",
    "\n",
    "wcss_values = []\n",
    "for i in range(1, 6):\n",
    "    kmeans = KMeans(n_clusters=i)\n",
    "    kmeans.fit(X.reshape(-1, 2))\n",
    "    wcss = kmeans.inertia_\n",
    "    wcss_values.append(wcss)\n",
    "\n",
    "plt.plot(range(1, 6), wcss_values)\n",
    "plt.xlabel('Number of Clusters')\n",
    "plt.ylabel('WCSS')\n",
    "plt.title('WCSS vs. Number of Clusters')\n",
    "plt.show()"
   ]
  },
  {
   "cell_type": "code",
   "execution_count": null,
   "id": "5a7ae469",
   "metadata": {},
   "outputs": [],
   "source": []
  }
 ],
 "metadata": {
  "kernelspec": {
   "display_name": "ds",
   "language": "python",
   "name": "python3"
  },
  "language_info": {
   "codemirror_mode": {
    "name": "ipython",
    "version": 3
   },
   "file_extension": ".py",
   "mimetype": "text/x-python",
   "name": "python",
   "nbconvert_exporter": "python",
   "pygments_lexer": "ipython3",
   "version": "3.10.16"
  }
 },
 "nbformat": 4,
 "nbformat_minor": 5
}
