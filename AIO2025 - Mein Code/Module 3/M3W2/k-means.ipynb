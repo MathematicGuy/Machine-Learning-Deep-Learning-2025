{
 "cells": [
  {
   "cell_type": "code",
   "execution_count": 2,
   "id": "8844b9a6",
   "metadata": {},
   "outputs": [
    {
     "data": {
      "text/html": [
       "<div>\n",
       "<style scoped>\n",
       "    .dataframe tbody tr th:only-of-type {\n",
       "        vertical-align: middle;\n",
       "    }\n",
       "\n",
       "    .dataframe tbody tr th {\n",
       "        vertical-align: top;\n",
       "    }\n",
       "\n",
       "    .dataframe thead th {\n",
       "        text-align: right;\n",
       "    }\n",
       "</style>\n",
       "<table border=\"1\" class=\"dataframe\">\n",
       "  <thead>\n",
       "    <tr style=\"text-align: right;\">\n",
       "      <th></th>\n",
       "      <th>Petal_Length</th>\n",
       "      <th>Petal_Width</th>\n",
       "      <th>Label</th>\n",
       "    </tr>\n",
       "  </thead>\n",
       "  <tbody>\n",
       "    <tr>\n",
       "      <th>0</th>\n",
       "      <td>1.4</td>\n",
       "      <td>0.2</td>\n",
       "      <td>0.0</td>\n",
       "    </tr>\n",
       "    <tr>\n",
       "      <th>1</th>\n",
       "      <td>1.3</td>\n",
       "      <td>0.4</td>\n",
       "      <td>0.0</td>\n",
       "    </tr>\n",
       "    <tr>\n",
       "      <th>2</th>\n",
       "      <td>1.4</td>\n",
       "      <td>0.3</td>\n",
       "      <td>0.0</td>\n",
       "    </tr>\n",
       "    <tr>\n",
       "      <th>3</th>\n",
       "      <td>4.0</td>\n",
       "      <td>1.0</td>\n",
       "      <td>1.0</td>\n",
       "    </tr>\n",
       "    <tr>\n",
       "      <th>4</th>\n",
       "      <td>4.7</td>\n",
       "      <td>1.4</td>\n",
       "      <td>1.0</td>\n",
       "    </tr>\n",
       "    <tr>\n",
       "      <th>5</th>\n",
       "      <td>3.6</td>\n",
       "      <td>1.3</td>\n",
       "      <td>1.0</td>\n",
       "    </tr>\n",
       "  </tbody>\n",
       "</table>\n",
       "</div>"
      ],
      "text/plain": [
       "   Petal_Length  Petal_Width  Label\n",
       "0           1.4          0.2    0.0\n",
       "1           1.3          0.4    0.0\n",
       "2           1.4          0.3    0.0\n",
       "3           4.0          1.0    1.0\n",
       "4           4.7          1.4    1.0\n",
       "5           3.6          1.3    1.0"
      ]
     },
     "execution_count": 2,
     "metadata": {},
     "output_type": "execute_result"
    }
   ],
   "source": [
    "import numpy as np\n",
    "import pandas as pd\n",
    "# data = np.random.rand(64, 2)\n",
    "\n",
    "# data1 = data[:, np.newaxis, :]\n",
    "# print(data1.shape)\n",
    "# data2 = data.reshape(1, 1, -1)\n",
    "\n",
    "# # centroid = np.random.rand(5, 2)\n",
    "# # print(centroid.shape)\n",
    "\n",
    "# # dist = (data - centroid)**2\n",
    "# print(data2.shape)\n",
    "\n",
    "df = pd.read_csv('iris_2D.csv')\n",
    "df"
   ]
  },
  {
   "cell_type": "code",
   "execution_count": 3,
   "id": "dc0b0af9",
   "metadata": {},
   "outputs": [
    {
     "data": {
      "text/html": [
       "<div>\n",
       "<style scoped>\n",
       "    .dataframe tbody tr th:only-of-type {\n",
       "        vertical-align: middle;\n",
       "    }\n",
       "\n",
       "    .dataframe tbody tr th {\n",
       "        vertical-align: top;\n",
       "    }\n",
       "\n",
       "    .dataframe thead th {\n",
       "        text-align: right;\n",
       "    }\n",
       "</style>\n",
       "<table border=\"1\" class=\"dataframe\">\n",
       "  <thead>\n",
       "    <tr style=\"text-align: right;\">\n",
       "      <th></th>\n",
       "      <th>Petal_Length</th>\n",
       "      <th>Petal_Width</th>\n",
       "      <th>Label</th>\n",
       "    </tr>\n",
       "  </thead>\n",
       "  <tbody>\n",
       "    <tr>\n",
       "      <th>0</th>\n",
       "      <td>1.4</td>\n",
       "      <td>0.2</td>\n",
       "      <td>0.0</td>\n",
       "    </tr>\n",
       "    <tr>\n",
       "      <th>1</th>\n",
       "      <td>1.3</td>\n",
       "      <td>0.4</td>\n",
       "      <td>0.0</td>\n",
       "    </tr>\n",
       "  </tbody>\n",
       "</table>\n",
       "</div>"
      ],
      "text/plain": [
       "   Petal_Length  Petal_Width  Label\n",
       "0           1.4          0.2    0.0\n",
       "1           1.3          0.4    0.0"
      ]
     },
     "execution_count": 3,
     "metadata": {},
     "output_type": "execute_result"
    }
   ],
   "source": [
    "sample = df.sample(n=2, random_state=42)\n",
    "sample"
   ]
  },
  {
   "cell_type": "code",
   "execution_count": 4,
   "id": "9d6981ed",
   "metadata": {},
   "outputs": [
    {
     "name": "stdout",
     "output_type": "stream",
     "text": [
      "Petal_Length    1.4\n",
      "Petal_Width     0.2\n",
      "Label           0.0\n",
      "Name: 0, dtype: float64\n",
      "\n",
      "Petal_Length    1.3\n",
      "Petal_Width     0.4\n",
      "Label           0.0\n",
      "Name: 1, dtype: float64\n"
     ]
    }
   ],
   "source": [
    "centroid1 = sample.iloc[0]\n",
    "centroid2 = sample.iloc[1]\n",
    "\n",
    "print(centroid1)\n",
    "print()\n",
    "print(centroid2)"
   ]
  },
  {
   "cell_type": "code",
   "execution_count": 5,
   "id": "d39a79e2",
   "metadata": {},
   "outputs": [
    {
     "name": "stdout",
     "output_type": "stream",
     "text": [
      "(32, 4)\n",
      "(3, 4)\n",
      "(32, 3, 4)\n"
     ]
    }
   ],
   "source": [
    "data = np.random.rand(32, 4)\n",
    "print(data.shape)\n",
    "\n",
    "centroid = np.random.rand(3, 4)\n",
    "print(centroid.shape)\n",
    "\n",
    "distance = np.sqrt( (data[:, np.newaxis, :] - centroid) ** 2)\n",
    "print(distance.shape)\n"
   ]
  },
  {
   "cell_type": "code",
   "execution_count": 6,
   "id": "1e7ee06e",
   "metadata": {},
   "outputs": [
    {
     "name": "stdout",
     "output_type": "stream",
     "text": [
      "(32, 3, 4)\n"
     ]
    },
    {
     "data": {
      "text/plain": [
       "(32, 3)"
      ]
     },
     "execution_count": 6,
     "metadata": {},
     "output_type": "execute_result"
    }
   ],
   "source": [
    "square_norm = np.random.rand(32, 3, 4)\n",
    "print(square_norm.shape)\n",
    "\n",
    "np.sqrt(square_norm.sum(axis=2)).shape"
   ]
  },
  {
   "cell_type": "code",
   "execution_count": null,
   "id": "891f3c00",
   "metadata": {},
   "outputs": [
    {
     "name": "stdout",
     "output_type": "stream",
     "text": [
      "(32, 2)\n"
     ]
    },
    {
     "ename": "TypeError",
     "evalue": "array() missing required argument 'object' (pos 0)",
     "output_type": "error",
     "traceback": [
      "\u001b[1;31m---------------------------------------------------------------------------\u001b[0m",
      "\u001b[1;31mTypeError\u001b[0m                                 Traceback (most recent call last)",
      "Cell \u001b[1;32mIn[7], line 4\u001b[0m\n\u001b[0;32m      1\u001b[0m square_norm \u001b[38;5;241m=\u001b[39m np\u001b[38;5;241m.\u001b[39mrandom\u001b[38;5;241m.\u001b[39mrand(\u001b[38;5;241m32\u001b[39m, \u001b[38;5;241m2\u001b[39m)\n\u001b[0;32m      2\u001b[0m \u001b[38;5;28mprint\u001b[39m(square_norm\u001b[38;5;241m.\u001b[39mshape)\n\u001b[1;32m----> 4\u001b[0m \u001b[43mnp\u001b[49m\u001b[38;5;241;43m.\u001b[39;49m\u001b[43marray\u001b[49m\u001b[43m(\u001b[49m\u001b[43m)\u001b[49m\n",
      "\u001b[1;31mTypeError\u001b[0m: array() missing required argument 'object' (pos 0)"
     ]
    }
   ],
   "source": [
    "square_norm = np.random.rand(32, 2)\n",
    "print(square_norm.shape)\n",
    "\n",
    "# np.array()"
   ]
  },
  {
   "attachments": {
    "image.png": {
     "image/png": "[encoded data removed]"
    }
   },
   "cell_type": "markdown",
   "id": "8c991c86",
   "metadata": {},
   "source": [
    "![image.png](attachment:image.png)"
   ]
  },
  {
   "cell_type": "code",
   "execution_count": 13,
   "id": "16e54693",
   "metadata": {},
   "outputs": [
    {
     "name": "stdout",
     "output_type": "stream",
     "text": [
      "(64, 2)\n",
      "(64, 1, 2)\n",
      "(1, 1, 128)\n",
      "[[0.51172789 0.07590262]]\n",
      "(1, 2)\n"
     ]
    }
   ],
   "source": [
    "import numpy as np\n",
    "data = np.random.rand(64, 2)\n",
    "data1 = data[:, np.newaxis, :]\n",
    "data2 = data.reshape(1, 1, -1)\n",
    "print(data.shape)\n",
    "print(data1.shape)\n",
    "print(data2.shape)\n",
    "\n",
    "\n",
    "centroid = np.random.rand(1, 2)\n",
    "print(centroid)\n",
    "print(centroid.shape)\n"
   ]
  },
  {
   "cell_type": "code",
   "execution_count": null,
   "id": "34bebed4",
   "metadata": {},
   "outputs": [],
   "source": []
  },
  {
   "cell_type": "code",
   "execution_count": null,
   "id": "9b252228",
   "metadata": {},
   "outputs": [],
   "source": []
  }
 ],
 "metadata": {
  "kernelspec": {
   "display_name": "ds",
   "language": "python",
   "name": "python3"
  },
  "language_info": {
   "codemirror_mode": {
    "name": "ipython",
    "version": 3
   },
   "file_extension": ".py",
   "mimetype": "text/x-python",
   "name": "python",
   "nbconvert_exporter": "python",
   "pygments_lexer": "ipython3",
   "version": "3.10.16"
  }
 },
 "nbformat": 4,
 "nbformat_minor": 5
}
