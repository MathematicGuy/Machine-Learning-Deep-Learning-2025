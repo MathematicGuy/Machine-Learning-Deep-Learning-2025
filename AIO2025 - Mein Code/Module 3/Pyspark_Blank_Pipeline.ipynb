{
  "nbformat": 4,
  "nbformat_minor": 0,
  "metadata": {
    "colab": {
      "provenance": [],
      "collapsed_sections": [
        "8eX8826j---V",
        "YpzljPvTlLDz",
        "HqNq7FhjpSXB",
        "S757Neq8rNoo",
        "SiQ_jaUprQpe",
        "188-32Mxtm85",
        "BpShGvaPxD36",
        "8CeEnbGXxSGx"
      ],
      "gpuType": "T4"
    },
    "kernelspec": {
      "name": "python3",
      "display_name": "Python 3"
    },
    "language_info": {
      "name": "python"
    }
  },
  "cells": [
    {
      "cell_type": "markdown",
      "source": [
        "# 0 - Setting"
      ],
      "metadata": {
        "id": "8eX8826j---V"
      }
    },
    {
      "cell_type": "markdown",
      "source": [
        "## 0.0 Tải dữ liệu"
      ],
      "metadata": {
        "id": "YpzljPvTlLDz"
      }
    },
    {
      "cell_type": "code",
      "execution_count": 1,
      "metadata": {
        "colab": {
          "base_uri": "https://localhost:8080/"
        },
        "id": "wdLnbpxYk0s7",
        "outputId": "1f63a2e1-1392-41a2-a4a9-4dd4579a8554"
      },
      "outputs": [
        {
          "output_type": "stream",
          "name": "stdout",
          "text": [
            "Downloading...\n",
            "From (original): https://drive.google.com/uc?id=1Lpc9y4VAJtoWNjYIem8TrxB6GyxQclFX\n",
            "From (redirected): https://drive.google.com/uc?id=1Lpc9y4VAJtoWNjYIem8TrxB6GyxQclFX&confirm=t&uuid=a8cbf442-ca6a-4210-976a-72f6180c03b3\n",
            "To: /content/retail_transactions_dataset.zip\n",
            "100% 37.3M/37.3M [00:00<00:00, 93.0MB/s]\n"
          ]
        }
      ],
      "source": [
        "!gdown 1Lpc9y4VAJtoWNjYIem8TrxB6GyxQclFX"
      ]
    },
    {
      "cell_type": "code",
      "source": [
        "\n",
        "!unzip retail_transactions_dataset.zip"
      ],
      "metadata": {
        "colab": {
          "base_uri": "https://localhost:8080/"
        },
        "id": "B3xTkMy4lKTC",
        "outputId": "4961345a-0315-4212-c5af-b5be39cf9413"
      },
      "execution_count": 2,
      "outputs": [
        {
          "output_type": "stream",
          "name": "stdout",
          "text": [
            "Archive:  retail_transactions_dataset.zip\n",
            "  inflating: Retail_Transactions_Dataset.csv  \n"
          ]
        }
      ]
    },
    {
      "cell_type": "markdown",
      "source": [
        "## 0.1 Import thư viện"
      ],
      "metadata": {
        "id": "HqNq7FhjpSXB"
      }
    },
    {
      "cell_type": "code",
      "source": [
        "from pyspark.sql import SparkSession\n",
        "from pyspark.sql.functions import *\n",
        "from pyspark.sql.types import *\n",
        "from pyspark.sql.window import Window\n",
        "import pandas as pd\n",
        "from datetime import datetime"
      ],
      "metadata": {
        "id": "jussUnzjlSDU"
      },
      "execution_count": 3,
      "outputs": []
    },
    {
      "cell_type": "markdown",
      "source": [
        "## 0.2 Khởi tạo Spark"
      ],
      "metadata": {
        "id": "S757Neq8rNoo"
      }
    },
    {
      "cell_type": "code",
      "source": [
        "spark = SparkSession.builder \\\n",
        "    .appName(\"CustomerTransactionAnalysis\") \\\n",
        "    .config(\"spark.sql.adaptive.enabled\", \"true\") \\\n",
        "    .config(\"spark.sql.adaptive.coalescePartitions.enabled\", \"true\") \\\n",
        "    .getOrCreate()\n",
        "\n",
        "spark"
      ],
      "metadata": {
        "colab": {
          "base_uri": "https://localhost:8080/",
          "height": 310
        },
        "id": "z_4ffZYgpd_X",
        "outputId": "804856cb-259b-42ae-b9ab-d18f645bde77"
      },
      "execution_count": 4,
      "outputs": [
        {
          "output_type": "execute_result",
          "data": {
            "text/plain": [
              "<pyspark.sql.session.SparkSession at 0x7dd00b16fb30>"
            ],
            "text/html": [
              "\n",
              "            <div>\n",
              "                <p><b>SparkSession - in-memory</b></p>\n",
              "                \n",
              "        <div>\n",
              "            <p><b>SparkContext</b></p>\n",
              "\n",
              "            <p><a href=\"http://dec9d9df98a1:4040\">Spark UI</a></p>\n",
              "\n",
              "            <dl>\n",
              "              <dt>Version</dt>\n",
              "                <dd><code>v3.5.1</code></dd>\n",
              "              <dt>Master</dt>\n",
              "                <dd><code>local[*]</code></dd>\n",
              "              <dt>AppName</dt>\n",
              "                <dd><code>CustomerTransactionAnalysis</code></dd>\n",
              "            </dl>\n",
              "        </div>\n",
              "        \n",
              "            </div>\n",
              "        "
            ]
          },
          "metadata": {},
          "execution_count": 4
        }
      ]
    },
    {
      "cell_type": "markdown",
      "source": [
        "## 0.3 Load dữ liệu"
      ],
      "metadata": {
        "id": "SiQ_jaUprQpe"
      }
    },
    {
      "cell_type": "code",
      "source": [
        "df = spark.read.csv('Retail_Transactions_Dataset.csv', header=True, inferSchema=True)"
      ],
      "metadata": {
        "id": "orjkpBPKpeCn"
      },
      "execution_count": 5,
      "outputs": []
    },
    {
      "cell_type": "code",
      "source": [
        "print(\"Schema:\")\n",
        "df.printSchema()"
      ],
      "metadata": {
        "colab": {
          "base_uri": "https://localhost:8080/"
        },
        "id": "4tYIFDvRlX77",
        "outputId": "f279419f-a6a6-4bef-d0a4-026f8c2acf1a"
      },
      "execution_count": 6,
      "outputs": [
        {
          "output_type": "stream",
          "name": "stdout",
          "text": [
            "Schema:\n",
            "root\n",
            " |-- Transaction_ID: integer (nullable = true)\n",
            " |-- Date: timestamp (nullable = true)\n",
            " |-- Customer_Name: string (nullable = true)\n",
            " |-- Product: string (nullable = true)\n",
            " |-- Total_Items: integer (nullable = true)\n",
            " |-- Total_Cost: double (nullable = true)\n",
            " |-- Payment_Method: string (nullable = true)\n",
            " |-- City: string (nullable = true)\n",
            " |-- Store_Type: string (nullable = true)\n",
            " |-- Discount_Applied: boolean (nullable = true)\n",
            " |-- Customer_Category: string (nullable = true)\n",
            " |-- Season: string (nullable = true)\n",
            " |-- Promotion: string (nullable = true)\n",
            "\n"
          ]
        }
      ]
    },
    {
      "cell_type": "code",
      "source": [
        "print(\"\\nFirst 5 rows:\")\n",
        "df.show(5)"
      ],
      "metadata": {
        "colab": {
          "base_uri": "https://localhost:8080/"
        },
        "id": "zMu_EroDlbc1",
        "outputId": "6325dfdb-2b06-45e3-98d3-1faad8105452"
      },
      "execution_count": 7,
      "outputs": [
        {
          "output_type": "stream",
          "name": "stdout",
          "text": [
            "\n",
            "First 5 rows:\n",
            "+--------------+-------------------+-----------------+--------------------+-----------+----------+--------------+-------------+----------------+----------------+-----------------+------+--------------------+\n",
            "|Transaction_ID|               Date|    Customer_Name|             Product|Total_Items|Total_Cost|Payment_Method|         City|      Store_Type|Discount_Applied|Customer_Category|Season|           Promotion|\n",
            "+--------------+-------------------+-----------------+--------------------+-----------+----------+--------------+-------------+----------------+----------------+-----------------+------+--------------------+\n",
            "|    1000000000|2022-01-21 06:27:29|     Stacey Price|['Ketchup', 'Shav...|          3|     71.65|Mobile Payment|  Los Angeles|  Warehouse Club|            true|        Homemaker|Winter|                None|\n",
            "|    1000000001|2023-03-01 13:01:21| Michelle Carlson|['Ice Cream', 'Mi...|          2|     25.93|          Cash|San Francisco| Specialty Store|            true|     Professional|  Fall|BOGO (Buy One Get...|\n",
            "|    1000000002|2024-03-21 15:37:04|      Lisa Graves|         ['Spinach']|          6|     41.49|   Credit Card|      Houston|Department Store|            true|     Professional|Winter|                None|\n",
            "|    1000000003|2020-10-31 09:59:47|Mrs. Patricia May|['Tissues', 'Must...|          1|     39.34|Mobile Payment|      Chicago|        Pharmacy|            true|        Homemaker|Spring|                None|\n",
            "|    1000000004|2020-12-10 00:59:59|   Susan Mitchell|       ['Dish Soap']|         10|     16.42|    Debit Card|      Houston| Specialty Store|           false|      Young Adult|Winter|Discount on Selec...|\n",
            "+--------------+-------------------+-----------------+--------------------+-----------+----------+--------------+-------------+----------------+----------------+-----------------+------+--------------------+\n",
            "only showing top 5 rows\n",
            "\n"
          ]
        }
      ]
    },
    {
      "cell_type": "code",
      "source": [
        "print(f\"\\nTotal records: {df.count()}\")"
      ],
      "metadata": {
        "colab": {
          "base_uri": "https://localhost:8080/"
        },
        "id": "bgSPXo6Cles3",
        "outputId": "0b9601bc-5466-46e1-b492-828bd96ba763"
      },
      "execution_count": 8,
      "outputs": [
        {
          "output_type": "stream",
          "name": "stdout",
          "text": [
            "\n",
            "Total records: 1000000\n"
          ]
        }
      ]
    },
    {
      "cell_type": "markdown",
      "source": [
        "# 1.0 Các thao tác với Column"
      ],
      "metadata": {
        "id": "r5BKIiGpskcu"
      }
    },
    {
      "cell_type": "markdown",
      "source": [
        "## Add"
      ],
      "metadata": {
        "id": "03CNsv9tsmAW"
      }
    },
    {
      "cell_type": "code",
      "source": [
        "# Code add column (try by your self)\n",
        "df.withColumn(\"Avg_Item_Price\", col(\"Total_Cost\") / col(\"Total_Items\"))"
      ],
      "metadata": {
        "id": "8Svc6vSKslgX",
        "colab": {
          "base_uri": "https://localhost:8080/"
        },
        "outputId": "a7a76548-a60b-483d-a65a-be56f3a27bb2"
      },
      "execution_count": 9,
      "outputs": [
        {
          "output_type": "execute_result",
          "data": {
            "text/plain": [
              "DataFrame[Transaction_ID: int, Date: timestamp, Customer_Name: string, Product: string, Total_Items: int, Total_Cost: double, Payment_Method: string, City: string, Store_Type: string, Discount_Applied: boolean, Customer_Category: string, Season: string, Promotion: string, Avg_Item_Price: double]"
            ]
          },
          "metadata": {},
          "execution_count": 9
        }
      ]
    },
    {
      "cell_type": "code",
      "source": [
        "from pyspark.sql.functions import col, sum as F_sum, count as F_count\n",
        "\n",
        "# Dòng 1: Tính giá trung bình của từng mặt hàng (cú pháp đúng)\n",
        "df_with_avg_price = df.withColumn(\"Avg_Item_Price\", col(\"Total_Cost\") / col(\"Total_Items\"))\n",
        "\n",
        "# Dòng 2: Cách tính tổng doanh thu (Total Sales)\n",
        "# Cách 1: Tạo DataFrame mới với một hàng và một cột duy nhất chứa tổng doanh thu\n",
        "total_sales_df = df.agg(F_sum(\"Total_Cost\").alias(\"Total_Sales\"))\n",
        "\n",
        "# Cách 2: Lấy giá trị tổng doanh thu dưới dạng số\n",
        "total_sales_value = df.select(F_sum(\"Total_Cost\")).collect()[0][0]\n",
        "\n",
        "# Dòng 3: Cách đếm tổng số giao dịch (Transaction Count)\n",
        "# Cách 1: Tạo DataFrame mới với một hàng và một cột duy nhất chứa tổng số giao dịch\n",
        "transaction_count_df = df.agg(F_count(\"Transaction_ID\").alias(\"Transaction_Count\"))\n",
        "\n",
        "# Cách 2: Lấy giá trị tổng số giao dịch dưới dạng số\n",
        "transaction_count_value = df.count()"
      ],
      "metadata": {
        "id": "e0IWSiIUG1xt"
      },
      "execution_count": 10,
      "outputs": []
    },
    {
      "cell_type": "code",
      "source": [
        "total_sales_df"
      ],
      "metadata": {
        "colab": {
          "base_uri": "https://localhost:8080/"
        },
        "id": "Im-9rIArIK-p",
        "outputId": "eb6802ab-c98e-43cb-94a3-54eb9423c09f"
      },
      "execution_count": 11,
      "outputs": [
        {
          "output_type": "execute_result",
          "data": {
            "text/plain": [
              "DataFrame[Total_Sales: double]"
            ]
          },
          "metadata": {},
          "execution_count": 11
        }
      ]
    },
    {
      "cell_type": "code",
      "source": [
        "total_sales_value"
      ],
      "metadata": {
        "colab": {
          "base_uri": "https://localhost:8080/"
        },
        "id": "DaGY3A9hHbU0",
        "outputId": "a8d1bfed-0771-4ed0-b9e1-83d41e76c512"
      },
      "execution_count": 12,
      "outputs": [
        {
          "output_type": "execute_result",
          "data": {
            "text/plain": [
              "52455220.40000056"
            ]
          },
          "metadata": {},
          "execution_count": 12
        }
      ]
    },
    {
      "cell_type": "code",
      "source": [
        "transaction_count_df"
      ],
      "metadata": {
        "colab": {
          "base_uri": "https://localhost:8080/"
        },
        "id": "yQ_o7XODINez",
        "outputId": "452c58be-85e6-4db6-f241-50076084f228"
      },
      "execution_count": 13,
      "outputs": [
        {
          "output_type": "execute_result",
          "data": {
            "text/plain": [
              "DataFrame[Transaction_Count: bigint]"
            ]
          },
          "metadata": {},
          "execution_count": 13
        }
      ]
    },
    {
      "cell_type": "code",
      "source": [
        "sales_by_city = df.groupBy(\"City\").agg(F_sum(\"Total_Cost\").alias(\"Total_Sales\"))\n",
        "sales_by_city.orderBy(desc(\"Total_Sales\")).show()"
      ],
      "metadata": {
        "colab": {
          "base_uri": "https://localhost:8080/"
        },
        "id": "OgQ5TGyRIUJe",
        "outputId": "5ced6c40-b892-4400-d57e-33b16f06ffc0"
      },
      "execution_count": 14,
      "outputs": [
        {
          "output_type": "stream",
          "name": "stdout",
          "text": [
            "+-------------+------------------+\n",
            "|         City|       Total_Sales|\n",
            "+-------------+------------------+\n",
            "|       Dallas| 5277111.530000005|\n",
            "|       Boston| 5263307.959999996|\n",
            "|      Chicago| 5263187.449999998|\n",
            "|     New York| 5252469.919999966|\n",
            "|      Houston| 5247054.779999969|\n",
            "|San Francisco|5241099.8599999845|\n",
            "|        Miami| 5240498.440000016|\n",
            "|      Seattle| 5235365.430000044|\n",
            "|  Los Angeles| 5232393.189999955|\n",
            "|      Atlanta| 5202731.840000003|\n",
            "+-------------+------------------+\n",
            "\n"
          ]
        }
      ]
    },
    {
      "cell_type": "code",
      "source": [
        "df_analysis = df.groupBy(\"Product\").agg(\n",
        "    sum(\"Total_Items\").alias(\"Total_Units_Sold\"),       # Tổng số lượng sản phẩm bán ra\n",
        "    sum(\"Total_Cost\").alias(\"Total_Revenue\"),           # Tổng doanh thu\n",
        "    avg(\"Total_Cost\").alias(\"Avg_Product_Price\"),       # Giá trung bình mỗi giao dịch\n",
        "    countDistinct(\"Customer_Name\").alias(\"Unique_Customers\") # Số khách hàng duy nhất\n",
        ")\n",
        "\n",
        "df_result = df_analysis.orderBy(desc(\"Total_Revenue\"))\n",
        "\n",
        "df_result.show()\n",
        "\n",
        "top_product = df_result.first()\n",
        "print(\"Sản phẩm có Total_Revenue cao nhất là:\", top_product[\"Product\"])\n",
        "print(\"Với tổng doanh thu là:\", top_product[\"Total_Revenue\"])"
      ],
      "metadata": {
        "colab": {
          "base_uri": "https://localhost:8080/"
        },
        "id": "RfIoaPdRIgNj",
        "outputId": "e9e650f8-cdc8-4064-a880-805c1eab48cf"
      },
      "execution_count": 15,
      "outputs": [
        {
          "output_type": "stream",
          "name": "stdout",
          "text": [
            "+-------------------+----------------+------------------+------------------+----------------+\n",
            "|            Product|Total_Units_Sold|     Total_Revenue| Avg_Product_Price|Unique_Customers|\n",
            "+-------------------+----------------+------------------+------------------+----------------+\n",
            "|     ['Toothpaste']|           26891|253689.00999999975| 51.84733496832204|            4728|\n",
            "|          ['Honey']|           13834|135409.84999999998| 53.31096456692912|            2498|\n",
            "|      ['Deodorant']|           13753|         133082.77|52.374171585989764|            2492|\n",
            "|          ['Pasta']|           13820| 131765.6899999999|52.854267950260684|            2450|\n",
            "|           ['Eggs']|           13632| 131565.7099999999|  52.3124095427435|            2469|\n",
            "|        ['Vinegar']|           13736|131538.38999999998| 52.51033532934131|            2456|\n",
            "|           ['Soap']|           13685|131183.27999999997| 52.93917675544793|            2437|\n",
            "|         ['Razors']|           13618|130956.56999999992|53.040328068043706|            2433|\n",
            "|         ['Salmon']|           13442|         130940.12| 53.27100081366965|            2420|\n",
            "|            ['Jam']|           13410|130617.22000000003| 52.56226156941651|            2444|\n",
            "|['Extension Cords']|           13755|130502.96999999986| 52.79246359223295|            2430|\n",
            "| ['Cleaning Spray']|           13686|130475.40999999995| 52.12761086695963|            2465|\n",
            "|        ['Pickles']|           13642|130310.89000000006| 52.92887489845656|            2426|\n",
            "|  ['Cleaning Rags']|           13615|130167.12999999989|52.234000802568175|            2444|\n",
            "|     ['Trash Bags']|           13510|         130093.22| 52.41467365028203|            2427|\n",
            "|  ['Air Freshener']|           13499|129691.40000000002|53.591487603305794|            2384|\n",
            "|           ['Tuna']|           13415|129564.03999999998| 52.51886501824077|            2423|\n",
            "|            ['Tea']|           13556|129554.90000000002| 52.75036644951141|            2420|\n",
            "|        ['Diapers']|           13510|129471.39000000001| 52.82390452876378|            2414|\n",
            "|           ['Beef']|           13765|129424.02000000008| 52.08210060362176|            2437|\n",
            "+-------------------+----------------+------------------+------------------+----------------+\n",
            "only showing top 20 rows\n",
            "\n",
            "Sản phẩm có Total_Revenue cao nhất là: ['Toothpaste']\n",
            "Với tổng doanh thu là: 253689.00999999975\n"
          ]
        }
      ]
    },
    {
      "cell_type": "code",
      "source": [
        "window_spec = Window.partitionBy(\"City\").orderBy(desc(\"Total_Cost\"))\n",
        "\n",
        "df_ranked = df.withColumn(\"rank_in_city\", rank().over(window_spec))\n",
        "# df_ranked.show()\n",
        "df_ranked.filter(col(\"City\") == \"Boston\").show(10)"
      ],
      "metadata": {
        "colab": {
          "base_uri": "https://localhost:8080/"
        },
        "id": "Q8f-7-epJT_o",
        "outputId": "937cee9c-26d3-4bea-ce52-e607ef41010a"
      },
      "execution_count": 16,
      "outputs": [
        {
          "output_type": "stream",
          "name": "stdout",
          "text": [
            "+--------------+-------------------+---------------+--------------------+-----------+----------+--------------+------+-----------------+----------------+-----------------+------+--------------------+------------+\n",
            "|Transaction_ID|               Date|  Customer_Name|             Product|Total_Items|Total_Cost|Payment_Method|  City|       Store_Type|Discount_Applied|Customer_Category|Season|           Promotion|rank_in_city|\n",
            "+--------------+-------------------+---------------+--------------------+-----------+----------+--------------+------+-----------------+----------------+-----------------+------+--------------------+------------+\n",
            "|    1000219055|2023-01-13 16:43:32|   John Roberts|['Extension Cords...|          7|     100.0|   Credit Card|Boston|      Supermarket|           false|      Middle-Aged|Spring|Discount on Selec...|           1|\n",
            "|    1000354310|2021-03-08 23:23:58|     Lisa Young|['Chips', 'Hand S...|          5|     100.0|    Debit Card|Boston|Convenience Store|           false|        Homemaker|Spring|Discount on Selec...|           1|\n",
            "|    1000447874|2021-02-20 09:33:08|   Robert Foley| ['Broom', 'Shrimp']|          9|     100.0|Mobile Payment|Boston| Department Store|            true|        Homemaker|  Fall|BOGO (Buy One Get...|           1|\n",
            "|    1000712936|2022-05-14 04:27:35|    Aaron Myers|['Shaving Cream',...|          4|     100.0|   Credit Card|Boston|      Supermarket|            true|        Homemaker|  Fall|BOGO (Buy One Get...|           1|\n",
            "|    1000960304|2023-02-15 22:23:31|  Melissa Smith|['Air Freshener',...|          9|     100.0|          Cash|Boston|Convenience Store|           false|   Senior Citizen|Spring|                None|           1|\n",
            "|    1000031619|2021-12-02 11:18:14| Jordan Randall|['Vinegar', 'Pick...|          4|     99.99|          Cash|Boston|  Specialty Store|           false|          Student|  Fall|Discount on Selec...|           6|\n",
            "|    1000305143|2022-02-23 01:31:22| Michele Herman|['Cleaning Spray'...|          7|     99.99|    Debit Card|Boston|   Warehouse Club|           false|      Middle-Aged|Spring|Discount on Selec...|           6|\n",
            "|    1000532398|2021-04-07 11:08:40|   Robert Huber|      ['Toothpaste']|          4|     99.99|    Debit Card|Boston|         Pharmacy|           false|        Homemaker|Winter|Discount on Selec...|           6|\n",
            "|    1000574392|2020-04-04 04:38:06|Andrea Mckinney|['Potatoes', 'Dis...|          4|     99.99|    Debit Card|Boston| Department Store|            true|         Teenager|Spring|Discount on Selec...|           6|\n",
            "|    1000624746|2023-04-01 12:25:21| James Sheppard|['Cheese', 'Shrim...|          6|     99.99|   Credit Card|Boston|  Specialty Store|            true|      Young Adult|  Fall|                None|           6|\n",
            "+--------------+-------------------+---------------+--------------------+-----------+----------+--------------+------+-----------------+----------------+-----------------+------+--------------------+------------+\n",
            "only showing top 10 rows\n",
            "\n"
          ]
        }
      ]
    },
    {
      "cell_type": "code",
      "source": [
        "window_spec_customer = Window.partitionBy(\"Customer_Name\").orderBy(\"Date\").rowsBetween(Window.unboundedPreceding, 0)\n",
        "\n",
        "df_running_total = df.withColumn(\"Running_Total\", sum(\"Total_Cost\").over(window_spec_customer))"
      ],
      "metadata": {
        "id": "VLPO28X9LEFs"
      },
      "execution_count": 17,
      "outputs": []
    },
    {
      "cell_type": "code",
      "source": [
        "# df_running_total.filter((col(\"Customer_Name\") == \"Aaron Allen\") & (col(\"Date\") == \"2020-10-08\")).show()\n",
        "df_running_total_1 = df_running_total.filter(col(\"Customer_Name\") == \"Aaron Allen\")\n",
        "df_running_total_2 = df_running_total_1.filter(col(\"Date\") == \"2020-10-08\").show()"
      ],
      "metadata": {
        "colab": {
          "base_uri": "https://localhost:8080/"
        },
        "id": "oHrLjcEBMYCB",
        "outputId": "62e71eca-ee8a-4f45-9f29-70771b2c50c3"
      },
      "execution_count": 18,
      "outputs": [
        {
          "output_type": "stream",
          "name": "stdout",
          "text": [
            "+--------------+----+-------------+-------+-----------+----------+--------------+----+----------+----------------+-----------------+------+---------+-------------+\n",
            "|Transaction_ID|Date|Customer_Name|Product|Total_Items|Total_Cost|Payment_Method|City|Store_Type|Discount_Applied|Customer_Category|Season|Promotion|Running_Total|\n",
            "+--------------+----+-------------+-------+-----------+----------+--------------+----+----------+----------------+-----------------+------+---------+-------------+\n",
            "+--------------+----+-------------+-------+-----------+----------+--------------+----+----------+----------------+-----------------+------+---------+-------------+\n",
            "\n"
          ]
        }
      ]
    },
    {
      "cell_type": "markdown",
      "source": [
        "## Drop"
      ],
      "metadata": {
        "id": "b-J5lpM1ssPl"
      }
    },
    {
      "cell_type": "code",
      "source": [
        "df_reduced = df.drop(\"Index\")"
      ],
      "metadata": {
        "id": "MoKInCyHsp5Z"
      },
      "execution_count": 19,
      "outputs": []
    },
    {
      "cell_type": "markdown",
      "source": [
        "## Rename"
      ],
      "metadata": {
        "id": "188-32Mxtm85"
      }
    },
    {
      "cell_type": "code",
      "source": [
        "df_renamed = df.withColumnRenamed(\"Total_Items\", \"Quantity\") \\\n",
        "               .withColumnRenamed(\"Total_Cost\", \"Amount\")"
      ],
      "metadata": {
        "id": "sHi7VtRPtk55"
      },
      "execution_count": 20,
      "outputs": []
    },
    {
      "cell_type": "markdown",
      "source": [
        "## User Define Functions"
      ],
      "metadata": {
        "id": "khyQXtqwtpB6"
      }
    },
    {
      "cell_type": "code",
      "source": [
        "# Custom UDF for customer segmentation\n",
        "def categorize_customer(total_spent):\n",
        "    if total_spent > 5000:\n",
        "        return \"VIP\"\n",
        "    elif total_spent > 2000:\n",
        "        return \"Premium\"\n",
        "    elif total_spent > 500:\n",
        "        return \"Regular\"\n",
        "    else:\n",
        "        return \"Occasional\""
      ],
      "metadata": {
        "id": "a-N8aH1LtvIf"
      },
      "execution_count": 21,
      "outputs": []
    },
    {
      "cell_type": "code",
      "source": [
        "categorize_udf = udf(categorize_customer, StringType())"
      ],
      "metadata": {
        "id": "ZjUyQCqPt0x9"
      },
      "execution_count": 22,
      "outputs": []
    },
    {
      "cell_type": "code",
      "source": [
        "df_with_segment = df.withColumn(\"Spend_Category\", categorize_udf(col(\"Total_Cost\")))\n",
        "df_with_segment.show(5)"
      ],
      "metadata": {
        "colab": {
          "base_uri": "https://localhost:8080/"
        },
        "id": "wCwdysuat1HZ",
        "outputId": "20cba243-b09b-4338-b0c4-907d464d6364"
      },
      "execution_count": 23,
      "outputs": [
        {
          "output_type": "stream",
          "name": "stdout",
          "text": [
            "+--------------+-------------------+-----------------+--------------------+-----------+----------+--------------+-------------+----------------+----------------+-----------------+------+--------------------+--------------+\n",
            "|Transaction_ID|               Date|    Customer_Name|             Product|Total_Items|Total_Cost|Payment_Method|         City|      Store_Type|Discount_Applied|Customer_Category|Season|           Promotion|Spend_Category|\n",
            "+--------------+-------------------+-----------------+--------------------+-----------+----------+--------------+-------------+----------------+----------------+-----------------+------+--------------------+--------------+\n",
            "|    1000000000|2022-01-21 06:27:29|     Stacey Price|['Ketchup', 'Shav...|          3|     71.65|Mobile Payment|  Los Angeles|  Warehouse Club|            true|        Homemaker|Winter|                None|    Occasional|\n",
            "|    1000000001|2023-03-01 13:01:21| Michelle Carlson|['Ice Cream', 'Mi...|          2|     25.93|          Cash|San Francisco| Specialty Store|            true|     Professional|  Fall|BOGO (Buy One Get...|    Occasional|\n",
            "|    1000000002|2024-03-21 15:37:04|      Lisa Graves|         ['Spinach']|          6|     41.49|   Credit Card|      Houston|Department Store|            true|     Professional|Winter|                None|    Occasional|\n",
            "|    1000000003|2020-10-31 09:59:47|Mrs. Patricia May|['Tissues', 'Must...|          1|     39.34|Mobile Payment|      Chicago|        Pharmacy|            true|        Homemaker|Spring|                None|    Occasional|\n",
            "|    1000000004|2020-12-10 00:59:59|   Susan Mitchell|       ['Dish Soap']|         10|     16.42|    Debit Card|      Houston| Specialty Store|           false|      Young Adult|Winter|Discount on Selec...|    Occasional|\n",
            "+--------------+-------------------+-----------------+--------------------+-----------+----------+--------------+-------------+----------------+----------------+-----------------+------+--------------------+--------------+\n",
            "only showing top 5 rows\n",
            "\n"
          ]
        }
      ]
    },
    {
      "cell_type": "markdown",
      "source": [
        "# 2.0 Các thao tác với DataFrame"
      ],
      "metadata": {
        "id": "bVhaJKyArlxW"
      }
    },
    {
      "cell_type": "markdown",
      "source": [
        "## Select"
      ],
      "metadata": {
        "id": "Mg1ZRgQ2roBV"
      }
    },
    {
      "cell_type": "code",
      "source": [
        "selected_df = df.select(\"Transaction_ID\", \"Date\", \"Customer_Name\", \"Product\", \"Total_Cost\")"
      ],
      "metadata": {
        "id": "O53I_8LJrgF8"
      },
      "execution_count": 24,
      "outputs": []
    },
    {
      "cell_type": "markdown",
      "source": [
        "## Filter"
      ],
      "metadata": {
        "id": "7iOV88Eqrzxm"
      }
    },
    {
      "cell_type": "code",
      "source": [
        "high_value_transactions = df.filter(col(\"Total_Cost\") > 1000)\n",
        "credit_card_transactions = df.filter(col(\"Payment_Method\") == \"Credit Card\")"
      ],
      "metadata": {
        "id": "Hy4nWisqruRa"
      },
      "execution_count": 25,
      "outputs": []
    },
    {
      "cell_type": "markdown",
      "source": [
        "## Transform"
      ],
      "metadata": {
        "id": "7Xu7USjBr3QX"
      }
    },
    {
      "cell_type": "code",
      "source": [
        "# Transform data - create new calculated columns\n",
        "# Your code here"
      ],
      "metadata": {
        "id": "deKk468cr1FF"
      },
      "execution_count": 26,
      "outputs": []
    },
    {
      "cell_type": "markdown",
      "source": [
        "# 3.0 Aggregations"
      ],
      "metadata": {
        "id": "m3HPbW9Lt6A0"
      }
    },
    {
      "cell_type": "markdown",
      "source": [
        "## Group By"
      ],
      "metadata": {
        "id": "WMwSK5hVuXej"
      }
    },
    {
      "cell_type": "code",
      "source": [
        "# Basic aggregations\n",
        "# Your code here"
      ],
      "metadata": {
        "id": "1yDpATpGt2Eo"
      },
      "execution_count": 27,
      "outputs": []
    },
    {
      "cell_type": "markdown",
      "source": [
        "## Statistical Calculations"
      ],
      "metadata": {
        "id": "ou_xQNenui2c"
      }
    },
    {
      "cell_type": "code",
      "source": [
        "# Product performance analysis\n",
        "# Your code here"
      ],
      "metadata": {
        "id": "fTxKIg4mudrV"
      },
      "execution_count": 28,
      "outputs": []
    },
    {
      "cell_type": "markdown",
      "source": [
        "# 4.0 Window Functions for Advanced Analytics"
      ],
      "metadata": {
        "id": "TlnfSZu-u8QU"
      }
    },
    {
      "cell_type": "code",
      "source": [
        "# Customer spending ranking by city\n",
        "# Your code here"
      ],
      "metadata": {
        "id": "vP0LecrnunIn"
      },
      "execution_count": 29,
      "outputs": []
    },
    {
      "cell_type": "code",
      "source": [
        "# Running total by customer\n",
        "# Your code here"
      ],
      "metadata": {
        "id": "75EIfJaCvATh"
      },
      "execution_count": 30,
      "outputs": []
    },
    {
      "cell_type": "markdown",
      "source": [
        "# 5.0 RFM Analysis (Recency, Frequency, Monetary)"
      ],
      "metadata": {
        "id": "k_yMQzs3vD8L"
      }
    },
    {
      "cell_type": "code",
      "source": [
        "current_date = datetime.now()"
      ],
      "metadata": {
        "id": "yNRfQYhYvAlb"
      },
      "execution_count": 31,
      "outputs": []
    },
    {
      "cell_type": "code",
      "source": [
        "# RFM Base Calculation\n",
        "from pyspark.sql.functions import max as spark_max, datediff, lit, countDistinct, current_date, sum\n",
        "\n",
        "rfm_df = df.groupBy(\"Customer_Name\").agg(\n",
        "    spark_max(\"Date\").alias(\"last_purchase_date\"),\n",
        "    countDistinct(\"Transaction_ID\").alias(\"Frequency\"),\n",
        "    sum(\"Total_Cost\").alias(\"Monetary\")\n",
        ")\n",
        "\n",
        "rfm_df = rfm_df.withColumn(\"Recency\", datediff(current_date(), col(\"last_purchase_date\")))\n",
        "\n",
        "rfm_df = rfm_df.drop(\"last_purchase_date\")\n",
        "\n",
        "rfm_df.filter(col(\"Customer_Name\") == \"Christopher Jimenez\").show()"
      ],
      "metadata": {
        "id": "801hbqYyvJYi",
        "colab": {
          "base_uri": "https://localhost:8080/"
        },
        "outputId": "3fd85a4a-1161-4bf9-c2dc-ecd993d8afc3"
      },
      "execution_count": 34,
      "outputs": [
        {
          "output_type": "stream",
          "name": "stdout",
          "text": [
            "+-------------------+---------+--------+-------+\n",
            "|      Customer_Name|Frequency|Monetary|Recency|\n",
            "+-------------------+---------+--------+-------+\n",
            "|Christopher Jimenez|       16|  774.73|    656|\n",
            "+-------------------+---------+--------+-------+\n",
            "\n"
          ]
        }
      ]
    },
    {
      "cell_type": "code",
      "source": [
        "# 1. Tính R_Score\n",
        "rfm_df = rfm_df.withColumn(\n",
        "    \"R_Score\",\n",
        "    when(col(\"Recency\") <= 30, lit(5))\n",
        "    .when(col(\"Recency\") <= 60, lit(4))\n",
        "    .when(col(\"Recency\") <= 90, lit(3))\n",
        "    .when(col(\"Recency\") <= 180, lit(2))\n",
        "    .otherwise(lit(1))\n",
        ")\n",
        "\n",
        "# 2. Tính F_Score\n",
        "rfm_df = rfm_df.withColumn(\n",
        "    \"F_Score\",\n",
        "    when(col(\"Frequency\") >= 20, lit(5))\n",
        "    .when(col(\"Frequency\") >= 10, lit(4))\n",
        "    .when(col(\"Frequency\") >= 5, lit(3))\n",
        "    .when(col(\"Frequency\") >= 2, lit(2))\n",
        "    .otherwise(lit(1))\n",
        ")\n",
        "\n",
        "# 3. Tính M_Score\n",
        "rfm_df = rfm_df.withColumn(\n",
        "    \"M_Score\",\n",
        "    when(col(\"Monetary\") >= 5000, lit(5))\n",
        "    .when(col(\"Monetary\") >= 2000, lit(4))\n",
        "    .when(col(\"Monetary\") >= 1000, lit(3))\n",
        "    .when(col(\"Monetary\") >= 500, lit(2))\n",
        "    .otherwise(lit(1))\n",
        ")\n",
        "\n",
        "# 4. Tính RFM_Score cuối cùng\n",
        "rfm_score = rfm_df.withColumn(\n",
        "    \"RFM_Score\",\n",
        "    col(\"R_Score\") * 100 + col(\"F_Score\") * 10 + col(\"M_Score\")\n",
        ")\n",
        "\n",
        "# Hiển thị kết quả cho khách hàng Christopher Jimenez sau khi đã có điểm số\n",
        "rfm_score.filter(col(\"Customer_Name\") == \"Thomas Oliver\").show()\n",
        "\n",
        "# Hiển thị tất cả kết quả để xem xét\n",
        "rfm_score.show()"
      ],
      "metadata": {
        "colab": {
          "base_uri": "https://localhost:8080/"
        },
        "id": "831oC_5KO7f5",
        "outputId": "b5b22a25-6807-43a3-8561-605517663ae1"
      },
      "execution_count": 41,
      "outputs": [
        {
          "output_type": "stream",
          "name": "stdout",
          "text": [
            "+-------------+---------+--------+-------+-------+-------+-------+---------+\n",
            "|Customer_Name|Frequency|Monetary|Recency|R_Score|F_Score|M_Score|RFM_Score|\n",
            "+-------------+---------+--------+-------+-------+-------+-------+---------+\n",
            "|Thomas Oliver|        7|   421.1|    664|      1|      3|      1|      131|\n",
            "+-------------+---------+--------+-------+-------+-------+-------+---------+\n",
            "\n",
            "+--------------------+---------+------------------+-------+-------+-------+-------+---------+\n",
            "|       Customer_Name|Frequency|          Monetary|Recency|R_Score|F_Score|M_Score|RFM_Score|\n",
            "+--------------------+---------+------------------+-------+-------+-------+-------+---------+\n",
            "|         Martha Cole|        3|              83.6|    957|      1|      2|      1|      121|\n",
            "|      Courtney Burns|        3|            105.12|   1143|      1|      2|      1|      121|\n",
            "|           John Dean|       16|            852.88|    515|      1|      4|      2|      142|\n",
            "|Margaret Fitzpatrick|        3|210.33999999999997|    483|      1|      2|      1|      121|\n",
            "|       Bryan Collins|        6|262.16999999999996|    720|      1|      3|      1|      131|\n",
            "|    Alexandria Kelly|        2|            134.08|    588|      1|      2|      1|      121|\n",
            "|       Mary Williams|       89| 4450.799999999999|    496|      1|      5|      4|      154|\n",
            "|        Erik Stewart|        2|            155.91|    824|      1|      2|      1|      121|\n",
            "|       Amanda Austin|        9|            388.65|    604|      1|      3|      1|      131|\n",
            "|         Amber Evans|       14|            688.63|    468|      1|      4|      2|      142|\n",
            "|       Mariah Moreno|        2|             74.14|    852|      1|      2|      1|      121|\n",
            "|     Chelsea Mcbride|        1|             80.62|    571|      1|      1|      1|      111|\n",
            "|       Theresa Ortiz|        1|             27.48|   2021|      1|      1|      1|      111|\n",
            "|     Cameron Jackson|        5|            226.62|   1224|      1|      3|      1|      131|\n",
            "|          Eric Adams|       27|            1350.0|    506|      1|      5|      3|      153|\n",
            "|      Michael Atkins|       11|            475.49|    510|      1|      4|      1|      141|\n",
            "|      Dennis Hawkins|        1|             23.36|   1433|      1|      1|      1|      111|\n",
            "|         Anna Flores|        7|300.33000000000004|    792|      1|      3|      1|      131|\n",
            "|        James Butler|       23|           1115.83|    495|      1|      5|      3|      153|\n",
            "|     Michael Houston|       13|            670.45|    487|      1|      4|      2|      142|\n",
            "+--------------------+---------+------------------+-------+-------+-------+-------+---------+\n",
            "only showing top 20 rows\n",
            "\n"
          ]
        }
      ]
    },
    {
      "cell_type": "code",
      "source": [
        "customer_segments = rfm_df.withColumn(\n",
        "    \"Segment\",\n",
        "    when((col(\"R_Score\") >= 4) & (col(\"F_Score\") >= 4) & (col(\"M_Score\") >= 4), lit(\"Champions\"))\n",
        "    .when((col(\"R_Score\") >= 3) & (col(\"F_Score\") >= 3), lit(\"Loyal Customers\"))\n",
        "    .when(col(\"R_Score\") >= 4, lit(\"New Customers\"))\n",
        "    .when((col(\"R_Score\") <= 2) & (col(\"F_Score\") <= 2), lit(\"At Risk\"))\n",
        "    .otherwise(lit(\"Regular Customers\"))\n",
        ")\n",
        "\n",
        "customer_segments.filter(col(\"Customer_Name\") == \"Sydney Waller\").show()\n",
        "customer_segments.show()"
      ],
      "metadata": {
        "colab": {
          "base_uri": "https://localhost:8080/"
        },
        "id": "GJO6IIvJPb7V",
        "outputId": "c3fc93bb-8961-4d13-c716-16dfb7fa1bef"
      },
      "execution_count": 37,
      "outputs": [
        {
          "output_type": "stream",
          "name": "stdout",
          "text": [
            "+-------------+---------+--------+-------+-------+-------+-------+---------+-------+\n",
            "|Customer_Name|Frequency|Monetary|Recency|R_Score|F_Score|M_Score|RFM_Score|Segment|\n",
            "+-------------+---------+--------+-------+-------+-------+-------+---------+-------+\n",
            "|Sydney Waller|        2|   65.87|    904|      1|      2|      1|      121|At Risk|\n",
            "+-------------+---------+--------+-------+-------+-------+-------+---------+-------+\n",
            "\n",
            "+--------------------+---------+------------------+-------+-------+-------+-------+---------+-----------------+\n",
            "|       Customer_Name|Frequency|          Monetary|Recency|R_Score|F_Score|M_Score|RFM_Score|          Segment|\n",
            "+--------------------+---------+------------------+-------+-------+-------+-------+---------+-----------------+\n",
            "|         Martha Cole|        3|              83.6|    957|      1|      2|      1|      121|          At Risk|\n",
            "|      Courtney Burns|        3|            105.12|   1143|      1|      2|      1|      121|          At Risk|\n",
            "|           John Dean|       16|            852.88|    515|      1|      4|      2|      142|Regular Customers|\n",
            "|Margaret Fitzpatrick|        3|210.33999999999997|    483|      1|      2|      1|      121|          At Risk|\n",
            "|       Bryan Collins|        6|262.16999999999996|    720|      1|      3|      1|      131|Regular Customers|\n",
            "|    Alexandria Kelly|        2|            134.08|    588|      1|      2|      1|      121|          At Risk|\n",
            "|       Mary Williams|       89| 4450.799999999999|    496|      1|      5|      4|      154|Regular Customers|\n",
            "|        Erik Stewart|        2|            155.91|    824|      1|      2|      1|      121|          At Risk|\n",
            "|       Amanda Austin|        9|            388.65|    604|      1|      3|      1|      131|Regular Customers|\n",
            "|         Amber Evans|       14|            688.63|    468|      1|      4|      2|      142|Regular Customers|\n",
            "|       Mariah Moreno|        2|             74.14|    852|      1|      2|      1|      121|          At Risk|\n",
            "|     Chelsea Mcbride|        1|             80.62|    571|      1|      1|      1|      111|          At Risk|\n",
            "|       Theresa Ortiz|        1|             27.48|   2021|      1|      1|      1|      111|          At Risk|\n",
            "|     Cameron Jackson|        5|            226.62|   1224|      1|      3|      1|      131|Regular Customers|\n",
            "|          Eric Adams|       27|            1350.0|    506|      1|      5|      3|      153|Regular Customers|\n",
            "|      Michael Atkins|       11|            475.49|    510|      1|      4|      1|      141|Regular Customers|\n",
            "|      Dennis Hawkins|        1|             23.36|   1433|      1|      1|      1|      111|          At Risk|\n",
            "|         Anna Flores|        7|300.33000000000004|    792|      1|      3|      1|      131|Regular Customers|\n",
            "|        James Butler|       23|           1115.83|    495|      1|      5|      3|      153|Regular Customers|\n",
            "|     Michael Houston|       13|            670.45|    487|      1|      4|      2|      142|Regular Customers|\n",
            "+--------------------+---------+------------------+-------+-------+-------+-------+---------+-----------------+\n",
            "only showing top 20 rows\n",
            "\n"
          ]
        }
      ]
    },
    {
      "cell_type": "code",
      "source": [],
      "metadata": {
        "id": "XfZgCBfVQWkx"
      },
      "execution_count": null,
      "outputs": []
    },
    {
      "cell_type": "code",
      "source": [
        "# # Customer Segmentation based on RFM\n",
        "# def segment_customer(r_score, f_score, m_score):\n",
        "#     # Your code here\n",
        "\n",
        "\n",
        "# segment_udf = udf(segment_customer, StringType())"
      ],
      "metadata": {
        "id": "AMs9drVfvQRV"
      },
      "execution_count": null,
      "outputs": []
    },
    {
      "cell_type": "code",
      "source": [
        "# customer_segments = rfm_scored.withColumn(\"Segment\",\n",
        "#     segment_udf(col(\"R_Score\"), col(\"F_Score\"), col(\"M_Score\")))\n",
        "\n",
        "# customer_segments.show()"
      ],
      "metadata": {
        "id": "XmwQLKxlvSve"
      },
      "execution_count": null,
      "outputs": []
    },
    {
      "cell_type": "markdown",
      "source": [
        "# 6.0 Joins with Multiple Tables"
      ],
      "metadata": {
        "id": "KIxwxIdpw3_z"
      }
    },
    {
      "cell_type": "code",
      "source": [
        "# Customer demographics table\n",
        "customer_demo_data = [(\"John Doe\", \"Male\", 35, \"Engineer\"),\n",
        "                     (\"Jane Smith\", \"Female\", 28, \"Doctor\"),\n",
        "                     (\"Bob Johnson\", \"Male\", 42, \"Teacher\")]\n",
        "\n",
        "customer_demo_df = spark.createDataFrame(customer_demo_data,\n",
        "                                       [\"Customer_Name\", \"Gender\", \"Age\", \"Occupation\"])"
      ],
      "metadata": {
        "id": "YuZNhKVwvTvp"
      },
      "execution_count": 38,
      "outputs": []
    },
    {
      "cell_type": "code",
      "source": [
        "# Product category table\n",
        "product_cat_data = [(\"Product_A\", \"Electronics\"),\n",
        "                   (\"Product_B\", \"Clothing\"),\n",
        "                   (\"Product_C\", \"Home\")]\n",
        "\n",
        "product_cat_df = spark.createDataFrame(product_cat_data,\n",
        "                                     [\"Product\", \"Category\"])"
      ],
      "metadata": {
        "id": "Md6Q4Y90w918"
      },
      "execution_count": 39,
      "outputs": []
    },
    {
      "cell_type": "code",
      "source": [
        "# Perform joins\n",
        "# Inner join with customer demographics\n",
        "first_join_df = df.join(\n",
        "    customer_demo_df,\n",
        "    on=\"Customer_Name\",\n",
        "    how=\"inner\"\n",
        ")\n",
        "\n",
        "# Left join with product category\n",
        "final_df = first_join_df.join(\n",
        "    product_cat_df,\n",
        "    on=\"Product\",\n",
        "    how=\"left\"\n",
        ")\n",
        "\n",
        "final_df.show(5)\n",
        "customer_info = final_df.filter(col(\"Transaction_ID\") == 1000036245).select(\"Customer_Name\").show()"
      ],
      "metadata": {
        "id": "3_4ODD62w-zq",
        "colab": {
          "base_uri": "https://localhost:8080/"
        },
        "outputId": "76a02fc1-0add-4250-ce28-428f4e70aa12"
      },
      "execution_count": 40,
      "outputs": [
        {
          "output_type": "stream",
          "name": "stdout",
          "text": [
            "+--------------------+-------------+--------------+-------------------+-----------+----------+--------------+-----------+----------------+----------------+-----------------+------+--------------------+------+---+----------+--------+\n",
            "|             Product|Customer_Name|Transaction_ID|               Date|Total_Items|Total_Cost|Payment_Method|       City|      Store_Type|Discount_Applied|Customer_Category|Season|           Promotion|Gender|Age|Occupation|Category|\n",
            "+--------------------+-------------+--------------+-------------------+-----------+----------+--------------+-----------+----------------+----------------+-----------------+------+--------------------+------+---+----------+--------+\n",
            "|['Shaving Cream',...|  Bob Johnson|    1000425331|2023-06-10 06:19:04|         10|     28.22|    Debit Card|   New York|Department Store|           false|      Middle-Aged|Summer|BOGO (Buy One Get...|  Male| 42|   Teacher|    NULL|\n",
            "|['Deodorant', 'BB...|  Bob Johnson|    1000036245|2021-06-28 16:03:18|          4|     90.96|   Credit Card|Los Angeles|     Supermarket|            true|         Teenager|Winter|BOGO (Buy One Get...|  Male| 42|   Teacher|    NULL|\n",
            "|['Olive Oil', 'Mop']|   Jane Smith|    1000307905|2022-09-11 21:34:24|         10|     64.59|    Debit Card|     Dallas|  Warehouse Club|           false|          Student|  Fall|Discount on Selec...|Female| 28|    Doctor|    NULL|\n",
            "|['Orange', 'Bath ...|   Jane Smith|    1000074471|2022-10-09 10:32:45|          4|     85.84|    Debit Card|    Atlanta|     Supermarket|            true|     Professional|Winter|                None|Female| 28|    Doctor|    NULL|\n",
            "|['Feminine Hygien...|   Jane Smith|    1000278221|2023-05-23 11:17:34|          4|     84.62|    Debit Card|    Atlanta| Specialty Store|           false|        Homemaker|Winter|                None|Female| 28|    Doctor|    NULL|\n",
            "+--------------------+-------------+--------------+-------------------+-----------+----------+--------------+-----------+----------------+----------------+-----------------+------+--------------------+------+---+----------+--------+\n",
            "only showing top 5 rows\n",
            "\n",
            "+-------------+\n",
            "|Customer_Name|\n",
            "+-------------+\n",
            "|  Bob Johnson|\n",
            "+-------------+\n",
            "\n"
          ]
        }
      ]
    },
    {
      "cell_type": "markdown",
      "source": [
        "# Advanced Analytics: Statistical Calculations"
      ],
      "metadata": {
        "id": "BpShGvaPxD36"
      }
    },
    {
      "cell_type": "code",
      "source": [
        "# Correlation analysis\n",
        "from pyspark.ml.stat import Correlation\n",
        "from pyspark.ml.feature import VectorAssembler"
      ],
      "metadata": {
        "id": "MXEC-WgGxAI0"
      },
      "execution_count": null,
      "outputs": []
    },
    {
      "cell_type": "code",
      "source": [
        "numeric_cols = [\"Total_Items\", \"Total_Cost\"]\n",
        "assembler = VectorAssembler(inputCols=numeric_cols, outputCol=\"features\")\n",
        "\n",
        "vector_df = assembler.transform(df).select(\"features\")"
      ],
      "metadata": {
        "id": "w89OYtpmxGCX"
      },
      "execution_count": null,
      "outputs": []
    },
    {
      "cell_type": "code",
      "source": [
        "# Calculate correlation matrix\n",
        "correlation_matrix = Correlation.corr(vector_df, \"features\").head()\n",
        "print(\"Correlation matrix:\\n\", correlation_matrix[0])"
      ],
      "metadata": {
        "id": "dJN0Tqb-xJCX"
      },
      "execution_count": null,
      "outputs": []
    },
    {
      "cell_type": "code",
      "source": [
        "# Descriptive statistics\n",
        "df.describe([\"Total_Items\", \"Total_Cost\"]).show()"
      ],
      "metadata": {
        "id": "a2GQC5OJxKID"
      },
      "execution_count": null,
      "outputs": []
    },
    {
      "cell_type": "code",
      "source": [
        "# Seasonality analysis\n",
        "seasonal_analysis = df.groupBy(\"Season\") \\\n",
        "    .agg(\n",
        "        sum(\"Total_Cost\").alias(\"Seasonal_Revenue\"),\n",
        "        avg(\"Total_Cost\").alias(\"Avg_Seasonal_Transaction\"),\n",
        "        count(\"Transaction_ID\").alias(\"Seasonal_Transactions\")\n",
        "    ) \\\n",
        "    .orderBy(desc(\"Seasonal_Revenue\"))\n",
        "\n",
        "seasonal_analysis.show()"
      ],
      "metadata": {
        "id": "fRTl_BrvxMzB"
      },
      "execution_count": null,
      "outputs": []
    },
    {
      "cell_type": "markdown",
      "source": [
        "# Bonus"
      ],
      "metadata": {
        "id": "8CeEnbGXxSGx"
      }
    },
    {
      "cell_type": "code",
      "source": [
        "# # Save processed data\n",
        "# customer_segments.write.mode(\"overwrite\").csv(\"customer_segments\", header=True)\n",
        "# product_performance.write.mode(\"overwrite\").csv(\"product_performance\", header=True)\n",
        "\n",
        "# # Convert to Pandas for visualization (optional)\n",
        "# customer_segments_pd = customer_segments.toPandas()\n",
        "# product_performance_pd = product_performance.toPandas()\n",
        "\n",
        "# # Stop Spark session\n",
        "# spark.stop()"
      ],
      "metadata": {
        "id": "EC3bG0VFxNuW"
      },
      "execution_count": null,
      "outputs": []
    },
    {
      "cell_type": "code",
      "metadata": {
        "id": "81301b38"
      },
      "source": [],
      "execution_count": null,
      "outputs": []
    },
    {
      "cell_type": "code",
      "source": [],
      "metadata": {
        "id": "EUWyi2xwKs1k"
      },
      "execution_count": null,
      "outputs": []
    }
  ]
}