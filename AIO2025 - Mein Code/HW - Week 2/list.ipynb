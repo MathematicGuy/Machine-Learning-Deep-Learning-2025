{
 "cells": [
  {
   "cell_type": "code",
   "execution_count": 11,
   "id": "92066582",
   "metadata": {},
   "outputs": [
    {
     "name": "stdout",
     "output_type": "stream",
     "text": [
      "[2 4 6]\n"
     ]
    }
   ],
   "source": [
    "import numpy as np\n",
    "\n",
    "\n",
    "a = np.array([1, 2, 3])\n",
    "b = a * 2\n",
    "print(b)"
   ]
  },
  {
   "cell_type": "code",
   "execution_count": 12,
   "id": "13cba29b",
   "metadata": {},
   "outputs": [
    {
     "name": "stdout",
     "output_type": "stream",
     "text": [
      "[1, 2, 3, 4, 5]\n",
      "6\n"
     ]
    }
   ],
   "source": [
    "a = [1,2,3,4,5,6]\n",
    "b = a.pop()\n",
    "print(a)\n",
    "print(b)"
   ]
  },
  {
   "cell_type": "code",
   "execution_count": 13,
   "id": "5328012b",
   "metadata": {},
   "outputs": [
    {
     "name": "stdout",
     "output_type": "stream",
     "text": [
      "[1, 2, 3, 4, 5, 7, 7, 8]\n"
     ]
    }
   ],
   "source": [
    "a.extend([7, 7,8])\n",
    "print(a)"
   ]
  },
  {
   "cell_type": "code",
   "execution_count": 14,
   "id": "ec22fb79",
   "metadata": {},
   "outputs": [
    {
     "name": "stdout",
     "output_type": "stream",
     "text": [
      "[1, 2, 3, 4, 5, 7, 8]\n"
     ]
    }
   ],
   "source": [
    "a.remove(7)\n",
    "print(a)"
   ]
  },
  {
   "cell_type": "code",
   "execution_count": 15,
   "id": "56de2094",
   "metadata": {},
   "outputs": [
    {
     "name": "stdout",
     "output_type": "stream",
     "text": [
      "[8, 7, 5, 4, 3, 2, 1]\n"
     ]
    }
   ],
   "source": [
    "print(a[::-1])"
   ]
  },
  {
   "cell_type": "code",
   "execution_count": 27,
   "id": "bd0946e6",
   "metadata": {},
   "outputs": [
    {
     "name": "stdout",
     "output_type": "stream",
     "text": [
      "6\n",
      "[5, 3]\n"
     ]
    }
   ],
   "source": [
    "list = [1, 2, 3, 4, 5, 6]\n",
    "\n",
    "print(list[-1]) #? reverse indexing start from -1 not 0.\n",
    "print(list[-2:1:-2])"
   ]
  },
  {
   "cell_type": "code",
   "execution_count": 30,
   "id": "a53f84c9",
   "metadata": {},
   "outputs": [
    {
     "name": "stdout",
     "output_type": "stream",
     "text": [
      "[1, 3, 4] 2\n"
     ]
    }
   ],
   "source": [
    "my_list = [1,2,3,4]\n",
    "x = my_list.pop(1)\n",
    "print(my_list, x)"
   ]
  },
  {
   "cell_type": "code",
   "execution_count": 31,
   "id": "95ae4d7c",
   "metadata": {},
   "outputs": [
    {
     "name": "stdout",
     "output_type": "stream",
     "text": [
      "2\n"
     ]
    }
   ],
   "source": [
    "my_list = [1, [2, 3], [2, 3], 4]\n",
    "print(my_list.count([2,3]))"
   ]
  },
  {
   "cell_type": "markdown",
   "id": "9df7de9a",
   "metadata": {},
   "source": [
    "### Mutable vs Immutable List"
   ]
  },
  {
   "cell_type": "code",
   "execution_count": null,
   "id": "1c53931f",
   "metadata": {},
   "outputs": [
    {
     "name": "stdout",
     "output_type": "stream",
     "text": [
      "[6, 7, 8, 9]\n",
      "[36, 49, 64, 81]\n",
      "[6, 7, 8, 9]\n"
     ]
    }
   ],
   "source": [
    "\n",
    "#? Immutable\n",
    "def square(data):\n",
    "    \"Doesn't modify data, but extract value inside data\"\n",
    "    result = []\n",
    "    for value in data:\n",
    "        result.append(value * value)\n",
    "\n",
    "    return result\n",
    "\n",
    "data = [6,7,8,9]\n",
    "print(data)\n",
    "\n",
    "print(square(data))\n",
    "print(data)"
   ]
  },
  {
   "cell_type": "code",
   "execution_count": null,
   "id": "497f2be6",
   "metadata": {},
   "outputs": [
    {
     "name": "stdout",
     "output_type": "stream",
     "text": [
      "[1, 2, 3, 4]\n",
      "[1, 4, 9, 16]\n",
      "[3, 3, 4, 4]\n"
     ]
    }
   ],
   "source": [
    "\n",
    "#? Mutable\n",
    "def square(data):\n",
    "    \"Modify data directly\"\n",
    "    for i in range(len(data)):\n",
    "        value = data[i]\n",
    "        data[i] = value*value\n",
    "\n",
    "#? Mutable\n",
    "def square_non_mutable(data):\n",
    "    \"Modify data directly\"\n",
    "    data = data[:] #? copy data so we doesn't modify it directly\n",
    "    for i in range(len(data)):\n",
    "        value = data[i]\n",
    "        data[i] = value*value\n",
    "\n",
    "data = [1,2,3,4]\n",
    "print(data)\n",
    "square(data) #? modify data\n",
    "print(data)\n",
    "\n",
    "data_2 = [3,3,4,4]\n",
    "square_non_mutable(data_2) #? doesn't modified data\n",
    "print(data_2)"
   ]
  },
  {
   "cell_type": "code",
   "execution_count": 40,
   "id": "e30ffdb8",
   "metadata": {},
   "outputs": [
    {
     "name": "stdout",
     "output_type": "stream",
     "text": [
      "learning\n",
      "0\n"
     ]
    }
   ],
   "source": [
    "data = \"I'm learning Python\"\n",
    "data = data.split()[1] #? split string into a list then access it\n",
    "print(data)\n",
    "\n",
    "print(0%2)"
   ]
  },
  {
   "cell_type": "code",
   "execution_count": null,
   "id": "b80226d2",
   "metadata": {},
   "outputs": [
    {
     "data": {
      "text/plain": [
       "3"
      ]
     },
     "execution_count": 42,
     "metadata": {},
     "output_type": "execute_result"
    }
   ],
   "source": [
    "def my_f(n):\n",
    "    x = n[0]\n",
    "    for i in n:\n",
    "        if i < x:\n",
    "            x = i\n",
    "    return x\n",
    "\n",
    "my_f([1,2,3, -1])\n",
    "len([0,1,2])"
   ]
  },
  {
   "cell_type": "code",
   "execution_count": 43,
   "id": "e0389323",
   "metadata": {},
   "outputs": [
    {
     "data": {
      "text/plain": [
       "[3, 6]"
      ]
     },
     "execution_count": 43,
     "metadata": {},
     "output_type": "execute_result"
    }
   ],
   "source": [
    "def my_f(n):\n",
    "    var = []\n",
    "    for i in n:\n",
    "        if i%3 == 0: var.append(i)\n",
    "    return var\n",
    "\n",
    "my_f([1,2, 3, 5, 6])"
   ]
  },
  {
   "cell_type": "code",
   "execution_count": null,
   "id": "c580a07e",
   "metadata": {},
   "outputs": [],
   "source": []
  },
  {
   "cell_type": "markdown",
   "id": "dc250763",
   "metadata": {},
   "source": [
    "### Case where List act Unexpected"
   ]
  },
  {
   "cell_type": "code",
   "execution_count": null,
   "id": "f2e1365a",
   "metadata": {},
   "outputs": [
    {
     "name": "stdout",
     "output_type": "stream",
     "text": [
      "ssalg\n",
      "glass\n"
     ]
    }
   ],
   "source": [
    "let = 'glass'\n",
    "res_0 = ''\n",
    "res_1 = ''\n",
    "\n",
    "#? Order Matter when adding String\n",
    "for i in let:\n",
    "    res_0 = i + res_0 #? append each letter in reverse order\n",
    "    res_1 = res_1 + i #? append each letter normally\n",
    "\n",
    "print(res_0)\n",
    "print(res_1)"
   ]
  },
  {
   "cell_type": "code",
   "execution_count": 51,
   "id": "80324fbf",
   "metadata": {},
   "outputs": [
    {
     "data": {
      "text/plain": [
       "[1, 2, 3, 5, 6]"
      ]
     },
     "execution_count": 51,
     "metadata": {},
     "output_type": "execute_result"
    }
   ],
   "source": [
    "def duplicate_checker(x, data):\n",
    "    \"\"\"if x in data, return 0, else return 1\"\"\"\n",
    "    if x in data:\n",
    "        return 0\n",
    "\n",
    "    return 1\n",
    "\n",
    "def my_func(data):\n",
    "    res = []\n",
    "    for i in data:\n",
    "        #? Append i if is not duplicate, duplicate_checker return 1\n",
    "        if duplicate_checker(i, res):\n",
    "            res.append(i)\n",
    "\n",
    "    return res\n",
    "\n",
    "my_func([1,1,2,3,5,6,5,6])"
   ]
  },
  {
   "cell_type": "code",
   "execution_count": 60,
   "id": "809f0b49",
   "metadata": {},
   "outputs": [
    {
     "name": "stdout",
     "output_type": "stream",
     "text": [
      "[-3, 1, 3, 9]\n"
     ]
    }
   ],
   "source": [
    "my_list = [1, 9, 3, -3]\n",
    "my_list.sort()\n",
    "print(my_list)\n",
    "\n",
    "odd = 1\n",
    "even = 0\n",
    "\n",
    "for num in my_list:\n",
    "    if num%2==0:\n",
    "        odd+=num\n",
    "    else:\n",
    "        even+=num\n",
    "\n",
    "# print(odd, even)"
   ]
  },
  {
   "cell_type": "code",
   "execution_count": null,
   "id": "0d16355a",
   "metadata": {},
   "outputs": [],
   "source": []
  },
  {
   "cell_type": "code",
   "execution_count": null,
   "id": "7ac6b91a",
   "metadata": {},
   "outputs": [],
   "source": []
  }
 ],
 "metadata": {
  "kernelspec": {
   "display_name": "ds",
   "language": "python",
   "name": "python3"
  },
  "language_info": {
   "codemirror_mode": {
    "name": "ipython",
    "version": 3
   },
   "file_extension": ".py",
   "mimetype": "text/x-python",
   "name": "python",
   "nbconvert_exporter": "python",
   "pygments_lexer": "ipython3",
   "version": "3.10.16"
  }
 },
 "nbformat": 4,
 "nbformat_minor": 5
}
