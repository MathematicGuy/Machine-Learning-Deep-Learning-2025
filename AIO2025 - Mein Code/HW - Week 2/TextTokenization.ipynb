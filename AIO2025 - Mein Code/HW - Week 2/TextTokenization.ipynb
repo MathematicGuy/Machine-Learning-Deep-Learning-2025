{
 "cells": [
  {
   "cell_type": "markdown",
   "id": "934ad207",
   "metadata": {},
   "source": [
    "Convert Text to Number as Machine can only read number \n",
    "-> Crucial for pre-processing data for AI "
   ]
  },
  {
   "cell_type": "code",
   "execution_count": 156,
   "id": "83d27e59",
   "metadata": {},
   "outputs": [
    {
     "name": "stdout",
     "output_type": "stream",
     "text": [
      "One day, a fox became very hungry as he went to search for some food.\n",
      "He searched high and low, but couldn't find something that he could eat.\n",
      "Finally, as his stomach rumbled, he stumbled upon a farmer's wall.\n",
      "At the top of the wall, he saw the biggest, juiciest grapes he'd ever seen.\n",
      "They had a rich, purple color, telling the fox they were ready to be eaten.\n",
      "To reach the grapes, the fox had to jump high in the air.\n",
      "As he jumped, he opened his mouth to catch the grapes, but he missed.\n",
      "The fox tried again but missed yet again. He tried a few more times but kept failing.\n",
      "Finally, the fox decided it was time to give up and go home.\n",
      "While he walked away, he muttered, \"I'm sure the grapes were sour anyway.\"\n",
      "\n"
     ]
    }
   ],
   "source": [
    "with open('data.txt', 'r', encoding='utf-8') as f: # open file\n",
    "    data = f.read() # read file\n",
    "    print(data)"
   ]
  },
  {
   "cell_type": "code",
   "execution_count": 157,
   "id": "ec6b0de3",
   "metadata": {},
   "outputs": [
    {
     "name": "stdout",
     "output_type": "stream",
     "text": [
      "{'1', 'C', '2', '3', 'CJa', 'L', 'Bung', 'Ainh', 'P'}\n"
     ]
    }
   ],
   "source": [
    "mem = {\"Ainh\", \"Bung\", \"CJa\"}\n",
    "mem.update('PC231LL')\n",
    "print(mem)"
   ]
  },
  {
   "cell_type": "markdown",
   "id": "c2cf8bd4",
   "metadata": {},
   "source": [
    "Now we have retrieve the text, question is: How can we convert each of these word into a unique number like a ID. "
   ]
  },
  {
   "cell_type": "code",
   "execution_count": null,
   "id": "72cf9fb6",
   "metadata": {},
   "outputs": [
    {
     "name": "stdout",
     "output_type": "stream",
     "text": [
      "One day a fox became very hungry as he went to search for some food He searched high and low but couldn't find something that he could eat Finally as his stomach rumbled he stumbled upon a farmer's wall At the top of the wall he saw the biggest juiciest grapes he'd ever seen They had a rich purple color telling the fox they were ready to be eaten To reach the grapes the fox had to jump high in the air As he jumped he opened his mouth to catch the grapes but he missed The fox tried again but missed yet again He tried a few more times but kept failing Finally the fox decided it was time to give up and go home While he walked away he muttered I'm sure the grapes were sour anyway\n"
     ]
    }
   ],
   "source": [
    "# thay thế các ký tự đặc biệt thành khoảng trắng\n",
    "data = data.replace(',', '').replace('\"', '').replace('.', '')\n",
    "data = data.replace(\"\\n\", \" \") # remove breakline and trailing whitespace\n",
    "print(data.strip(' ')) # remove trailing whitespace"
   ]
  },
  {
   "cell_type": "code",
   "execution_count": 159,
   "id": "9efba2c2",
   "metadata": {},
   "outputs": [
    {
     "name": "stdout",
     "output_type": "stream",
     "text": [
      "one day a fox became very hungry as he went to search for some food he searched high and low but couldn't find something that he could eat finally as his stomach rumbled he stumbled upon a farmer's wall at the top of the wall he saw the biggest juiciest grapes he'd ever seen they had a rich purple color telling the fox they were ready to be eaten to reach the grapes the fox had to jump high in the air as he jumped he opened his mouth to catch the grapes but he missed the fox tried again but missed yet again he tried a few more times but kept failing finally the fox decided it was time to give up and go home while he walked away he muttered i'm sure the grapes were sour anyway \n"
     ]
    }
   ],
   "source": [
    "# chuyển thành chữ thường\n",
    "data = data.lower()\n",
    "print(data)"
   ]
  },
  {
   "cell_type": "code",
   "execution_count": 160,
   "id": "536320dd",
   "metadata": {},
   "outputs": [
    {
     "name": "stdout",
     "output_type": "stream",
     "text": [
      "['one', 'day', 'a', 'fox', 'became', 'very', 'hungry', 'as', 'he', 'went', 'to', 'search', 'for', 'some', 'food', 'he', 'searched', 'high', 'and', 'low', 'but', \"couldn't\", 'find', 'something', 'that', 'he', 'could', 'eat', 'finally', 'as', 'his', 'stomach', 'rumbled', 'he', 'stumbled', 'upon', 'a', \"farmer's\", 'wall', 'at', 'the', 'top', 'of', 'the', 'wall', 'he', 'saw', 'the', 'biggest', 'juiciest', 'grapes', \"he'd\", 'ever', 'seen', 'they', 'had', 'a', 'rich', 'purple', 'color', 'telling', 'the', 'fox', 'they', 'were', 'ready', 'to', 'be', 'eaten', 'to', 'reach', 'the', 'grapes', 'the', 'fox', 'had', 'to', 'jump', 'high', 'in', 'the', 'air', 'as', 'he', 'jumped', 'he', 'opened', 'his', 'mouth', 'to', 'catch', 'the', 'grapes', 'but', 'he', 'missed', 'the', 'fox', 'tried', 'again', 'but', 'missed', 'yet', 'again', 'he', 'tried', 'a', 'few', 'more', 'times', 'but', 'kept', 'failing', 'finally', 'the', 'fox', 'decided', 'it', 'was', 'time', 'to', 'give', 'up', 'and', 'go', 'home', 'while', 'he', 'walked', 'away', 'he', 'muttered', \"i'm\", 'sure', 'the', 'grapes', 'were', 'sour', 'anyway', '']\n",
      "140\n"
     ]
    }
   ],
   "source": [
    "# tách các từ đơn\n",
    "data = data.split(' ')\n",
    "print(data)\n",
    "print(len(data))"
   ]
  },
  {
   "cell_type": "code",
   "execution_count": 161,
   "id": "40241f98",
   "metadata": {},
   "outputs": [
    {
     "name": "stdout",
     "output_type": "stream",
     "text": [
      "{'', 'color', 'purple', 'reach', 'in', 'saw', 'was', 'find', 'and', 'biggest', 'again', 'yet', 'ready', \"i'm\", 'jump', 'that', 'eaten', 'were', 'anyway', 'for', 'low', 'time', 'opened', 'rich', 'ever', 'sure', 'give', 'at', 'few', 'jumped', 'high', 'to', 'had', 'he', 'became', 'it', 'as', 'telling', 'sour', 'go', 'fox', 'the', 'something', 'failing', 'juiciest', 'food', 'wall', 'while', 'muttered', 'of', 'tried', 'one', 'day', 'top', 'could', 'but', 'hungry', 'grapes', 'very', 'finally', \"farmer's\", 'stomach', \"he'd\", 'went', \"couldn't\", 'searched', 'eat', 'some', 'stumbled', 'a', 'catch', 'air', 'kept', 'upon', 'be', 'mouth', 'search', 'up', 'seen', 'home', 'his', 'they', 'times', 'rumbled', 'decided', 'away', 'walked', 'missed', 'more'}\n",
      "89\n"
     ]
    }
   ],
   "source": [
    "# xóa trùng lặp bằng cách chuyển vô set\n",
    "data = set(data)\n",
    "print(data)\n",
    "print(len(data))"
   ]
  },
  {
   "cell_type": "code",
   "execution_count": 162,
   "id": "f03be832",
   "metadata": {},
   "outputs": [
    {
     "name": "stdout",
     "output_type": "stream",
     "text": [
      "{0: '', 1: 'color', 2: 'purple', 3: 'reach', 4: 'in', 5: 'saw', 6: 'was', 7: 'find', 8: 'and', 9: 'biggest', 10: 'again', 11: 'yet', 12: 'ready', 13: \"i'm\", 14: 'jump', 15: 'that', 16: 'eaten', 17: 'were', 18: 'anyway', 19: 'for', 20: 'low', 21: 'time', 22: 'opened', 23: 'rich', 24: 'ever', 25: 'sure', 26: 'give', 27: 'at', 28: 'few', 29: 'jumped', 30: 'high', 31: 'to', 32: 'had', 33: 'he', 34: 'became', 35: 'it', 36: 'as', 37: 'telling', 38: 'sour', 39: 'go', 40: 'fox', 41: 'the', 42: 'something', 43: 'failing', 44: 'juiciest', 45: 'food', 46: 'wall', 47: 'while', 48: 'muttered', 49: 'of', 50: 'tried', 51: 'one', 52: 'day', 53: 'top', 54: 'could', 55: 'but', 56: 'hungry', 57: 'grapes', 58: 'very', 59: 'finally', 60: \"farmer's\", 61: 'stomach', 62: \"he'd\", 63: 'went', 64: \"couldn't\", 65: 'searched', 66: 'eat', 67: 'some', 68: 'stumbled', 69: 'a', 70: 'catch', 71: 'air', 72: 'kept', 73: 'upon', 74: 'be', 75: 'mouth', 76: 'search', 77: 'up', 78: 'seen', 79: 'home', 80: 'his', 81: 'they', 82: 'times', 83: 'rumbled', 84: 'decided', 85: 'away', 86: 'walked', 87: 'missed', 88: 'more'}\n"
     ]
    }
   ],
   "source": [
    "# Sử dụng tính chất key:value dictionary để gán id cho từng từ\n",
    "corpus = {i:word for i, word in enumerate(data)}\n",
    "print(corpus)"
   ]
  },
  {
   "cell_type": "code",
   "execution_count": 163,
   "id": "5bf69803",
   "metadata": {},
   "outputs": [
    {
     "name": "stdout",
     "output_type": "stream",
     "text": [
      "0 \n",
      "1 color\n",
      "2 purple\n",
      "3 reach\n",
      "4 in\n",
      "5 saw\n",
      "6 was\n",
      "7 find\n",
      "8 and\n",
      "9 biggest\n",
      "10 again\n",
      "11 yet\n",
      "12 ready\n",
      "13 i'm\n",
      "14 jump\n",
      "15 that\n",
      "16 eaten\n",
      "17 were\n",
      "18 anyway\n",
      "19 for\n",
      "20 low\n",
      "21 time\n",
      "22 opened\n",
      "23 rich\n",
      "24 ever\n",
      "25 sure\n",
      "26 give\n",
      "27 at\n",
      "28 few\n",
      "29 jumped\n",
      "30 high\n",
      "31 to\n",
      "32 had\n",
      "33 he\n",
      "34 became\n",
      "35 it\n",
      "36 as\n",
      "37 telling\n",
      "38 sour\n",
      "39 go\n",
      "40 fox\n",
      "41 the\n",
      "42 something\n",
      "43 failing\n",
      "44 juiciest\n",
      "45 food\n",
      "46 wall\n",
      "47 while\n",
      "48 muttered\n",
      "49 of\n",
      "50 tried\n",
      "51 one\n",
      "52 day\n",
      "53 top\n",
      "54 could\n",
      "55 but\n",
      "56 hungry\n",
      "57 grapes\n",
      "58 very\n",
      "59 finally\n",
      "60 farmer's\n",
      "61 stomach\n",
      "62 he'd\n",
      "63 went\n",
      "64 couldn't\n",
      "65 searched\n",
      "66 eat\n",
      "67 some\n",
      "68 stumbled\n",
      "69 a\n",
      "70 catch\n",
      "71 air\n",
      "72 kept\n",
      "73 upon\n",
      "74 be\n",
      "75 mouth\n",
      "76 search\n",
      "77 up\n",
      "78 seen\n",
      "79 home\n",
      "80 his\n",
      "81 they\n",
      "82 times\n",
      "83 rumbled\n",
      "84 decided\n",
      "85 away\n",
      "86 walked\n",
      "87 missed\n",
      "88 more\n"
     ]
    }
   ],
   "source": [
    "for key, value in corpus.items():\n",
    "    print(key, value)"
   ]
  },
  {
   "cell_type": "code",
   "execution_count": 164,
   "id": "1524960e",
   "metadata": {},
   "outputs": [],
   "source": [
    "with open('dict.txt', 'w') as f:\n",
    "    for key, value in corpus.items():\n",
    "        f.write(f'{key}:{value}\\n')"
   ]
  },
  {
   "cell_type": "code",
   "execution_count": null,
   "id": "cd485ebb",
   "metadata": {},
   "outputs": [],
   "source": [
    "print(\"new\")"
   ]
  },
  {
   "cell_type": "code",
   "execution_count": null,
   "id": "54cd67aa",
   "metadata": {},
   "outputs": [],
   "source": []
  }
 ],
 "metadata": {
  "kernelspec": {
   "display_name": "ds",
   "language": "python",
   "name": "python3"
  },
  "language_info": {
   "codemirror_mode": {
    "name": "ipython",
    "version": 3
   },
   "file_extension": ".py",
   "mimetype": "text/x-python",
   "name": "python",
   "nbconvert_exporter": "python",
   "pygments_lexer": "ipython3",
   "version": "3.10.16"
  }
 },
 "nbformat": 4,
 "nbformat_minor": 5
}
