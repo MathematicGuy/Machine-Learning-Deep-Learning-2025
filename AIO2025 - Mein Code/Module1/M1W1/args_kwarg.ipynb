{
 "cells": [
  {
   "cell_type": "markdown",
   "id": "7bbf36d7",
   "metadata": {},
   "source": [
    "`*` mean all/everything\n",
    "\n",
    "`*args`: is a tuple (use to pass multiple elements to parameters instead of defining them 1 by 1) - tuple is inmutable so they cannot be change.\n",
    "\n",
    "It's a method for passing multiple elements without defining more of them as function parameters.  \n",
    "\n",
    "**Basically passing a list as parameter without passing a list.** "
   ]
  },
  {
   "cell_type": "code",
   "execution_count": null,
   "id": "893d307b",
   "metadata": {},
   "outputs": [
    {
     "name": "stdout",
     "output_type": "stream",
     "text": [
      "10\n",
      "function input as tuple: (1, 2, 3, 4)\n",
      "10\n",
      "normal arguments 2 3\n",
      "another argument through *args [1, 2, 3, 4]\n"
     ]
    }
   ],
   "source": [
    "\n",
    "#? Unexpandable function -> what if we want to add multiple numbers\n",
    "def basic_count(x, y):\n",
    "    return x + y\n",
    "\n",
    "#? We could use a list but it quite inconvenient\n",
    "def count(a_list):\n",
    "    total = 0\n",
    "    for i in a_list:\n",
    "        total += i\n",
    "\n",
    "    print(total)\n",
    "\n",
    "count([1,2,3,4])\n",
    "\n",
    "#? With *args\n",
    "def count_arg(*args):\n",
    "    total = 0\n",
    "    for i in args:\n",
    "        total += i\n",
    "\n",
    "    print('function input as tuple:', args)\n",
    "    print(total)\n",
    "\n",
    "count_arg(1,2,3,4)\n",
    "\n",
    "#? Like pre-define parameters, *args pass in last\n",
    "def foo(a, b, *args):\n",
    "    print('normal arguments', a, b)\n",
    "    for x in args:\n",
    "        print('another argument through *args', x)\n",
    "\n",
    "foo(2, 3, [1,2,3,4])"
   ]
  },
  {
   "cell_type": "markdown",
   "id": "cec825d8",
   "metadata": {},
   "source": [
    "`**kwargs` mean `keyword argument`  (i.e key=vaule as a argument), instead using normal parameters it use named parameters. These parameters when define follow its default variable. \n",
    "\n",
    "**Basically passing a dict as parameters without have to passing a dict**     "
   ]
  },
  {
   "cell_type": "code",
   "execution_count": null,
   "id": "ce935a52",
   "metadata": {},
   "outputs": [
    {
     "name": "stdout",
     "output_type": "stream",
     "text": [
      "a 1\n",
      "b 2\n",
      "function input as dict: {'a': 1, 'b': 2}\n",
      "a 1\n",
      "b 2\n"
     ]
    }
   ],
   "source": [
    "\n",
    "#? Without **kwargs\n",
    "def foo_0(a):\n",
    "    for key, value in a.items():\n",
    "        print(key, value)\n",
    "\n",
    "foo_0({'a': 1, 'b': 2})\n",
    "\n",
    "\n",
    "#? With **kwargs\n",
    "def foo_1(**kwargs):\n",
    "    print('function input as dict:', kwargs)\n",
    "    for key, value in kwargs.items():\n",
    "        print(key, value)\n",
    "\n",
    "foo_1(a=1, b=2)"
   ]
  },
  {
   "cell_type": "code",
   "execution_count": null,
   "id": "455c227b",
   "metadata": {},
   "outputs": [
    {
     "name": "stdout",
     "output_type": "stream",
     "text": [
      "a = 4, b = 5, c = 6\n",
      "a = 7, b = 8, c = 9\n"
     ]
    }
   ],
   "source": [
    "def hey(a, b, c):\n",
    "    print(\"a = %d, b = %d, c = %d\" % (a, b, c))\n",
    "\n",
    "x = (4, 5, 6)\n",
    "hey(*x) #? use for iterable object like a \"list, tupple\"\n",
    "\n",
    "y = {'a': 7, 'b': 8, 'c': 9}\n",
    "hey(**y) #? ** use to map keyword and value like \"dict\""
   ]
  },
  {
   "cell_type": "code",
   "execution_count": 35,
   "id": "23148f34",
   "metadata": {},
   "outputs": [
    {
     "name": "stdout",
     "output_type": "stream",
     "text": [
      "y_hat: [8.31970102 7.39254396 5.40751604 7.55383916 3.34947725]\n"
     ]
    },
    {
     "data": {
      "text/plain": [
       "np.float64(2.8217261905162365)"
      ]
     },
     "execution_count": 35,
     "metadata": {},
     "output_type": "execute_result"
    }
   ],
   "source": [
    "import random\n",
    "import numpy as np\n",
    "\n",
    "def introduce(**kwargs):\n",
    "    \"\"\"Introduces a person with given attributes.\"\"\"\n",
    "    print(\"Introducing:\")\n",
    "    for key, value in kwargs.items():\n",
    "        print(f\"{key}: {value}\")\n",
    "\n",
    "\n",
    "# Example usage\n",
    "# introduce(name=\"Alice\", age=30, city=\"New York\", occupation=\"Engineer\")\n",
    "\n",
    "y = [random.uniform(0, 10) for _ in range(5)]\n",
    "y_pred = [random.uniform(0, 10) for _ in range(5)]\n",
    "\n",
    "def mae(y, y_hat):\n",
    "    y = np.array(y)\n",
    "    y_hat = np.array(y_hat)\n",
    "    n = len(y)\n",
    "    print('y_hat:', y_hat)\n",
    "\n",
    "    return np.sum(np.abs(y - y_hat)) / n\n",
    "\n",
    "loss_functions = {\n",
    "    'mae': mae,\n",
    "}\n",
    "\n",
    "mae(y, y_pred)"
   ]
  },
  {
   "cell_type": "code",
   "execution_count": 65,
   "id": "bafa382f",
   "metadata": {},
   "outputs": [
    {
     "data": {
      "text/plain": [
       "6"
      ]
     },
     "execution_count": 65,
     "metadata": {},
     "output_type": "execute_result"
    }
   ],
   "source": [
    "def factorial(n):\n",
    "    \"\"\"calculating 3! = 3 + (3-1) + (3-2), stop if (3-2 <= 1 or n-2 <= 1)\n",
    "\n",
    "    Args:\n",
    "        n (int): factorial number\n",
    "    \"\"\"\n",
    "    if n <= 1: #? stop when n reached 1, as 1 is the smallest num in the fatorial\n",
    "        return n\n",
    "\n",
    "    return n + factorial(n - 1)\n",
    "\n",
    "factorial(3)"
   ]
  },
  {
   "cell_type": "code",
   "execution_count": 75,
   "id": "a5b5c5aa",
   "metadata": {},
   "outputs": [
    {
     "name": "stdout",
     "output_type": "stream",
     "text": [
      "0\n",
      "1\n",
      "2\n"
     ]
    }
   ],
   "source": [
    "for i in range(0, 3):\n",
    "    print(i)"
   ]
  },
  {
   "cell_type": "code",
   "execution_count": null,
   "id": "7a7bdb15",
   "metadata": {},
   "outputs": [],
   "source": []
  }
 ],
 "metadata": {
  "kernelspec": {
   "display_name": "ds",
   "language": "python",
   "name": "python3"
  },
  "language_info": {
   "codemirror_mode": {
    "name": "ipython",
    "version": 3
   },
   "file_extension": ".py",
   "mimetype": "text/x-python",
   "name": "python",
   "nbconvert_exporter": "python",
   "pygments_lexer": "ipython3",
   "version": "3.10.16"
  }
 },
 "nbformat": 4,
 "nbformat_minor": 5
}
