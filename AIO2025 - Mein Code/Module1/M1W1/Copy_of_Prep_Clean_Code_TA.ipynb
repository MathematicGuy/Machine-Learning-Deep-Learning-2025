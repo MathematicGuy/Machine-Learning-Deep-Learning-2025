{
  "cells": [
    {
      "cell_type": "markdown",
      "metadata": {
        "id": "ZF043buscanE"
      },
      "source": [
        "## Clean Code là gì? (Ví dụ: Tính giá trị trung bình của một danh sách số)"
      ]
    },
    {
      "cell_type": "markdown",
      "metadata": {
        "id": "hYCQDslxcv-3"
      },
      "source": [
        "### Bad Code"
      ]
    },
    {
      "cell_type": "code",
      "execution_count": 1,
      "metadata": {
        "id": "OjNMbm6Lcbuh"
      },
      "outputs": [
        {
          "name": "stdout",
          "output_type": "stream",
          "text": [
            "2.5\n"
          ]
        }
      ],
      "source": [
        "def a(l):\n",
        "    s=0\n",
        "    for i in range(len(l)):\n",
        "        s+=l[i]\n",
        "    return s/len(l)\n",
        "\n",
        "# Sử dụng\n",
        "print(a([1, 2, 3, 4]))"
      ]
    },
    {
      "cell_type": "markdown",
      "metadata": {
        "id": "P5rvw3krc3cP"
      },
      "source": [
        "### Clean Code"
      ]
    },
    {
      "cell_type": "code",
      "execution_count": 2,
      "metadata": {
        "id": "NK1de8FUdh5n"
      },
      "outputs": [],
      "source": [
        "from typing import List\n",
        "\n",
        "def calculate_average(numbers: List[float]) -> float:\n",
        "    \"\"\"\n",
        "    Trả về giá trị trung bình (mean) của một danh sách số.\n",
        "    Args:\n",
        "        numbers (List[float]): Danh sách các số thực.\n",
        "    Returns:\n",
        "        float: Giá trị trung bình của numbers.\n",
        "    Raises:\n",
        "        ValueError: Nếu danh sách numbers rỗng.\n",
        "    \"\"\"\n",
        "    if not numbers:\n",
        "        raise ValueError(\"Danh sách 'numbers' không được để trống.\")\n",
        "\n",
        "    return sum(numbers) / len(numbers)"
      ]
    },
    {
      "cell_type": "markdown",
      "metadata": {
        "id": "Yq1NPgVUqNbc"
      },
      "source": [
        "## Giới thiệu về PEP-8\n"
      ]
    },
    {
      "cell_type": "markdown",
      "metadata": {
        "id": "f66PcK7oqZq9"
      },
      "source": [
        "### Ví dụ không tuân theo PEP-8"
      ]
    },
    {
      "cell_type": "code",
      "execution_count": 3,
      "metadata": {
        "id": "vP-A_1ZJqcg1"
      },
      "outputs": [
        {
          "name": "stdout",
          "output_type": "stream",
          "text": [
            "8\n"
          ]
        }
      ],
      "source": [
        "def tinhTong(a,b):\n",
        "    return a+b\n",
        "\n",
        "# Sử dụng hàm\n",
        "ketQua=tinhTong(5,3)\n",
        "print(ketQua)"
      ]
    },
    {
      "cell_type": "markdown",
      "metadata": {
        "id": "LlQ86dkJqXVw"
      },
      "source": [
        "### Ví dụ tuân theo PEP-8"
      ]
    },
    {
      "cell_type": "code",
      "execution_count": 4,
      "metadata": {
        "id": "3EwT4_DVqdAm"
      },
      "outputs": [
        {
          "name": "stdout",
          "output_type": "stream",
          "text": [
            "8\n"
          ]
        }
      ],
      "source": [
        "def tinh_tong(a: int, b: int) -> int:\n",
        "    \"\"\"\n",
        "    Tính tổng hai số.\n",
        "\n",
        "    Args:\n",
        "        a (int): Số thứ nhất\n",
        "        b (int): Số thứ hai\n",
        "\n",
        "    Returns:\n",
        "        int: Tổng của hai số\n",
        "    \"\"\"\n",
        "    return a + b\n",
        "\n",
        "# Sử dụng hàm\n",
        "ket_qua = tinh_tong(5, 3)\n",
        "print(ket_qua)"
      ]
    },
    {
      "cell_type": "markdown",
      "metadata": {
        "id": "upIdUvdTv2qJ"
      },
      "source": [
        "## Quy Tắc Đặt Tên – Naming Convention\n"
      ]
    },
    {
      "cell_type": "markdown",
      "metadata": {
        "id": "qTchsGHav5Gv"
      },
      "source": [
        "### Biến / Hàm: snake_case\n"
      ]
    },
    {
      "cell_type": "code",
      "execution_count": 5,
      "metadata": {
        "id": "86CW8o3Tv4nW"
      },
      "outputs": [],
      "source": [
        "# Khai báo biến\n",
        "my_variable = 10\n",
        "\n",
        "# Định nghĩa hàm\n",
        "def my_function():\n",
        "    print(\"Hello\")"
      ]
    },
    {
      "cell_type": "markdown",
      "metadata": {
        "id": "b5Dzp52mv7tl"
      },
      "source": [
        "### Class: PascalCase\n"
      ]
    },
    {
      "cell_type": "code",
      "execution_count": 6,
      "metadata": {
        "id": "IoyukX81v83X"
      },
      "outputs": [],
      "source": [
        "# Đặt tên class\n",
        "class MyClass:\n",
        "    def __init__(self, name):\n",
        "        self.name = name"
      ]
    },
    {
      "cell_type": "markdown",
      "metadata": {
        "id": "Az17Sg6Fv9Nc"
      },
      "source": [
        "### Hằng Số: UPPER_CASE\n"
      ]
    },
    {
      "cell_type": "code",
      "execution_count": 7,
      "metadata": {
        "id": "jD8zvKoKv-ro"
      },
      "outputs": [],
      "source": [
        "# Đặt tên hằng số\n",
        "PI = 3.14\n",
        "MAX_VALUE = 100\n",
        "MIN_VALUE = 5\n",
        "\n",
        "def check_exam_result(score):\n",
        "    if score >= PASSING_SCORE:\n",
        "        return \"Pass\"\n",
        "    return \"Fail\""
      ]
    },
    {
      "cell_type": "markdown",
      "metadata": {
        "id": "P2rqlZy4zQax"
      },
      "source": [
        "## Căn Lề và Khoảng Trắng\n"
      ]
    },
    {
      "cell_type": "markdown",
      "metadata": {
        "id": "E9o52dd-zUW9"
      },
      "source": [
        "### Thụt lề"
      ]
    },
    {
      "cell_type": "code",
      "execution_count": 8,
      "metadata": {
        "id": "VFioFp9CzRMH"
      },
      "outputs": [
        {
          "ename": "IndentationError",
          "evalue": "expected an indented block after function definition on line 1 (736912759.py, line 2)",
          "output_type": "error",
          "traceback": [
            "\u001b[1;36m  Cell \u001b[1;32mIn[8], line 2\u001b[1;36m\u001b[0m\n\u001b[1;33m    ....# Thụt lề 4 khoảng trắng cho khối mã bên trong hàm\u001b[0m\n\u001b[1;37m    ^\u001b[0m\n\u001b[1;31mIndentationError\u001b[0m\u001b[1;31m:\u001b[0m expected an indented block after function definition on line 1\n"
          ]
        }
      ],
      "source": [
        "def greeting(name):\n",
        "....# Thụt lề 4 khoảng trắng cho khối mã bên trong hàm\n",
        "....if name:\n",
        "........# Thụt lề thêm 4 khoảng trắng cho khối if\n",
        "........print(f\"Xin chào, {name}!\")\n",
        "....else:\n",
        "........# Thụt lề đúng với khối if\n",
        "........print(\"Xin chào!\")"
      ]
    },
    {
      "cell_type": "markdown",
      "metadata": {
        "id": "liIDTS56zVq7"
      },
      "source": [
        "### Khoảng trắng trong các biểu thức\n"
      ]
    },
    {
      "cell_type": "code",
      "execution_count": 9,
      "metadata": {
        "id": "6FHVXTS8zXXe"
      },
      "outputs": [],
      "source": [
        "a = 1\n",
        "b = 2\n",
        "c = 3\n",
        "\n",
        "# Sai: Không có khoảng trắng\n",
        "total=a+b*c\n",
        "\n",
        "# Đúng: Có khoảng trắng hai bên phép toán\n",
        "total = a + b * c"
      ]
    },
    {
      "cell_type": "markdown",
      "metadata": {
        "id": "9sNJoKZ9zXzG"
      },
      "source": [
        "### Tránh khoảng trắng thừa\n"
      ]
    },
    {
      "cell_type": "code",
      "execution_count": 10,
      "metadata": {
        "id": "D-rgDmVEzZjq"
      },
      "outputs": [],
      "source": [
        "# Đúng: Không có khoảng trắng thừa\n",
        "def function(x, y):\n",
        "    return (x + y)\n",
        "\n",
        "list_items = [1, 2, 3]\n",
        "dict_items = {'key': 'value'}\n",
        "\n",
        "# Sai: Có khoảng trắng thừa\n",
        "def function( x, y ):\n",
        "    return ( x + y )\n",
        "\n",
        "list_items = [ 1, 2, 3 ]\n",
        "dict_items = { 'key': 'value' }"
      ]
    },
    {
      "cell_type": "markdown",
      "metadata": {
        "id": "70KQHoVWzZ9g"
      },
      "source": [
        "### Không thêm khoảng trắng trong ngoặc\n"
      ]
    },
    {
      "cell_type": "code",
      "execution_count": 11,
      "metadata": {
        "id": "jtdkliRVzciK"
      },
      "outputs": [],
      "source": [
        "# Đúng: Không có khoảng trắng sau\n",
        "# dấu mở ngoặc và trước dấu đóng ngoặc\n",
        "list_items = [1, 2, 3]\n",
        "tuple_items = (1, 2, 3)\n",
        "set_items = {1, 2, 3}\n",
        "\n",
        "# Sai: Có khoảng trắng sau\n",
        "# dấu mở ngoặc và trước dấu đóng ngoặc\n",
        "list_items = [ 1, 2, 3 ]\n",
        "tuple_items = ( 1, 2, 3 )\n",
        "set_items = { 1, 2, 3 }"
      ]
    },
    {
      "cell_type": "markdown",
      "metadata": {
        "id": "ECR7P9Dt3xSn"
      },
      "source": [
        "## So Sánh và Điều Kiện - Pythonic Style\n"
      ]
    },
    {
      "cell_type": "markdown",
      "metadata": {
        "id": "Yw-6i5hY30iC"
      },
      "source": [
        "### So sánh với None"
      ]
    },
    {
      "cell_type": "code",
      "execution_count": 12,
      "metadata": {
        "id": "_zwVP9nx32hB"
      },
      "outputs": [
        {
          "name": "stdout",
          "output_type": "stream",
          "text": [
            "x is None\n"
          ]
        }
      ],
      "source": [
        "# Pythonic\n",
        "x = None\n",
        "if x is None:\n",
        "    print(\"x is None\")\n",
        "elif x is not None:\n",
        "    print(\"x is not None\")"
      ]
    },
    {
      "cell_type": "code",
      "execution_count": 13,
      "metadata": {
        "id": "YAJKykrQ4iY7"
      },
      "outputs": [
        {
          "name": "stdout",
          "output_type": "stream",
          "text": [
            "x is None\n"
          ]
        }
      ],
      "source": [
        "# Non-Pythonic\n",
        "x = None\n",
        "if x == None:  # SAI! None là singleton\n",
        "    print(\"x is None\")"
      ]
    },
    {
      "cell_type": "markdown",
      "metadata": {
        "id": "aqlkvDnA322v"
      },
      "source": [
        "### So sánh boolean trực tiếp"
      ]
    },
    {
      "cell_type": "code",
      "execution_count": 14,
      "metadata": {
        "id": "nCxlpk3c35A7"
      },
      "outputs": [
        {
          "name": "stdout",
          "output_type": "stream",
          "text": [
            "Ready\n",
            "Invalid\n"
          ]
        }
      ],
      "source": [
        "# Pythonic\n",
        "ready = True\n",
        "if ready:  # tận dụng truthiness\n",
        "    print(\"Ready\")\n",
        "\n",
        "valid = False\n",
        "if not valid:  # ngắn gọn và rõ ràng\n",
        "    print(\"Invalid\")"
      ]
    },
    {
      "cell_type": "code",
      "execution_count": 15,
      "metadata": {
        "id": "VYiCJZh84kWy"
      },
      "outputs": [
        {
          "name": "stdout",
          "output_type": "stream",
          "text": [
            "Ready\n"
          ]
        }
      ],
      "source": [
        "# Non-Pythonic\n",
        "ready = True\n",
        "if (ready == True):  # SAI, quá rườm rà!\n",
        "    print(\"Ready\")\n",
        "\n",
        "valid = False\n",
        "if (valid != False):  # SAI!\n",
        "    print(\"Valid\")"
      ]
    },
    {
      "cell_type": "markdown",
      "metadata": {
        "id": "8oCIFZyS35Y5"
      },
      "source": [
        "### Kiểm tra chuỗi/list/dict rỗng"
      ]
    },
    {
      "cell_type": "code",
      "execution_count": 16,
      "metadata": {
        "id": "39PdLGHn39UW"
      },
      "outputs": [
        {
          "name": "stdout",
          "output_type": "stream",
          "text": [
            "Python\n",
            "Empty list\n"
          ]
        }
      ],
      "source": [
        "# Pythonic\n",
        "name = \"Python\"\n",
        "if name:  # Tận dụng truthiness\n",
        "    print(name)\n",
        "\n",
        "items = []\n",
        "if not items:  # Kiểm tra list rỗng\n",
        "    print(\"Empty list\")"
      ]
    },
    {
      "cell_type": "code",
      "execution_count": 17,
      "metadata": {
        "id": "CSQSqeZK4mor"
      },
      "outputs": [
        {
          "name": "stdout",
          "output_type": "stream",
          "text": [
            "Python\n",
            "Empty\n"
          ]
        }
      ],
      "source": [
        "# Non-Pythonic\n",
        "name = \"Python\"\n",
        "if len(name) > 0:  # SAI, không Pythonic!\n",
        "    print(name)\n",
        "\n",
        "items = []\n",
        "if len(items) == 0:  # SAI, nên dùng: if not items\n",
        "    print(\"Empty\")"
      ]
    },
    {
      "cell_type": "markdown",
      "metadata": {
        "id": "Orz9qtl339k-"
      },
      "source": [
        "### Kiểm tra trong collection"
      ]
    },
    {
      "cell_type": "code",
      "execution_count": 18,
      "metadata": {
        "id": "Kt34NJTX4Dkz"
      },
      "outputs": [
        {
          "name": "stdout",
          "output_type": "stream",
          "text": [
            "User is active\n"
          ]
        }
      ],
      "source": [
        "# Pythonic\n",
        "active_users = [\"alice\", \"bob\", \"charlie\"]\n",
        "user = \"bob\"\n",
        "if user in active_users:  # trực tiếp, hiệu quả\n",
        "    print(\"User is active\")"
      ]
    },
    {
      "cell_type": "code",
      "execution_count": 19,
      "metadata": {
        "id": "WRzgWu8R4ppR"
      },
      "outputs": [
        {
          "name": "stdout",
          "output_type": "stream",
          "text": [
            "User is active\n"
          ]
        }
      ],
      "source": [
        "# Non-Pythonic\n",
        "active_users = [\"alice\", \"bob\", \"charlie\"]\n",
        "user = \"bob\"\n",
        "found = False  # SAI, quá phức tạp\n",
        "for u in active_users:\n",
        "    if u == user:\n",
        "        found = True\n",
        "        break\n",
        "if found:\n",
        "    print(\"User is active\")"
      ]
    },
    {
      "cell_type": "markdown",
      "metadata": {
        "id": "m90g9Nvl4D4l"
      },
      "source": [
        "### Chaining comparison"
      ]
    },
    {
      "cell_type": "code",
      "execution_count": 20,
      "metadata": {
        "id": "Mqnzbb1K4FtH"
      },
      "outputs": [
        {
          "name": "stdout",
          "output_type": "stream",
          "text": [
            "Valid percentage\n"
          ]
        }
      ],
      "source": [
        "# Pythonic\n",
        "value = 75\n",
        "if 0 <= value <= 100:  # Pythonic, rõ ràng\n",
        "    print(\"Valid percentage\")"
      ]
    },
    {
      "cell_type": "code",
      "execution_count": 21,
      "metadata": {
        "id": "ojemvd_n4r7f"
      },
      "outputs": [
        {
          "name": "stdout",
          "output_type": "stream",
          "text": [
            "Valid percentage\n"
          ]
        }
      ],
      "source": [
        "# Non-Pythonic\n",
        "value = 75\n",
        "if value >= 0 and value <= 100:  # Dài dòng hơn\n",
        "    print(\"Valid percentage\")"
      ]
    },
    {
      "cell_type": "code",
      "execution_count": null,
      "metadata": {
        "id": "dyigeug4WejS"
      },
      "outputs": [],
      "source": []
    },
    {
      "cell_type": "markdown",
      "metadata": {
        "id": "aDntQ-H6kOKm"
      },
      "source": [
        "## Ví dụ flake8"
      ]
    },
    {
      "cell_type": "markdown",
      "metadata": {
        "id": "y285cx5pkYL9"
      },
      "source": [
        "Tạo 1 file greeting.py có nội dung như sau\n",
        "\n"
      ]
    },
    {
      "cell_type": "code",
      "execution_count": 22,
      "metadata": {
        "id": "UPkVqLsAkQev"
      },
      "outputs": [
        {
          "name": "stdout",
          "output_type": "stream",
          "text": [
            "Hello, Alice\n",
            "Hello, Bob\n"
          ]
        }
      ],
      "source": [
        "def greeting(name):\n",
        "    print(\"Hello, \" + name)\n",
        "\n",
        "greeting(\"Alice\")\n",
        "greeting(\"Bob\")"
      ]
    },
    {
      "cell_type": "markdown",
      "metadata": {
        "id": "Pde349qeklbm"
      },
      "source": [
        "Chạy Flake8 với greeting.py"
      ]
    },
    {
      "cell_type": "code",
      "execution_count": 23,
      "metadata": {
        "id": "5MAOKHFxknxm"
      },
      "outputs": [
        {
          "name": "stdout",
          "output_type": "stream",
          "text": [
            "greeting.py:0:1: E902 FileNotFoundError: [Errno 2] No such file or directory: 'greeting.py'\n"
          ]
        }
      ],
      "source": [
        "!flake8 greeting.py"
      ]
    },
    {
      "cell_type": "markdown",
      "metadata": {
        "id": "ZWA1-e6RkuCG"
      },
      "source": [
        "Kết quả trả về:\n",
        ">> greeting.py:5:1: E999 IndentationError: unexpected indent"
      ]
    },
    {
      "cell_type": "markdown",
      "metadata": {
        "id": "K5XuiJXLkqRD"
      },
      "source": [
        "Kết quả này chỉ ra rằng dòng 5 được thụt lề không cần thiết. Để khắc phục, bạn cần loại bỏ khoảng cách ở phần đầu của dòng này."
      ]
    },
    {
      "cell_type": "code",
      "execution_count": 24,
      "metadata": {
        "id": "1cqxL6YKk1GY"
      },
      "outputs": [
        {
          "name": "stdout",
          "output_type": "stream",
          "text": [
            "Hello, Alice\n",
            "Hello, Bob\n"
          ]
        }
      ],
      "source": [
        "def greeting(name):\n",
        "    print(\"Hello, \" + name)\n",
        "\n",
        "greeting(\"Alice\")\n",
        "greeting(\"Bob\")"
      ]
    },
    {
      "cell_type": "markdown",
      "metadata": {
        "id": "GeEcU1Hlk5o2"
      },
      "source": [
        "Giờ khi chạy Flake8, bạn sẽ nhận được cảnh báo sau:\n",
        ">> greeting.py:4:1: E305 expected 2 blank lines after class or function definition, found 1\n",
        "\n",
        ">> greeting.py:5:16: W292 no newline at end of file"
      ]
    },
    {
      "cell_type": "markdown",
      "metadata": {
        "id": "tj5O17LElFFZ"
      },
      "source": [
        "Kết quả cho biết có các lỗi sau:\n",
        "\n",
        "    Dòng 4 sẽ có 2 dòng trống sau khi định nghĩa hàm greeting, nhưng thực tế chỉ có 1 dòng.\n",
        "    Dòng 5 sẽ có một dòng mới ở cuối file."
      ]
    },
    {
      "cell_type": "markdown",
      "metadata": {
        "id": "EVZejtkKViAw"
      },
      "source": [
        "## Sử dụng Logging và Print hợp lý\n"
      ]
    },
    {
      "cell_type": "markdown",
      "metadata": {
        "id": "TJR_9Q7qc1cP"
      },
      "source": [
        "**Lưu ý: Nên chạy trong terminal kết quả sẽ chính xác hơn**"
      ]
    },
    {
      "cell_type": "markdown",
      "metadata": {
        "id": "l7isPJjhbGa3"
      },
      "source": [
        "### Ghi log ở các mức độ khác nhau"
      ]
    },
    {
      "cell_type": "code",
      "execution_count": 25,
      "metadata": {
        "id": "gefGku4bVmes"
      },
      "outputs": [],
      "source": [
        "import logging\n",
        "\n",
        "logging.basicConfig( level=logging.DEBUG,\n",
        "                    format='%(asctime)s - %(name)s - %(levelname)s - %(message)s',\n",
        "                    filename='app.log')\n",
        "\n",
        "logging.debug(\"Thông tin chi tiết cho debug\")\n",
        "logging.info(\"Thông tin thông thường\")\n",
        "logging.warning(\"Cảnh báo: có vấn đề nhỏ xảy ra\")\n",
        "logging.error(\"Lỗi: có vấn đề nghiêm trọng\")\n",
        "logging.critical(\"NGUY HIỂM: chương trình có thể crash\")"
      ]
    },
    {
      "cell_type": "markdown",
      "metadata": {
        "id": "V1ZlJvnFcSGA"
      },
      "source": [
        "### Chỉ log những mức độ cảnh báo trở lên"
      ]
    },
    {
      "cell_type": "code",
      "execution_count": 26,
      "metadata": {
        "id": "B7wAVrc8cTEU"
      },
      "outputs": [
        {
          "ename": "SyntaxError",
          "evalue": "incomplete input (1887097215.py, line 10)",
          "output_type": "error",
          "traceback": [
            "\u001b[1;36m  Cell \u001b[1;32mIn[26], line 10\u001b[1;36m\u001b[0m\n\u001b[1;33m    logging.critical(\"NGUY HIỂM: chương trình có thể crash\"\u001b[0m\n\u001b[1;37m                                                           ^\u001b[0m\n\u001b[1;31mSyntaxError\u001b[0m\u001b[1;31m:\u001b[0m incomplete input\n"
          ]
        }
      ],
      "source": [
        "# Chỉ log những mức độ cảnh báo (WARNING) trở lên\n",
        "logging.basicConfig( level=logging.WARNING,\n",
        "                    format='%(asctime)s - %(name)s - %(levelname)s - %(message)s',\n",
        "                    filename='app.log')\n",
        "\n",
        "logging.debug(\"Thông tin chi tiết cho debug\")\n",
        "logging.info(\"Thông tin thông thường\")\n",
        "logging.warning(\"Cảnh báo: có vấn đề nhỏ xảy ra\")\n",
        "logging.error(\"Lỗi: có vấn đề nghiêm trọng\")\n",
        "logging.critical(\"NGUY HIỂM: chương trình có thể crash\""
      ]
    },
    {
      "cell_type": "markdown",
      "metadata": {
        "id": "YPQX3daIcbW1"
      },
      "source": [
        "\n",
        "### Tắt log tạm thời"
      ]
    },
    {
      "cell_type": "code",
      "execution_count": null,
      "metadata": {
        "id": "v6ASpVZscb2h"
      },
      "outputs": [],
      "source": [
        "# Tắt log tạm thời\n",
        "logging.info(\"Dòng này sẽ hiện ra\")\n",
        "logging.disable(logging.CRITICAL)\n",
        "logging.info(\"Dòng này sẽ không hiện ra\")\n",
        "logging.disable(logging.NOTSET)  # Bật lại logging\n",
        "logging.info(\"Log đã bật lại\")"
      ]
    },
    {
      "cell_type": "markdown",
      "metadata": {
        "id": "WWeAM8oqcfcI"
      },
      "source": [
        "### Sử dụng exception trong logging (ghi lại thông tin lỗi)"
      ]
    },
    {
      "cell_type": "code",
      "execution_count": null,
      "metadata": {
        "id": "-l1m2V1UcgHf"
      },
      "outputs": [],
      "source": [
        "# Sử dụng exception trong logging (ghi lại thông tin lỗi)\n",
        "try:\n",
        "    1 / 0\n",
        "except Exception as e:\n",
        "    logging.error(\"Có lỗi xảy ra: %s\", e)"
      ]
    },
    {
      "cell_type": "markdown",
      "metadata": {
        "id": "QNdAGUlnvduW"
      },
      "source": [
        "## Creational Patterns: Factory & Singleton\n"
      ]
    },
    {
      "cell_type": "markdown",
      "metadata": {
        "id": "b62OL2pPv8IF"
      },
      "source": [
        "### Factory Pattern\n"
      ]
    },
    {
      "cell_type": "code",
      "execution_count": null,
      "metadata": {
        "id": "fGFc1u07y10m"
      },
      "outputs": [],
      "source": [
        "class ButtonFactory:\n",
        "    def create_button(self, button_type):\n",
        "        if button_type == \"round\":\n",
        "            return RoundButton()\n",
        "        elif button_type == \"square\":\n",
        "            return SquareButton()\n",
        "        elif button_type == \"toggle\":\n",
        "            return ToggleButton()\n",
        "        # Dễ dàng thêm button mới\n",
        "\n",
        "# Sử dụng trong thực tế\n",
        "factory = ButtonFactory()\n",
        "button = factory.create_button(\"round\")\n",
        "button.render()  # Client không quan tâm đến chi tiết triển khai\n"
      ]
    },
    {
      "cell_type": "markdown",
      "metadata": {
        "id": "W4VqXBusv_C0"
      },
      "source": [
        "## Singleton Pattern\n"
      ]
    },
    {
      "cell_type": "code",
      "execution_count": null,
      "metadata": {
        "id": "Uv-MGQrVv62D"
      },
      "outputs": [],
      "source": [
        "class DatabaseConnection:\n",
        "    _instance = None\n",
        "    _is_initialized = False\n",
        "\n",
        "    def __new__(cls):\n",
        "        if cls._instance is None:\n",
        "            cls._instance = super().__new__(cls)\n",
        "        return cls._instance\n",
        "\n",
        "    def __init__(self):\n",
        "        # Đảm bảo chỉ khởi tạo một lần\n",
        "        if not self._is_initialized:\n",
        "            self.host = \"localhost\"\n",
        "            self.connect_db()\n",
        "            self._is_initialized = True\n",
        "\n",
        "    def connect_db(self):\n",
        "        print(\"Connecting to database once...\")\n",
        "\n",
        "# Luôn trả về cùng một instance\n",
        "conn1 = DatabaseConnection()\n",
        "conn2 = DatabaseConnection()\n",
        "# conn1 is conn2 -> True\n"
      ]
    },
    {
      "cell_type": "markdown",
      "metadata": {
        "id": "jxZTJ9kKy4t4"
      },
      "source": [
        "## Ví dụ về Structural Patterns: Adapter & Decorator\n"
      ]
    },
    {
      "cell_type": "markdown",
      "metadata": {
        "id": "JvF9U9gS3O6w"
      },
      "source": [
        "### Adapter Pattern\n"
      ]
    },
    {
      "cell_type": "code",
      "execution_count": null,
      "metadata": {
        "id": "NlsnoLJm3TEz"
      },
      "outputs": [],
      "source": [
        "class LegacyAPI:\n",
        "    def old_method(self, data):\n",
        "        return f\"Legacy output: {data}\"\n",
        "\n",
        "class NewInterface:\n",
        "    def new_method(self, info):\n",
        "        pass\n",
        "\n",
        "class Adapter(NewInterface):\n",
        "    def __init__(self, legacy_obj):\n",
        "        self.legacy = legacy_obj\n",
        "\n",
        "    def new_method(self, info):\n",
        "        # Chuyển đổi từ new_method sang old_method\n",
        "        return self.legacy.old_method(info)\n",
        "\n",
        "# Sử dụng adapter\n",
        "legacy = LegacyAPI()\n",
        "adapter = Adapter(legacy)\n",
        "result = adapter.new_method(\"test data\")\n",
        "# Kết quả: \"Legacy output: test data\"\n"
      ]
    },
    {
      "cell_type": "markdown",
      "metadata": {
        "id": "kQa0q1kz3VYt"
      },
      "source": [
        "### Decorator Pattern\n"
      ]
    },
    {
      "cell_type": "code",
      "execution_count": null,
      "metadata": {
        "id": "ovwdgQpO3Xg_"
      },
      "outputs": [],
      "source": [
        "class Component:\n",
        "    def operation(self):\n",
        "        return \"Basic operation\"\n",
        "\n",
        "class ConcreteComponent(Component):\n",
        "    def operation(self):\n",
        "        return \"Concrete operation\"\n",
        "\n",
        "class Decorator(Component):\n",
        "    def __init__(self, component):\n",
        "        self._component = component\n",
        "\n",
        "    def operation(self):\n",
        "        return self._component.operation()\n",
        "\n",
        "class LoggingDecorator(Decorator):\n",
        "    def operation(self):\n",
        "        result = self._component.operation()\n",
        "        print(f\"LOG: Called operation\")\n",
        "        return result\n",
        "\n",
        "# Tạo component và thêm decorator\n",
        "component = ConcreteComponent()\n",
        "decorated = LoggingDecorator(component)\n",
        "result = decorated.operation()\n",
        "# In log và trả về \"Concrete operation\"\n"
      ]
    },
    {
      "cell_type": "markdown",
      "metadata": {
        "id": "2Lz9d9f_F7YS"
      },
      "source": [
        "## Descriptor là gì?\n"
      ]
    },
    {
      "cell_type": "code",
      "execution_count": null,
      "metadata": {
        "id": "BQizncM2F8CN"
      },
      "outputs": [],
      "source": [
        "class TypedAttribute:\n",
        "    def __init__(self, type, default=None):\n",
        "        self.name = None\n",
        "        self.type = type\n",
        "        self.default = default\n",
        "\n",
        "    def __set_name__(self, owner, name):\n",
        "        self.name = name\n",
        "\n",
        "    def __get__(self, obj, objtype=None):\n",
        "        if obj is None:  # Truy cập từ class\n",
        "            return self\n",
        "        return obj.__dict__.get(self.name, self.default)\n",
        "\n",
        "    def __set__(self, obj, value):\n",
        "        if not isinstance(value, self.type):\n",
        "            raise TypeError(f\"{self.name} phải là kiểu {self.type.__name__}\")\n",
        "        obj.__dict__[self.name] = value\n",
        "\n",
        "class User:\n",
        "    name = TypedAttribute(str)\n",
        "    age = TypedAttribute(int, 0)\n",
        "\n",
        "user = User()\n",
        "user.name = \"Alice\"\n",
        "user.age = 30\n",
        "# user.age = \"30\"  # Lỗi: TypeError\n"
      ]
    },
    {
      "cell_type": "markdown",
      "metadata": {
        "id": "gG1szkqbF_SY"
      },
      "source": [
        "## Tái sử dụng logic với Descriptor\n"
      ]
    },
    {
      "cell_type": "code",
      "execution_count": null,
      "metadata": {
        "id": "zreKunV7HqCv"
      },
      "outputs": [],
      "source": [
        "class Positive:\n",
        "    def __set_name__(self, owner, name):\n",
        "        self.name = name\n",
        "\n",
        "    def __set__(self, instance, value):\n",
        "        if value <= 0:\n",
        "            raise ValueError(f\"{self.name} phải là số dương!\")\n",
        "        instance.__dict__[self.name] = value\n",
        "\n",
        "    def __get__(self, instance, owner):\n",
        "        if instance is None:\n",
        "            return self\n",
        "        return instance.__dict__.get(self.name, 0)\n",
        "\n",
        "class StringMax:\n",
        "    def __init__(self, max_length=50):\n",
        "        self.max_length = max_length\n",
        "\n",
        "    def __set_name__(self, owner, name):\n",
        "        self.name = name\n",
        "\n",
        "    def __set__(self, instance, value):\n",
        "        if not isinstance(value, str):\n",
        "            raise TypeError(f\"{self.name} phải là chuỗi!\")\n",
        "        if len(value) > self.max_length:\n",
        "            raise ValueError(f\"{self.name} không được vượt quá {self.max_length} ký tự!\")\n",
        "        instance.__dict__[self.name] = value\n",
        "\n",
        "# Tái sử dụng descriptor ở nhiều class khác nhau\n",
        "class Product:\n",
        "    name = StringMax(100)\n",
        "    price = Positive()\n",
        "    stock = Positive()\n",
        "\n",
        "class Employee:\n",
        "    salary = Positive()\n",
        "    bonus = Positive()\n",
        "\n",
        "# Sử dụng\n",
        "product = Product()\n",
        "product.name = \"Laptop\"  # OK\n",
        "product.price = 1000     # OK\n",
        "product.price = -5       # Raise error: price phải là số dương!\n",
        "\n",
        "employee = Employee()\n",
        "employee.salary = 5000   # OK - Cùng logic với price nhưng ở class khác\n"
      ]
    },
    {
      "cell_type": "markdown",
      "metadata": {
        "id": "D_dQU2uaLslA"
      },
      "source": [
        "## Bài tập luyện tập\n"
      ]
    },
    {
      "cell_type": "markdown",
      "metadata": {
        "id": "ur2fmHS1LvxY"
      },
      "source": [
        "### Viết decorator đo thời gian thực thi hàm\n"
      ]
    },
    {
      "cell_type": "code",
      "execution_count": null,
      "metadata": {
        "id": "lYJNZbBpLvJl"
      },
      "outputs": [],
      "source": [
        "from time import time\n",
        "import functools\n",
        "\n",
        "def timeit(func):\n",
        "    \"\"\"\n",
        "    Decorator đo thời gian thực thi của hàm và in kết quả.\n",
        "    Sử dụng functools.wraps để giữ metadata.\n",
        "    \"\"\"\n",
        "    @functools.wraps(func)\n",
        "    def wrapper(*args, **kwargs):\n",
        "        # Mã của bạn tại đây\n",
        "        # 1. Lưu thời gian bắt đầu\n",
        "        # 2. Gọi hàm gốc\n",
        "        # 3. Tính thời gian thực thi\n",
        "        # 4. In kết quả\n",
        "        # 5. Trả về kết quả gốc\n",
        "        pass\n",
        "    return wrapper\n",
        "\n",
        "@timeit\n",
        "def slow_function():\n",
        "    import time\n",
        "    time.sleep(2)\n",
        "    return \"Function completed\"\n"
      ]
    },
    {
      "cell_type": "markdown",
      "metadata": {
        "id": "lCuB38MgLyDq"
      },
      "source": [
        "### Tạo descriptor NonEmptyString – không cho phép chuỗi rỗng\n"
      ]
    },
    {
      "cell_type": "code",
      "execution_count": null,
      "metadata": {
        "id": "cwCqpvyYL1nA"
      },
      "outputs": [],
      "source": [
        "class NonEmptyString:\n",
        "    \"\"\"\n",
        "    Descriptor đảm bảo thuộc tính luôn là chuỗi không rỗng.\n",
        "    \"\"\"\n",
        "    def __init__(self, name=None):\n",
        "        # Lưu tên của thuộc tính để sử dụng trong __set__\n",
        "        self.name = name\n",
        "\n",
        "    def __set_name__(self, owner, name):\n",
        "        # Phương thức này được gọi khi descriptor được gán cho class\n",
        "        # Điền code của bạn tại đây\n",
        "        pass\n",
        "\n",
        "    def __get__(self, instance, owner):\n",
        "        # Trả về giá trị từ instance.__dict__\n",
        "        # Điền code của bạn tại đây\n",
        "        pass\n",
        "\n",
        "    def __set__(self, instance, value):\n",
        "        # Kiểm tra value có phải là chuỗi không rỗng không\n",
        "        # Nếu không, raise ValueError\n",
        "        # Nếu hợp lệ, lưu vào instance.__dict__\n",
        "        # Điền code của bạn tại đây\n",
        "        pass\n",
        "\n",
        "class Person:\n",
        "    name = NonEmptyString()\n",
        "\n",
        "    def __init__(self, name):\n",
        "        self.name = name\n"
      ]
    }
  ],
  "metadata": {
    "colab": {
      "provenance": []
    },
    "kernelspec": {
      "display_name": "ds",
      "language": "python",
      "name": "python3"
    },
    "language_info": {
      "codemirror_mode": {
        "name": "ipython",
        "version": 3
      },
      "file_extension": ".py",
      "mimetype": "text/x-python",
      "name": "python",
      "nbconvert_exporter": "python",
      "pygments_lexer": "ipython3",
      "version": "3.10.16"
    }
  },
  "nbformat": 4,
  "nbformat_minor": 0
}
