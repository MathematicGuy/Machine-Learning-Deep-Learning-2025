{
 "cells": [
  {
   "cell_type": "code",
   "execution_count": 1,
   "id": "249275d8",
   "metadata": {},
   "outputs": [],
   "source": [
    "docs = [\n",
    "    \"Học máy là một nhánh của trí tuệ nhân tạo\",\n",
    "    \"Trí tuệ nhân tạo bao gồm học máy và mạng nơ ron\",\n",
    "    \"Mạng nơ ron là một mô hình quan trọng trong học sâu\",\n",
    "    \"Học sâu là một lĩnh vực của trí tuệ nhân tạo và học máy\"\n",
    "]"
   ]
  },
  {
   "cell_type": "code",
   "execution_count": null,
   "id": "58411167",
   "metadata": {},
   "outputs": [],
   "source": [
    "import numpy as np\n",
    "\n",
    "def build_vocabulary(docs):\n",
    "    vocab_set = set()\n",
    "    for doc in docs:\n",
    "        words = doc.lower().split()\n",
    "        vocab_set.update(words)\n",
    "    vocab = list(vocab_set)\n",
    "    return vocab"
   ]
  },
  {
   "cell_type": "code",
   "execution_count": 6,
   "id": "31a77be4",
   "metadata": {},
   "outputs": [],
   "source": [
    "def compute_tf(doc, vocab):\n",
    "    words = doc.lower().split()\n",
    "    tf = np.zeros(len(vocab))\n",
    "    for i, term in enumerate(vocab):\n",
    "        tf[i] = words.count(term) / len(words)\n",
    "    return tf"
   ]
  },
  {
   "cell_type": "code",
   "execution_count": null,
   "id": "38580564",
   "metadata": {},
   "outputs": [],
   "source": [
    "def compute_idf(docs, vocab):\n",
    "    N = len(docs)\n",
    "    idf = np.zeros(len(vocab))\n",
    "    for i, term in enumerate(vocab):\n",
    "        df = sum([1 for doc in docs if term in doc.lower().split()])\n",
    "        idf[i] = np.log((N + 1) / (df + 1)) + 1\n",
    "    return idf\n"
   ]
  },
  {
   "cell_type": "code",
   "execution_count": null,
   "id": "dfbdc230",
   "metadata": {},
   "outputs": [],
   "source": [
    "def compute_tfidf(tf, idf):\n",
    "    tf_idf = #Your code here#\n",
    "    return tf_idf"
   ]
  },
  {
   "cell_type": "code",
   "execution_count": 8,
   "id": "fd1639ae",
   "metadata": {},
   "outputs": [
    {
     "ename": "NameError",
     "evalue": "name 'compute_tfidf' is not defined",
     "output_type": "error",
     "traceback": [
      "\u001b[1;31m---------------------------------------------------------------------------\u001b[0m",
      "\u001b[1;31mNameError\u001b[0m                                 Traceback (most recent call last)",
      "Cell \u001b[1;32mIn[8], line 6\u001b[0m\n\u001b[0;32m      4\u001b[0m tf_matrix \u001b[38;5;241m=\u001b[39m np\u001b[38;5;241m.\u001b[39marray([compute_tf(doc, vocab) \u001b[38;5;28;01mfor\u001b[39;00m doc \u001b[38;5;129;01min\u001b[39;00m docs])\n\u001b[0;32m      5\u001b[0m idf_vector \u001b[38;5;241m=\u001b[39m compute_idf(docs, vocab)\n\u001b[1;32m----> 6\u001b[0m tfidf_matrix \u001b[38;5;241m=\u001b[39m \u001b[43mcompute_tfidf\u001b[49m(tf_matrix, idf_vector)\n\u001b[0;32m      8\u001b[0m sns\u001b[38;5;241m.\u001b[39mheatmap(tfidf_matrix, annot\u001b[38;5;241m=\u001b[39m\u001b[38;5;28;01mTrue\u001b[39;00m, fmt\u001b[38;5;241m=\u001b[39m\u001b[38;5;124m'\u001b[39m\u001b[38;5;124m.3f\u001b[39m\u001b[38;5;124m'\u001b[39m, cmap\u001b[38;5;241m=\u001b[39m\u001b[38;5;124m\"\u001b[39m\u001b[38;5;124mYlOrRd\u001b[39m\u001b[38;5;124m\"\u001b[39m)\n",
      "\u001b[1;31mNameError\u001b[0m: name 'compute_tfidf' is not defined"
     ]
    }
   ],
   "source": [
    "import seaborn as sns\n",
    "\n",
    "vocab = build_vocabulary(docs)\n",
    "tf_matrix = np.array([compute_tf(doc, vocab) for doc in docs])\n",
    "idf_vector = compute_idf(docs, vocab)\n",
    "tfidf_matrix = compute_tfidf(tf_matrix, idf_vector)\n",
    "\n",
    "sns.heatmap(tfidf_matrix, annot=True, fmt='.3f', cmap=\"YlOrRd\")"
   ]
  },
  {
   "cell_type": "code",
   "execution_count": null,
   "id": "18e280fe",
   "metadata": {},
   "outputs": [],
   "source": []
  }
 ],
 "metadata": {
  "kernelspec": {
   "display_name": "ds",
   "language": "python",
   "name": "python3"
  },
  "language_info": {
   "codemirror_mode": {
    "name": "ipython",
    "version": 3
   },
   "file_extension": ".py",
   "mimetype": "text/x-python",
   "name": "python",
   "nbconvert_exporter": "python",
   "pygments_lexer": "ipython3",
   "version": "3.10.16"
  }
 },
 "nbformat": 4,
 "nbformat_minor": 5
}
