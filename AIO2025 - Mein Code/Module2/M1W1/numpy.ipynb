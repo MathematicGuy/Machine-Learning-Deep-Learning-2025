{
 "cells": [
  {
   "cell_type": "code",
   "execution_count": null,
   "id": "fdd3a4f7",
   "metadata": {},
   "outputs": [
    {
     "name": "stdout",
     "output_type": "stream",
     "text": [
      "[1.  1.5 2.  2.5]\n"
     ]
    }
   ],
   "source": [
    "import numpy as np\n",
    "\n",
    "#? It is similar to Python's built-in range() function but returns a NumPy array instead of a list,\n",
    "#? making it more suitable for numerical computations and array-based operations\n",
    "data = np.arange(1, 3, 0.5) # start, stop, step\n",
    "print(data)"
   ]
  },
  {
   "cell_type": "code",
   "execution_count": 62,
   "id": "0b012598",
   "metadata": {},
   "outputs": [
    {
     "name": "stdout",
     "output_type": "stream",
     "text": [
      "[0 1 2 3 4 5 6 7 8 9]\n"
     ]
    },
    {
     "data": {
      "text/plain": [
       "array([[0, 1, 2, 3, 4],\n",
       "       [5, 6, 7, 8, 9]])"
      ]
     },
     "execution_count": 62,
     "metadata": {},
     "output_type": "execute_result"
    }
   ],
   "source": [
    "d = np.arange(10)\n",
    "print(d)\n",
    "d.reshape(-1, 5)"
   ]
  },
  {
   "cell_type": "code",
   "execution_count": 20,
   "id": "08532d57",
   "metadata": {},
   "outputs": [
    {
     "name": "stdout",
     "output_type": "stream",
     "text": [
      "[0 1 2 3 4 5]\n"
     ]
    },
    {
     "data": {
      "text/plain": [
       "array([1, 4])"
      ]
     },
     "execution_count": 20,
     "metadata": {},
     "output_type": "execute_result"
    }
   ],
   "source": [
    "import numpy as np\n",
    "\n",
    "data = np.arange(6)\n",
    "print(data)\n",
    "\n",
    "data = data.copy().reshape(2, 3)\n",
    "\n",
    "# np.repeat(data, 3)\n",
    "data[:, 1]"
   ]
  },
  {
   "cell_type": "code",
   "execution_count": 21,
   "id": "e05aacd6",
   "metadata": {},
   "outputs": [
    {
     "name": "stdout",
     "output_type": "stream",
     "text": [
      "[0 1 2 3 4 5]\n"
     ]
    }
   ],
   "source": [
    "data = np.arange(6)\n",
    "print(data)\n"
   ]
  },
  {
   "cell_type": "code",
   "execution_count": 22,
   "id": "c1fb94df",
   "metadata": {},
   "outputs": [
    {
     "data": {
      "text/plain": [
       "array([3, 4, 5])"
      ]
     },
     "execution_count": 22,
     "metadata": {},
     "output_type": "execute_result"
    }
   ],
   "source": [
    "data[data >= 3]"
   ]
  },
  {
   "cell_type": "code",
   "execution_count": null,
   "id": "18106b37",
   "metadata": {},
   "outputs": [
    {
     "data": {
      "text/plain": [
       "array([[0, 1, 2],\n",
       "       [3, 4, 5],\n",
       "       [6, 7, 8]])"
      ]
     },
     "execution_count": 25,
     "metadata": {},
     "output_type": "execute_result"
    }
   ],
   "source": [
    "data = np.arange(9).reshape(3, 3)\n",
    "data"
   ]
  },
  {
   "cell_type": "code",
   "execution_count": 31,
   "id": "6c4ad685",
   "metadata": {},
   "outputs": [
    {
     "data": {
      "text/plain": [
       "array([[0, 1, 2],\n",
       "       [3, 4, 5],\n",
       "       [6, 7, 8]])"
      ]
     },
     "execution_count": 31,
     "metadata": {},
     "output_type": "execute_result"
    }
   ],
   "source": [
    "data = data.copy()[:, [1,0,2]] # row, column\n",
    "data"
   ]
  },
  {
   "cell_type": "code",
   "execution_count": null,
   "id": "75554382",
   "metadata": {},
   "outputs": [
    {
     "data": {
      "text/plain": [
       "array([[0, 1],\n",
       "       [3, 4],\n",
       "       [6, 7]])"
      ]
     },
     "execution_count": 36,
     "metadata": {},
     "output_type": "execute_result"
    }
   ],
   "source": [
    "data[:, :-1] # cutoff column at position/index -1"
   ]
  },
  {
   "cell_type": "code",
   "execution_count": 45,
   "id": "2f9bc76a",
   "metadata": {},
   "outputs": [
    {
     "data": {
      "text/plain": [
       "array([[0, 1, 2],\n",
       "       [3, 4, 5],\n",
       "       [6, 7, 8]])"
      ]
     },
     "execution_count": 45,
     "metadata": {},
     "output_type": "execute_result"
    }
   ],
   "source": [
    "data = np.arange(9).reshape(3, 3)\n",
    "data"
   ]
  },
  {
   "cell_type": "code",
   "execution_count": 47,
   "id": "90fab8d2",
   "metadata": {},
   "outputs": [
    {
     "data": {
      "text/plain": [
       "array([[ 3,  6],\n",
       "       [12, 15]])"
      ]
     },
     "execution_count": 47,
     "metadata": {},
     "output_type": "execute_result"
    }
   ],
   "source": [
    "data[:2, 1:]*3 # from row (up to down) to coumn (left to right)"
   ]
  },
  {
   "cell_type": "code",
   "execution_count": null,
   "id": "949d9520",
   "metadata": {},
   "outputs": [
    {
     "data": {
      "text/plain": [
       "np.int64(2)"
      ]
     },
     "execution_count": 6,
     "metadata": {},
     "output_type": "execute_result"
    }
   ],
   "source": [
    "import numpy as np\n",
    "arr = np.array([2,1,5,8,5,9])\n",
    "np.sum(arr == 5)"
   ]
  },
  {
   "cell_type": "code",
   "execution_count": null,
   "id": "bf1d4f42",
   "metadata": {},
   "outputs": [
    {
     "data": {
      "text/plain": [
       "array([2, 5, 8, 5, 9])"
      ]
     },
     "execution_count": 12,
     "metadata": {},
     "output_type": "execute_result"
    }
   ],
   "source": [
    "arr = np.array([2,1,5,8,5,9])\n",
    "# delete 1 from arr\n",
    "np.delete(arr, np.arange(1, 2)) #? np.arrange(1, 2) return 1"
   ]
  },
  {
   "cell_type": "code",
   "execution_count": null,
   "id": "fd4a6e07",
   "metadata": {},
   "outputs": [
    {
     "name": "stdout",
     "output_type": "stream",
     "text": [
      "[2 4]\n",
      "[2 1 8 9]\n"
     ]
    }
   ],
   "source": [
    "arr = np.array([2,1,5,8,5,9])\n",
    "del_indices = np.where(arr==5)[0] #? return position of every '5' inside the array\n",
    "print(del_indices) #? delete element at position 2 and 4\n",
    "print(np.delete(arr, 2))"
   ]
  },
  {
   "cell_type": "code",
   "execution_count": 27,
   "id": "0627ce03",
   "metadata": {},
   "outputs": [
    {
     "name": "stdout",
     "output_type": "stream",
     "text": [
      "(0, 0) 4\n",
      "(0, 1) 5\n",
      "(0, 2) 6\n"
     ]
    }
   ],
   "source": [
    "arr = np.array([[4,5,6]])\n",
    "for i, v in np.ndenumerate(arr):\n",
    "    print(i, v)"
   ]
  },
  {
   "cell_type": "code",
   "execution_count": null,
   "id": "59106148",
   "metadata": {},
   "outputs": [
    {
     "name": "stdout",
     "output_type": "stream",
     "text": [
      "(0, 0) 4\n",
      "(0, 1) 5\n",
      "(0, 2) 6\n",
      "(1, 0) 8\n",
      "(1, 1) 8\n",
      "(1, 2) 8\n",
      "(2, 0) 9\n",
      "(2, 1) 9\n",
      "(2, 2) 0\n"
     ]
    }
   ],
   "source": [
    "arr = np.array([[4,5,6], [8,8,8], [9,9,0]])\n",
    "for i, v in np.ndenumerate(arr):\n",
    "    print(i, v)"
   ]
  },
  {
   "cell_type": "code",
   "execution_count": 1,
   "id": "fe3a4581",
   "metadata": {},
   "outputs": [
    {
     "name": "stdout",
     "output_type": "stream",
     "text": [
      "{np.int64(1): 4, np.int64(2): 2, np.int64(3): 3}\n"
     ]
    }
   ],
   "source": [
    "import numpy as np\n",
    "\n",
    "arr = np.array([[1, 2, 1],\n",
    "                [3, 1, 2],\n",
    "                [3, 3, 1]])\n",
    "\n",
    "element_counts = {}\n",
    "for row in arr:\n",
    "    for element in row:\n",
    "        element_counts[element] = element_counts.get(element, 0) + 1\n",
    "\n",
    "print(element_counts)"
   ]
  },
  {
   "cell_type": "code",
   "execution_count": null,
   "id": "9c817a04",
   "metadata": {},
   "outputs": [],
   "source": []
  }
 ],
 "metadata": {
  "kernelspec": {
   "display_name": "ds",
   "language": "python",
   "name": "python3"
  },
  "language_info": {
   "codemirror_mode": {
    "name": "ipython",
    "version": 3
   },
   "file_extension": ".py",
   "mimetype": "text/x-python",
   "name": "python",
   "nbconvert_exporter": "python",
   "pygments_lexer": "ipython3",
   "version": "3.10.16"
  }
 },
 "nbformat": 4,
 "nbformat_minor": 5
}
