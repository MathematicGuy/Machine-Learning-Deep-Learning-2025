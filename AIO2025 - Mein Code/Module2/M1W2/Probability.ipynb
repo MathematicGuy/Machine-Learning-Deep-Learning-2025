{
 "cells": [
  {
   "cell_type": "code",
   "execution_count": 20,
   "id": "71c91f63",
   "metadata": {},
   "outputs": [],
   "source": [
    "import pandas as pd\n",
    "import numpy as np"
   ]
  },
  {
   "cell_type": "code",
   "execution_count": 19,
   "id": "ca56efef",
   "metadata": {},
   "outputs": [
    {
     "name": "stdout",
     "output_type": "stream",
     "text": [
      "p_studied: 0.5\n",
      "p_pass_studies: 0.6666666666666666\n",
      "p_fail_studies: 0.3333333333333333\n"
     ]
    }
   ],
   "source": [
    "tot = 6\n",
    "p = 3\n",
    "f = 3\n",
    "\n",
    "p_studied = ((3/6 * 2/3) +  (3/6 * 1/3))\n",
    "print('p_studied:', p_studied)\n",
    "p_pass = 3/6\n",
    "p_studied_pass = 2/3 # studied given pass\n",
    "p_studied_fail = 1/3\n",
    "p_pass_studies = (p_studied_pass * p_studied) / p_studied\n",
    "print('p_pass_studies:', p_pass_studies)\n",
    "\n",
    "p_pass_studies = (p_studied_fail * p_studied) / p_studied\n",
    "print('p_fail_studies:', p_pass_studies)"
   ]
  },
  {
   "cell_type": "code",
   "execution_count": 27,
   "id": "a819c3c6",
   "metadata": {},
   "outputs": [
    {
     "data": {
      "text/plain": [
       "np.float64(4.0)"
      ]
     },
     "execution_count": 27,
     "metadata": {},
     "output_type": "execute_result"
    }
   ],
   "source": [
    "np.sqrt(16)"
   ]
  },
  {
   "cell_type": "code",
   "execution_count": 43,
   "id": "b6f784bf",
   "metadata": {},
   "outputs": [
    {
     "name": "stdout",
     "output_type": "stream",
     "text": [
      "Gaussian Distribution Category 0: 0.00046381385482350016\n",
      "Gaussian Distribution Category 1: 0.009749538494816147\n"
     ]
    },
    {
     "data": {
      "text/plain": [
       "0.00706059"
      ]
     },
     "execution_count": 43,
     "metadata": {},
     "output_type": "execute_result"
    }
   ],
   "source": [
    "import math\n",
    "\n",
    "\n",
    "def gaussian_naive_bayes(x, mu, sigmoid):\n",
    "    \"\"\"\n",
    "    Gaussian Naive Bayes Classifier function f(x)\n",
    "\n",
    "    Args:\n",
    "        x (float): Input feature value\n",
    "        mu (float): Mean of the Gaussian distribution\n",
    "        sigmoid (float): standard deviation of the Gaussian distribution\n",
    "\n",
    "    Returns:\n",
    "        float: Probability density of x under the Gaussian distribution\n",
    "    \"\"\"\n",
    "    exponent = math.exp(-((x - mu) ** 2) / (2 * sigmoid**2))\n",
    "    return (1 / (math.sqrt(2 * math.pi) * sigmoid)) * exponent\n",
    "\n",
    "# Example usage\n",
    "x = 3 #? leaf length\n",
    "variance = 0.1416 # sigmoid**2 is sigmoid\n",
    "sigmoid = np.sqrt(variance)\n",
    "mu = 1.52 # mean\n",
    "gaus_distribution_cat0 = gaussian_naive_bayes(x, mu, sigmoid)\n",
    "print(\"Gaussian Distribution Category 0:\", gaus_distribution_cat0)\n",
    "\n",
    "variance = 0.0776 # sigmoid**2 is sigmoid\n",
    "mu = 3.88 # mean\n",
    "sigmoid = np.sqrt(variance)\n",
    "gaus_distribution_cat1 = gaussian_naive_bayes(x, mu, sigmoid)\n",
    "print(\"Gaussian Distribution Category 1:\", gaus_distribution_cat1)\n",
    "\n",
    "0.0342*0.4129*0.5"
   ]
  },
  {
   "cell_type": "code",
   "execution_count": 2,
   "metadata": {},
   "outputs": [],
   "source": [
    "Outcome = [\n",
    "    [\"Sunny\", \"Hot\", \"High\", \"Weak\", \"no\"],\n",
    "    [\"Sunny\", \"Hot\", \"High\", \"Strong\", \"no\"],\n",
    "    [\"Overcast\", \"Hot\", \"High\", \"Weak\", \"yes\"],\n",
    "    [\"Rain\", \"Mild\", \"High\", \"Weak\", \"yes\"],\n",
    "    [\"Rain\", \"Cool\", \"Normal\", \"Weak\", \"yes\"],\n",
    "    [\"Rain\", \"Cool\", \"Normal\", \"Strong\", \"no\"],\n",
    "    [\"Overcast\", \"Cool\", \"Normal\", \"Strong\", \"yes\"],\n",
    "    [\"Overcast\", \"Mild\", \"High\", \"Weak\", \"no\"],\n",
    "    [\"Sunny\", \"Cool\", \"Normal\", \"Weak\", \"yes\"],\n",
    "    [\"Rain\", \"Mild\", \"Normal\", \"Weak\", \"yes\"],\n",
    "]\n",
    "Test = [\"Sunny\", \"Cool\", \"High\", \"Strong\"],"
   ]
  },
  {
   "cell_type": "code",
   "execution_count": 3,
   "id": "56770b04",
   "metadata": {},
   "outputs": [
    {
     "data": {
      "text/plain": [
       "array([['Sunny', 'Hot', 'High', 'Weak', 'no'],\n",
       "       ['Sunny', 'Hot', 'High', 'Strong', 'no'],\n",
       "       ['Overcast', 'Hot', 'High', 'Weak', 'yes'],\n",
       "       ['Rain', 'Mild', 'High', 'Weak', 'yes'],\n",
       "       ['Rain', 'Cool', 'Normal', 'Weak', 'yes'],\n",
       "       ['Rain', 'Cool', 'Normal', 'Strong', 'no'],\n",
       "       ['Overcast', 'Cool', 'Normal', 'Strong', 'yes'],\n",
       "       ['Overcast', 'Mild', 'High', 'Weak', 'no'],\n",
       "       ['Sunny', 'Cool', 'Normal', 'Weak', 'yes'],\n",
       "       ['Rain', 'Mild', 'Normal', 'Weak', 'yes']], dtype='<U8')"
      ]
     },
     "execution_count": 3,
     "metadata": {},
     "output_type": "execute_result"
    }
   ],
   "source": [
    "def create_training_data(data):\n",
    "    return np.array(data, dtype=np.str_)\n",
    "\n",
    "train_data = create_training_data(Outcome)\n",
    "train_data"
   ]
  },
  {
   "cell_type": "code",
   "execution_count": 4,
   "id": "715bcdf4",
   "metadata": {},
   "outputs": [
    {
     "name": "stdout",
     "output_type": "stream",
     "text": [
      "[4 6]\n",
      "(array(['no', 'yes'], dtype='<U8'), array([4, 6]))\n"
     ]
    }
   ],
   "source": [
    "class_data = np.unique(train_data[:, -1], return_counts=True) # ['no', \"yes\"]\n",
    "class_count = class_data[1]\n",
    "class_names = class_data[0]\n",
    "\n",
    "print(class_count)\n",
    "print(class_data)\n"
   ]
  },
  {
   "cell_type": "code",
   "execution_count": 5,
   "id": "8b198f0f",
   "metadata": {},
   "outputs": [
    {
     "name": "stdout",
     "output_type": "stream",
     "text": [
      "{np.str_('Sunny'): 3, np.str_('Hot'): 3, np.str_('High'): 5, np.str_('Weak'): 7, np.str_('no'): 4, np.str_('Strong'): 3, np.str_('Overcast'): 3, np.str_('yes'): 6, np.str_('Rain'): 4, np.str_('Mild'): 3, np.str_('Cool'): 4, np.str_('Normal'): 5}\n"
     ]
    }
   ],
   "source": [
    "element_counts = {}\n",
    "for row in train_data:\n",
    "    for element in row:\n",
    "        # print(element_counts.get(element, 0))\n",
    "        element_counts[element] = element_counts.get(element, 0) + 1\n",
    "\n",
    "print(element_counts)"
   ]
  },
  {
   "cell_type": "code",
   "execution_count": 6,
   "id": "925f649b",
   "metadata": {},
   "outputs": [
    {
     "name": "stdout",
     "output_type": "stream",
     "text": [
      "P('Play Tennis') = No is 0.4\n",
      "P('Play Tennis') = Yes is 0.6\n"
     ]
    }
   ],
   "source": [
    "def compute_prior_probabilities(train_data):\n",
    "    \"\"\"\n",
    "    Calculate prior probability P(Play Tennis = Yes/No)\n",
    "\n",
    "    Args:\n",
    "        train_data: Training dataset\n",
    "\n",
    "    Returns:\n",
    "        Array of prior probabilities [P(No), P(Yes)]\n",
    "    \"\"\"\n",
    "\n",
    "    total_samples = len(train_data)\n",
    "\n",
    "    #? ( array(['no', 'yes'], dtype='<U8'), array([4, 6]) )\n",
    "    class_data = np.unique(train_data[:, -1], return_counts=True)\n",
    "    class_count = class_data[1]\n",
    "    class_names = class_data[0]\n",
    "\n",
    "    prior_probabilities = class_count / total_samples\n",
    "\n",
    "    return prior_probabilities, class_names\n",
    "\n",
    "prior_probs, _ = compute_prior_probabilities(train_data)\n",
    "print(\"P('Play Tennis') = No is\", prior_probs[0]) # prob of not playing\n",
    "print(\"P('Play Tennis') = Yes is\", prior_probs[1]) # prob of yes playing"
   ]
  },
  {
   "cell_type": "code",
   "execution_count": 7,
   "id": "9d37bded",
   "metadata": {},
   "outputs": [
    {
     "data": {
      "text/plain": [
       "(10, 5)"
      ]
     },
     "execution_count": 7,
     "metadata": {},
     "output_type": "execute_result"
    }
   ],
   "source": [
    "total_feature = train_data.shape\n",
    "total_feature"
   ]
  },
  {
   "cell_type": "code",
   "execution_count": 8,
   "id": "2ecb6197",
   "metadata": {},
   "outputs": [
    {
     "data": {
      "text/plain": [
       "[0.6, 0.8, 1.0, 0.6]"
      ]
     },
     "execution_count": 8,
     "metadata": {},
     "output_type": "execute_result"
    }
   ],
   "source": [
    "def calculate_conditional_probabilities(feature_names, prior_probs, train_data):\n",
    "    \"\"\"\n",
    "        Compute probality of given features\n",
    "        Args:\n",
    "            feature_names (array[str]): array of feature name ['Sunny', 'Cool', 'High', 'Strong']\n",
    "            prior_prob (array[float]): probability of each class\n",
    "\n",
    "        Returns:\n",
    "            Array of conditional probability for [P(features|no), P(features|yes)]\n",
    "    \"\"\"\n",
    "\n",
    "    count_features = {} # number of each feature exist\n",
    "    total_sample, total_feature = train_data.shape[0], train_data.shape[1]\n",
    "\n",
    "    #? calc prior prob of given features\n",
    "    for i in range(0, total_feature):\n",
    "        columns = train_data[:, i] #? extract entire column for each feature\n",
    "        # print(columns)\n",
    "        for sample in columns:\n",
    "            #? count feature's sample\n",
    "            # if found features but feature isn't added, add 1 to current feature count, else current feature count set 1\n",
    "            if sample in feature_names:\n",
    "                count_features[sample] = count_features.get(sample, 0) + 1\n",
    "\n",
    "    #? {} represent set, doesn't allow duplicate value\n",
    "    #? [] mean array, allow duplicate value\n",
    "    feature_probs = [count_features/total_feature for count_features in count_features.values()]\n",
    "    #? P_Outlook, P_Temperature, P_Humidity, P_Wind\n",
    "\n",
    "    return feature_probs\n",
    "\n",
    "feature_probs = calculate_conditional_probabilities(['Sunny', 'Cool', 'High', 'Strong'], prior_probs, train_data)\n",
    "feature_probs"
   ]
  },
  {
   "cell_type": "code",
   "execution_count": null,
   "id": "c1ee23c3",
   "metadata": {},
   "outputs": [
    {
     "ename": "AttributeError",
     "evalue": "module 'numpy' has no attribute 'arg'",
     "output_type": "error",
     "traceback": [
      "\u001b[1;31m---------------------------------------------------------------------------\u001b[0m",
      "\u001b[1;31mAttributeError\u001b[0m                            Traceback (most recent call last)",
      "Cell \u001b[1;32mIn[9], line 21\u001b[0m\n\u001b[0;32m     18\u001b[0m     \u001b[38;5;66;03m# print(np.prod(P_yes), np.prod(P_no))\u001b[39;00m\n\u001b[0;32m     19\u001b[0m     \u001b[38;5;28;01mreturn\u001b[39;00m np\u001b[38;5;241m.\u001b[39mprod(P_yes), np\u001b[38;5;241m.\u001b[39mprod(P_no)\n\u001b[1;32m---> 21\u001b[0m tennis \u001b[38;5;241m=\u001b[39m \u001b[43mpredict_tennis\u001b[49m\u001b[43m(\u001b[49m\u001b[43mfeature_probs\u001b[49m\u001b[43m,\u001b[49m\u001b[43m \u001b[49m\u001b[43mprior_probs\u001b[49m\u001b[43m)\u001b[49m\n\u001b[0;32m     22\u001b[0m tennis\n",
      "Cell \u001b[1;32mIn[9], line 16\u001b[0m, in \u001b[0;36mpredict_tennis\u001b[1;34m(feature_probs, prior_probs)\u001b[0m\n\u001b[0;32m     13\u001b[0m P_yes \u001b[38;5;241m=\u001b[39m np\u001b[38;5;241m.\u001b[39mdot(feature_probs, prior_probs[\u001b[38;5;241m0\u001b[39m])\n\u001b[0;32m     14\u001b[0m P_no \u001b[38;5;241m=\u001b[39m np\u001b[38;5;241m.\u001b[39mdot(feature_probs, prior_probs[\u001b[38;5;241m1\u001b[39m])\n\u001b[1;32m---> 16\u001b[0m pred_class_idx \u001b[38;5;241m=\u001b[39m \u001b[43mnp\u001b[49m\u001b[38;5;241;43m.\u001b[39;49m\u001b[43marg\u001b[49m\n\u001b[0;32m     18\u001b[0m \u001b[38;5;66;03m# print(np.prod(P_yes), np.prod(P_no))\u001b[39;00m\n\u001b[0;32m     19\u001b[0m \u001b[38;5;28;01mreturn\u001b[39;00m np\u001b[38;5;241m.\u001b[39mprod(P_yes), np\u001b[38;5;241m.\u001b[39mprod(P_no)\n",
      "File \u001b[1;32md:\\CODE\\IDE\\Anaconda\\envs\\ds\\lib\\site-packages\\numpy\\__init__.py:427\u001b[0m, in \u001b[0;36m__getattr__\u001b[1;34m(attr)\u001b[0m\n\u001b[0;32m    424\u001b[0m     \u001b[38;5;28;01mimport\u001b[39;00m\u001b[38;5;250m \u001b[39m\u001b[38;5;21;01mnumpy\u001b[39;00m\u001b[38;5;21;01m.\u001b[39;00m\u001b[38;5;21;01mchar\u001b[39;00m\u001b[38;5;250m \u001b[39m\u001b[38;5;28;01mas\u001b[39;00m\u001b[38;5;250m \u001b[39m\u001b[38;5;21;01mchar\u001b[39;00m\n\u001b[0;32m    425\u001b[0m     \u001b[38;5;28;01mreturn\u001b[39;00m char\u001b[38;5;241m.\u001b[39mchararray\n\u001b[1;32m--> 427\u001b[0m \u001b[38;5;28;01mraise\u001b[39;00m \u001b[38;5;167;01mAttributeError\u001b[39;00m(\u001b[38;5;124m\"\u001b[39m\u001b[38;5;124mmodule \u001b[39m\u001b[38;5;132;01m{!r}\u001b[39;00m\u001b[38;5;124m has no attribute \u001b[39m\u001b[38;5;124m\"\u001b[39m\n\u001b[0;32m    428\u001b[0m                      \u001b[38;5;124m\"\u001b[39m\u001b[38;5;132;01m{!r}\u001b[39;00m\u001b[38;5;124m\"\u001b[39m\u001b[38;5;241m.\u001b[39mformat(\u001b[38;5;18m__name__\u001b[39m, attr))\n",
      "\u001b[1;31mAttributeError\u001b[0m: module 'numpy' has no attribute 'arg'"
     ]
    }
   ],
   "source": [
    "def predict_tennis(feature_probs, prior_probs):\n",
    "    #? calc product of feature_probs for each prior_probs\n",
    "    \"\"\"_summary_\n",
    "\n",
    "    Args:\n",
    "        feature_probs (ndarray[float]): prob of each features\n",
    "        prior_probs (ndarray[float]): class prob\n",
    "\n",
    "    Return:\n",
    "        prior probabilities [P(No), P(Yes)]\n",
    "    \"\"\"\n",
    "\n",
    "    P_yes = np.dot(feature_probs, prior_probs[0])\n",
    "    P_no = np.dot(feature_probs, prior_probs[1])\n",
    "\n",
    "    # pred_class_idx = np.arg\n",
    "\n",
    "    # print(np.prod(P_yes), np.prod(P_no))\n",
    "    return np.prod(P_yes), np.prod(P_no)\n",
    "\n",
    "tennis = predict_tennis(feature_probs, prior_probs)\n",
    "tennis"
   ]
  },
  {
   "cell_type": "code",
   "execution_count": null,
   "id": "ab1792da",
   "metadata": {},
   "outputs": [],
   "source": []
  },
  {
   "cell_type": "code",
   "execution_count": null,
   "id": "9cff4f59",
   "metadata": {},
   "outputs": [],
   "source": []
  },
  {
   "cell_type": "code",
   "execution_count": null,
   "id": "39424382",
   "metadata": {},
   "outputs": [],
   "source": []
  }
 ],
 "metadata": {
  "kernelspec": {
   "display_name": "ds",
   "language": "python",
   "name": "python3"
  },
  "language_info": {
   "codemirror_mode": {
    "name": "ipython",
    "version": 3
   },
   "file_extension": ".py",
   "mimetype": "text/x-python",
   "name": "python",
   "nbconvert_exporter": "python",
   "pygments_lexer": "ipython3",
   "version": "3.10.16"
  }
 },
 "nbformat": 4,
 "nbformat_minor": 5
}
