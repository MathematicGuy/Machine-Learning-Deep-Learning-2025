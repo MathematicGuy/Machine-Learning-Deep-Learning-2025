{
 "cells": [
  {
   "cell_type": "code",
   "execution_count": 19,
   "id": "6b22c105",
   "metadata": {},
   "outputs": [
    {
     "name": "stdout",
     "output_type": "stream",
     "text": [
      "tensor([0.9933, 0.9526])\n"
     ]
    }
   ],
   "source": [
    "import torch\n",
    "\n",
    "x = torch.tensor([5.0, 3.0])\n",
    "output = torch.sigmoid(x)\n",
    "\n",
    "print(output)"
   ]
  },
  {
   "cell_type": "code",
   "execution_count": 20,
   "id": "e4df8edb",
   "metadata": {},
   "outputs": [
    {
     "data": {
      "text/plain": [
       "tensor([0.9526, 0.1192])"
      ]
     },
     "execution_count": 20,
     "metadata": {},
     "output_type": "execute_result"
    }
   ],
   "source": [
    "import torch\n",
    "import torch.nn as nn\n",
    "from math import e\n",
    "\n",
    "class MySigmoid(nn.Module):\n",
    "    def __init__(self):\n",
    "        super().__init__()\n",
    "\n",
    "    def forward(self, x):\n",
    "        return torch.sigmoid(x)\n",
    "        # softmax = torch.exp(x) / torch.sum(torch.exp(x))\n",
    "        # return softmax\n",
    "\n",
    "data = torch.Tensor([3.0, -2.0])\n",
    "my_sigmoid = MySigmoid()\n",
    "output = my_sigmoid(data)\n",
    "output"
   ]
  },
  {
   "cell_type": "code",
   "execution_count": 21,
   "id": "db701b19",
   "metadata": {},
   "outputs": [
    {
     "name": "stdout",
     "output_type": "stream",
     "text": [
      "Student - Name: studentZ2023 - YoB: 2011 - Grade: 6\n"
     ]
    }
   ],
   "source": [
    "from abc import ABC, abstractmethod\n",
    "\n",
    "class Person(ABC):\n",
    "    def __init__(self, name:str, yob:int):\n",
    "        self._name = name\n",
    "        self._yob = yob\n",
    "\n",
    "    def getYoB(self):\n",
    "        return self._yob\n",
    "\n",
    "    @abstractmethod\n",
    "    def describe(self):\n",
    "        pass\n",
    "\n",
    "class Student(Person):\n",
    "    def __init__(self, name:str, yob:int, grade:str):\n",
    "        self.name = name\n",
    "        self.yob = yob\n",
    "        self.grade = grade\n",
    "\n",
    "    def describe(self):\n",
    "        print(f'Student - Name: {self.name} - YoB: {self.yob} - Grade: {self.grade}')\n",
    "\n",
    "student1 = Student(name=\"studentZ2023\", yob=2011, grade='6')\n",
    "student1.describe()"
   ]
  },
  {
   "cell_type": "code",
   "execution_count": 27,
   "id": "42f5c7cc",
   "metadata": {},
   "outputs": [
    {
     "name": "stdout",
     "output_type": "stream",
     "text": [
      "Teacher - Name: teacherZ2023 - YoB: 1991 - Subject: History\n"
     ]
    }
   ],
   "source": [
    "class Teacher(Person):\n",
    "    def __init__(self, name:str, yob:int, subject:str):\n",
    "        self.name = name\n",
    "        self.yob = yob\n",
    "        self.subject = subject\n",
    "\n",
    "    def describe(self):\n",
    "        print(f'Teacher - Name: {self.name} - YoB: {self.yob} - Subject: {self.subject}')\n",
    "\n",
    "student1 = Teacher(name=\"teacherZ2023\", yob=1991, subject='History')\n",
    "student1.describe()"
   ]
  },
  {
   "cell_type": "code",
   "execution_count": 30,
   "id": "a77f9482",
   "metadata": {},
   "outputs": [
    {
     "name": "stdout",
     "output_type": "stream",
     "text": [
      "Teacher - Name: doctorZ2023 - YoB: 1981 - Specialist: Endocrinologists\n"
     ]
    }
   ],
   "source": [
    "class Doctor(Person):\n",
    "    def __init__(self, name:str, yob:int, specialist:str):\n",
    "        self.name = name\n",
    "        self.yob = yob\n",
    "        self.specialist = specialist\n",
    "\n",
    "    def describe(self):\n",
    "        print(f'Teacher - Name: {self.name} - YoB: {self.yob} - Specialist: {self.specialist}')\n",
    "\n",
    "student1 = Doctor(name=\"doctorZ2023\", yob=1981, specialist='Endocrinologists')\n",
    "student1.describe()"
   ]
  },
  {
   "cell_type": "code",
   "execution_count": 40,
   "id": "8f32c699",
   "metadata": {},
   "outputs": [
    {
     "data": {
      "text/plain": [
       "2"
      ]
     },
     "execution_count": 40,
     "metadata": {},
     "output_type": "execute_result"
    }
   ],
   "source": [
    "class Ward:\n",
    "    def __init__(self, name:str):\n",
    "        self.__name = name\n",
    "        self.__listPeople = list()\n",
    "\n",
    "    def addPerson(self, person:Person):\n",
    "        self.__listPeople.append(person)\n",
    "\n",
    "    def describe(self):\n",
    "        print(f\"Ward Name: {self.__name}\")\n",
    "        for p in self.__listPeople:\n",
    "            p.describe()\n",
    "\n",
    "    def countDoctor(self):\n",
    "        count = 0\n",
    "        for p in self.__listPeople:\n",
    "            if isinstance(p, Doctor):\n",
    "                count += 1\n",
    "\n",
    "        return count\n",
    "\n",
    "student1 = Student(name=\"studentA\", yob=2010, grade=\"7\")\n",
    "teacher1 = Teacher(name=\"teacherA\", yob=1969, subject=\"Math\")\n",
    "teacher2 = Teacher(name=\"teacherB\", yob=1995, subject=\"History\")\n",
    "doctor1 = Doctor(name=\"doctorA\", yob=1945, specialist=\"Endocrinologists\")\n",
    "doctor2 = Doctor(name=\"doctorB\", yob=1975, specialist=\"Cardiologists\")\n",
    "\n",
    "ward1 = Ward(name=\"Ward1\")\n",
    "ward1.addPerson(student1)\n",
    "ward1.addPerson(teacher1)\n",
    "ward1.addPerson(teacher2)\n",
    "ward1.addPerson(doctor1)\n",
    "ward1.addPerson(doctor2)\n",
    "\n",
    "ward1.countDoctor()"
   ]
  },
  {
   "cell_type": "markdown",
   "id": "8713684d",
   "metadata": {},
   "source": [
    "### Stack and Queue"
   ]
  },
  {
   "cell_type": "code",
   "execution_count": null,
   "id": "1d2b8330",
   "metadata": {},
   "outputs": [
    {
     "name": "stdout",
     "output_type": "stream",
     "text": [
      "[1, 2, 3, 4, 5]\n",
      "True\n",
      "5\n"
     ]
    }
   ],
   "source": [
    "class MyStack:\n",
    "    def __init__(self, capacity):\n",
    "        self.__capacity = capacity # max node in Stack\n",
    "        self.__stack = [] # current node in Stack\n",
    "\n",
    "\n",
    "    def isFull(self):\n",
    "        print(self.__stack)\n",
    "        return len(self.__stack) == self.__capacity\n",
    "\n",
    "    def push(self, value):\n",
    "        self.__stack.append(value)\n",
    "\n",
    "    def top(self):\n",
    "        if self.__stack:\n",
    "            return self.__stack[-1]\n",
    "        else:\n",
    "            return None\n",
    "\n",
    "\n",
    "\n",
    "stack1 = MyStack(capacity=5)\n",
    "stack1.push(1)\n",
    "stack1.push(2)\n",
    "stack1.push(3)\n",
    "stack1.push(4)\n",
    "stack1.push(5)\n",
    "\n",
    "print(stack1.isFull())\n",
    "print(stack1.top())"
   ]
  },
  {
   "cell_type": "code",
   "execution_count": 54,
   "id": "67c0f083",
   "metadata": {},
   "outputs": [
    {
     "name": "stdout",
     "output_type": "stream",
     "text": [
      "First element: 100\n"
     ]
    }
   ],
   "source": [
    "from collections import deque\n",
    "\n",
    "my_queue = deque()\n",
    "my_queue.append(100)\n",
    "my_queue.append(200)\n",
    "my_queue.append(300)\n",
    "\n",
    "# Get the first element without removing it\n",
    "first_element = my_queue[0]\n",
    "print(f\"First element: {first_element}\") # Output: 100"
   ]
  },
  {
   "cell_type": "code",
   "execution_count": null,
   "id": "e2a77763",
   "metadata": {},
   "outputs": [],
   "source": []
  }
 ],
 "metadata": {
  "kernelspec": {
   "display_name": "ds",
   "language": "python",
   "name": "python3"
  },
  "language_info": {
   "codemirror_mode": {
    "name": "ipython",
    "version": 3
   },
   "file_extension": ".py",
   "mimetype": "text/x-python",
   "name": "python",
   "nbconvert_exporter": "python",
   "pygments_lexer": "ipython3",
   "version": "3.10.16"
  }
 },
 "nbformat": 4,
 "nbformat_minor": 5
}
