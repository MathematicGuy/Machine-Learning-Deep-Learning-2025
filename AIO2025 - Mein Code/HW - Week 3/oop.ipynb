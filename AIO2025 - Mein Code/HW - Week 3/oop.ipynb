{
 "cells": [
  {
   "cell_type": "markdown",
   "id": "ed8404b9",
   "metadata": {},
   "source": [
    "4 inputs: 3 ints (`N`, `X`, `Y`) and 1 int array (`V`). There's an additional variable in the problem called `Z` too.\n",
    "\n",
    "- `N` represents the label of our car.\n",
    "- `X` represents the length of the race track.\n",
    "- `Y` represents the maximum speed our car can handle.\n",
    "- Each variable in `V` represents the speed each car will move at. The index of the variable is the label of the car. So if my label `N = 3` then the 3rd variable in `V` is the speed of our car.\n",
    "- `Z` represents the speed that our car will boost to for 1 second at the start of the race. So our car will travel at `Z` for 1 second at the beginning of the race then it will go at `V[N]` for the rest of the race.\n",
    "\n",
    "The goal here is to find the minimum `Z` value that would allow us to win the race and output that value to `stdout`. If we can win the race without using the booster, we output 0. If we can't win the race even if we use the booster at the maximum value `Y`, we output -1.\n",
    "\n",
    "Below is a sample input for this problem:\n",
    "\n",
    "```txt\n",
    "5\n",
    "3 12 11\n",
    "3 2 1\n",
    "3 12 9\n",
    "3 2 1\n",
    "3 12 10\n",
    "3 4 5\n",
    "3 80 80\n",
    "80 60 70\n",
    "\n",
    "3 80 80\n",
    "70 50 60\n",
    "```\n",
    "\n",
    "The first line is the number of test cases called `T`. Each cases contain 2 lines. The 1st line contains `N`, `X`, and `Y`. The 2nd line contains the values for `V`. All of these values are separated by a space. Find the minimum `Z` value that wins us the race\n"
   ]
  },
  {
   "cell_type": "code",
   "execution_count": null,
   "id": "992cc94e",
   "metadata": {},
   "outputs": [
    {
     "name": "stdout",
     "output_type": "stream",
     "text": [
      "[1, 2, 3]\n"
     ]
    }
   ],
   "source": [
    "print([1,2,3,3][:-1]) # start slicing from -1 index"
   ]
  },
  {
   "cell_type": "code",
   "execution_count": null,
   "id": "910ea300",
   "metadata": {},
   "outputs": [],
   "source": [
    "def is_won(N, X, Y, V):\n",
    "    their_times = [X/speed for speed in V[:-1]]\n",
    "    our_times = X / V[N-1]\n",
    "    print('their_times:', their_times, 'min:', min(their_times))\n",
    "    print('our_times:',our_times)\n",
    "\n",
    "    #? If not won (i.e. slower)\n",
    "    if our_times > min(their_times):\n",
    "        #! Bug: boost_speed calculation\n",
    "        for i in range(Y): # for boost_speed as i\n",
    "            X_left = X - i # take 1s in total time\n",
    "            our_times = (X_left / V[N-1]) + 1\n",
    "\n",
    "            #? return boost speed at the 1s second which help us win\n",
    "            if our_times < min(their_times):\n",
    "                print('improved time:', our_times, 'with boost:', i)\n",
    "                return i\n",
    "\n",
    "        #? Can't win even using booster at maximum speed Y\n",
    "        if our_times > min(their_times):\n",
    "            return \"-1\"\n",
    "\n",
    "    #? Can win without Booster\n",
    "    else:\n",
    "        return \"0\"\n",
    "\n",
    "\n",
    "    # Increase speed in the 1st second so that we don"
   ]
  },
  {
   "cell_type": "code",
   "execution_count": null,
   "id": "3db9c97d",
   "metadata": {},
   "outputs": [
    {
     "name": "stdout",
     "output_type": "stream",
     "text": [
      "['5', '3 12 11', '3 2 1', '3 12 9', '3 2 1', '3 12 10', '3 4 5', '3 80 80', '80 60 70', '3 80 80', '70 50 60'] \n",
      "\n",
      "their_times: [4.0, 6.0] min: 4.0\n",
      "our_times: 12.0\n",
      "improved time: 3.0 with boost: 10\n",
      "stdout 10 \n",
      "\n",
      "their_times: [4.0, 6.0] min: 4.0\n",
      "our_times: 12.0\n",
      "stdout -1 \n",
      "\n",
      "their_times: [4.0, 3.0] min: 3.0\n",
      "our_times: 2.4\n",
      "stdout 0 \n",
      "\n",
      "their_times: [1.0, 1.3333333333333333] min: 1.0\n",
      "our_times: 1.1428571428571428\n",
      "stdout -1 \n",
      "\n",
      "their_times: [1.1428571428571428, 1.6] min: 1.1428571428571428\n",
      "our_times: 1.3333333333333333\n",
      "improved time: 1.1333333333333333 with boost: 72\n",
      "stdout 72 \n",
      "\n"
     ]
    }
   ],
   "source": [
    "from typing import List\n",
    "\n",
    "file_name = 'file.txt'\n",
    "\n",
    "def find_num(text_file):\n",
    "    with open('file.txt', 'r') as f:\n",
    "        text = f.read()\n",
    "        text_list  = text.split('\\n')\n",
    "        print(text_list, \"\\n\")\n",
    "\n",
    "    for i in range(1, len(text_list), 2):\n",
    "        N, X, Y = [int(num) for num in text_list[i].split(' ')] #? our_label, car track's length, car max speed\n",
    "        V = [int(num) for num in text_list[i+1].split(' ')] #? speed of the car\n",
    "\n",
    "        #? Compare our finished time with their finished time\n",
    "        result = is_won(N, X, Y, V)\n",
    "        print('stdout', result, '\\n')\n",
    "\n",
    "        #? Find Z so we won the race (minimal Z)\n",
    "\n",
    "    #? return win without booster: 0, using booster: 1\n",
    "\n",
    "find_num(file_name)"
   ]
  },
  {
   "cell_type": "markdown",
   "id": "6f65039d",
   "metadata": {},
   "source": [
    "```output\n",
    "10\n",
    "-1\n",
    "0\n",
    "-1\n",
    "72\n",
    "```"
   ]
  },
  {
   "cell_type": "code",
   "execution_count": null,
   "id": "66295c8a",
   "metadata": {},
   "outputs": [],
   "source": []
  },
  {
   "cell_type": "code",
   "execution_count": null,
   "id": "839cee00",
   "metadata": {},
   "outputs": [
    {
     "name": "stdout",
     "output_type": "stream",
     "text": [
      "Naaaa\n"
     ]
    }
   ],
   "source": [
    "class Anime:\n",
    "    def __init__(wai, he) -> None:\n",
    "        wai.he = he\n",
    "\n",
    "    def __call__(wai):\n",
    "        return wai.he\n",
    "\n",
    "a = Anime(\"Na\")\n",
    "print(a())"
   ]
  },
  {
   "cell_type": "code",
   "execution_count": null,
   "id": "a80d2e95",
   "metadata": {},
   "outputs": [
    {
     "name": "stdout",
     "output_type": "stream",
     "text": [
      "1004\n"
     ]
    },
    {
     "data": {
      "text/plain": [
       "1006"
      ]
     },
     "execution_count": 28,
     "metadata": {},
     "output_type": "execute_result"
    }
   ],
   "source": [
    "class Employee:\n",
    "    def __init__(self, name, salary):\n",
    "        self._name = name\n",
    "        self._salary = salary\n",
    "\n",
    "    def compute_salary(self):\n",
    "        return self._salary + 1000\n",
    "\n",
    "class Manager(Employee):\n",
    "    def __init__(self, salary, bonus):\n",
    "        self._salary = salary\n",
    "        self.bonus = bonus\n",
    "\n",
    "    def compute_salary(self):\n",
    "        #? Inheritance allow merging function together\n",
    "        #? return self._salary + 1000 + self.bonus\n",
    "        return super().compute_salary() + self.bonus\n",
    "\n",
    "n = Employee(3,4)\n",
    "print(n.compute_salary())\n",
    "\n",
    "m = Manager(2, 4)\n",
    "m.compute_salary()"
   ]
  },
  {
   "cell_type": "code",
   "execution_count": null,
   "id": "84ed2280",
   "metadata": {},
   "outputs": [],
   "source": []
  }
 ],
 "metadata": {
  "kernelspec": {
   "display_name": "ds",
   "language": "python",
   "name": "python3"
  },
  "language_info": {
   "codemirror_mode": {
    "name": "ipython",
    "version": 3
   },
   "file_extension": ".py",
   "mimetype": "text/x-python",
   "name": "python",
   "nbconvert_exporter": "python",
   "pygments_lexer": "ipython3",
   "version": "3.10.16"
  }
 },
 "nbformat": 4,
 "nbformat_minor": 5
}
