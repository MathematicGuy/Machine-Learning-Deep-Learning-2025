{
 "cells": [
  {
   "cell_type": "markdown",
   "id": "f836ba66",
   "metadata": {},
   "source": [
    "This problem is a tree problem. We are given a tree with `N` nodes, labeled 1 to `N`. We are also given 2 vectors: `p` and `v`. `p` holds the parent node of each node, with `p[i] = 0` being the root node. `v` holds the integer value of each node.\n",
    "\n",
    "For example: Given `N = 6`, `p = [0, 1, 1, 3, 3, 3]`, and `v = [30, 15, 10, 20, 15, 18]`, we can draw this tree out:\n",
    "\n",
    "For a node-subset `S` to be a \"good\" node-subset, it needs to satisfies these 2 conditions:\n",
    "\n",
    "1. If a node is in `S`, its parents and children node cannot be in `S`.\n",
    "2. If a non-leaf node is not in `S`, at least 1 of its children must be in `S`.\n",
    "\n",
    "So for our above example tree, The following node-subsets are \"good\":\n",
    "- `S = [3]`\n",
    "- `S = [1, 4, 6]`\n",
    "- `S = [1, 4]`\n",
    "- `S = [2, 3]`\n",
    "\n",
    "Below is a sample input for this problem:\n",
    "\n",
    "```txt\n",
    "5\n",
    "6\n",
    "30 15 10 20 15 18\n",
    "0 1 1 3 3 3\n",
    "6\n",
    "1 120 100 10 20 30\n",
    "0 1 1 3 3 3\n",
    "6\n",
    "100 8 5 -20 -30 15\n",
    "0 1 1 3 3 3\n",
    "5\n",
    "-1 -2 -3 -4 -5\n",
    "2 3 4 5 0\n",
    "2\n",
    "-2022 2022\n",
    "0 1\n",
    "```\n",
    "\n",
    "The first line of the input is the test case `T`. Each test case has 3 lines. The first line of the test case is the number of nodes in the tree `N`. The second line is the `v` array with the integer values for each node. The third line is the `p` array, indicating the structure of the tree.\n",
    "\n",
    "The objective here is for us to find the \"good\" node-subset that yields the highest sum value of each node in the node-subset. For example, in our above example tree, `S = [1, 4, 5, 6]` yields the highest sum value, 83, out of all the \"good\" node-subsets for that tree."
   ]
  },
  {
   "cell_type": "markdown",
   "id": "97f762b7",
   "metadata": {},
   "source": [
    "<img src=\"image.png\" width=\"400px\" alt=\"Example tree\" position=\"center\" style=\"padding: 10px\"/>"
   ]
  },
  {
   "cell_type": "markdown",
   "id": "cd2407dc",
   "metadata": {},
   "source": [
    "sample output: \n",
    "\n",
    "83\n",
    "\n",
    "220\n",
    "\n",
    "115\n",
    "\n",
    "-6\n",
    "\n",
    "2022"
   ]
  },
  {
   "cell_type": "markdown",
   "id": "d85c8072",
   "metadata": {},
   "source": []
  }
 ],
 "metadata": {
  "language_info": {
   "name": "python"
  }
 },
 "nbformat": 4,
 "nbformat_minor": 5
}
