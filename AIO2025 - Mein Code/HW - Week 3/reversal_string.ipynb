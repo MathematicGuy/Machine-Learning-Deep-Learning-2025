{
 "cells": [
  {
   "cell_type": "markdown",
   "id": "3375fa9a",
   "metadata": {},
   "source": [
    "This problem gives us an array `S` with `N` number of strings. We are also given a function that reverse the string's character order. We need to find the \"*reversal string*\" that would make the array lexicographically sorted. The reversal string is a bitmask that specifies which string in the array to reverse.\n",
    "\n",
    "For example: An array `S = [\"ABC\", \"XC\", \"DZ\"]`. There are multiple different reversal strings that would make `S` lexicographically sorted.\n",
    "- `001` would reverse \"DZ\" to \"ZD\", which would make `S` lexicographically sorted.\n",
    "- `010` would reverse \"XC\" to \"CX\", which would also make `S` lexicographically sorted\n",
    "\n",
    "This is just 2 strings that would work, there are more that would also work for this particular `S`. The goal is to find a minimum reversal string that would make `S` lexicographically sorted. So as for the previous example, the output of `S = [\"ABC\", \"XC\", \"DZ\"]` would be `001` because it's the smallest binary that would sort `S`.\n",
    "\n",
    "Below is a sample input for this problem:\n",
    "\n",
    "```txt\n",
    "2\n",
    "3\n",
    "ABC\n",
    "ABD\n",
    "XY\n",
    "3\n",
    "ABC\n",
    "XC\n",
    "DZ\n",
    "```\n",
    "\n",
    "With this sample input, your program should output the below:\n",
    "\n",
    "```txt\n",
    "000\n",
    "001\n",
    "```\n",
    "\n",
    "The first number is the number of test cases `T`. Each test cases will start with a number `N`. `N` is the length of the array `S`. Following that number are the strings inside the array `S`. The strings are only uppercase English letter."
   ]
  },
  {
   "cell_type": "markdown",
   "id": "79a5c852",
   "metadata": {},
   "source": []
  }
 ],
 "metadata": {
  "language_info": {
   "name": "python"
  }
 },
 "nbformat": 4,
 "nbformat_minor": 5
}
