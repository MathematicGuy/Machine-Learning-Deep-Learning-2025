{
 "cells": [
  {
   "cell_type": "code",
   "execution_count": 2,
   "id": "5f57a8c6",
   "metadata": {},
   "outputs": [],
   "source": [
    "import torch\n",
    "import torch.nn.functional as F\n",
    "import torchvision.datasets as datasets\n",
    "import torchvision.transforms as transforms\n",
    "from torch import optim\n",
    "from torch.utils.data import DataLoader\n",
    "from tqdm import tqdm\n",
    "import pandas as pd\n"
   ]
  },
  {
   "cell_type": "code",
   "execution_count": null,
   "id": "4e98b588",
   "metadata": {},
   "outputs": [],
   "source": [
    "\n",
    "#? Unzip zip file\n",
    "# from zipfile import ZipFile\n",
    "# with ZipFile(\"/content/competition_VfIpjyh.zip\", 'r') as zObject:\n",
    "#     zObject.extractall(path=\"/content/Wildlife_Dataset\") "
   ]
  },
  {
   "cell_type": "code",
   "execution_count": null,
   "id": "458aea1d",
   "metadata": {},
   "outputs": [],
   "source": [
    "train_images_path = 'data/competition_wildlife/train_features.csv'\n",
    "train_labels_path = 'data/competition_wildlife/train_labels.csv'\n",
    "\n",
    "train_labels_df = pd.read_csv(train_labels_path)"
   ]
  },
  {
   "cell_type": "code",
   "execution_count": null,
   "id": "fe9c297e",
   "metadata": {},
   "outputs": [],
   "source": []
  },
  {
   "cell_type": "code",
   "execution_count": null,
   "id": "bce49943",
   "metadata": {},
   "outputs": [],
   "source": []
  }
 ],
 "metadata": {
  "kernelspec": {
   "display_name": "ds",
   "language": "python",
   "name": "python3"
  },
  "language_info": {
   "codemirror_mode": {
    "name": "ipython",
    "version": 3
   },
   "file_extension": ".py",
   "mimetype": "text/x-python",
   "name": "python",
   "nbconvert_exporter": "python",
   "pygments_lexer": "ipython3",
   "version": "3.10.16"
  }
 },
 "nbformat": 4,
 "nbformat_minor": 5
}
