{
 "cells": [
  {
   "cell_type": "code",
   "execution_count": 1,
   "id": "9209bfc1",
   "metadata": {},
   "outputs": [
    {
     "name": "stdout",
     "output_type": "stream",
     "text": [
      "The Zen of Python, by Tim Peters\n",
      "\n",
      "Beautiful is better than ugly.\n",
      "Explicit is better than implicit.\n",
      "Simple is better than complex.\n",
      "Complex is better than complicated.\n",
      "Flat is better than nested.\n",
      "Sparse is better than dense.\n",
      "Readability counts.\n",
      "Special cases aren't special enough to break the rules.\n",
      "Although practicality beats purity.\n",
      "Errors should never pass silently.\n",
      "Unless explicitly silenced.\n",
      "In the face of ambiguity, refuse the temptation to guess.\n",
      "There should be one-- and preferably only one --obvious way to do it.\n",
      "Although that way may not be obvious at first unless you're Dutch.\n",
      "Now is better than never.\n",
      "Although never is often better than *right* now.\n",
      "If the implementation is hard to explain, it's a bad idea.\n",
      "If the implementation is easy to explain, it may be a good idea.\n",
      "Namespaces are one honking great idea -- let's do more of those!\n"
     ]
    }
   ],
   "source": [
    "\n",
    "#? PEP20 coding philosophy\n",
    "import this"
   ]
  },
  {
   "cell_type": "code",
   "execution_count": null,
   "id": "d87d92a0",
   "metadata": {},
   "outputs": [
    {
     "data": {
      "text/plain": [
       "True"
      ]
     },
     "execution_count": 2,
     "metadata": {},
     "output_type": "execute_result"
    }
   ],
   "source": [
    "# def sum_fun(y):\n",
    "# \tfor i in range(y):\n",
    "# \t\tfor j in range(y):\n",
    "# \t\t\tif i == j:\n",
    "# \t\t\t\tprint(\"1\", end=\" \")\n",
    "# \t\t\telse:\n",
    "# \t\t\t\tprint(\"0\", end=\" \")\n",
    "# \t\tprint()\n",
    "\n",
    "\n",
    "\" Eiffel \" > \" Apple \""
   ]
  },
  {
   "cell_type": "code",
   "execution_count": 3,
   "id": "d653944f",
   "metadata": {},
   "outputs": [
    {
     "name": "stdout",
     "output_type": "stream",
     "text": [
      "[5]\n"
     ]
    }
   ],
   "source": [
    "a = [3, 4, 5]\n",
    "# b = [i for i in a if i > 4]\n",
    "# Or\n",
    "b = filter(lambda x: x > 4, a)\n",
    "b = list(b)\n",
    "print(b)"
   ]
  },
  {
   "cell_type": "markdown",
   "id": "7d9db28d",
   "metadata": {},
   "source": [
    "### Unexpandable Code"
   ]
  },
  {
   "cell_type": "code",
   "execution_count": 4,
   "id": "cd5e44ad",
   "metadata": {},
   "outputs": [
    {
     "data": {
      "text/plain": [
       "3"
      ]
     },
     "execution_count": 4,
     "metadata": {},
     "output_type": "execute_result"
    }
   ],
   "source": [
    "def calculator(a, b, operation):\n",
    "    if operation == 'add':\n",
    "        return a + b\n",
    "    elif operation == 'substract':\n",
    "        return a - b\n",
    "    elif operation == 'multiply':\n",
    "        return a * b\n",
    "    else:\n",
    "        raise ValueError(\"Invalid operation\")\n",
    "\n",
    "calculator(1, 2, \"add\")"
   ]
  },
  {
   "cell_type": "markdown",
   "id": "c4e1f054",
   "metadata": {},
   "source": [
    "### Expandable Code"
   ]
  },
  {
   "cell_type": "code",
   "execution_count": null,
   "id": "5297387c",
   "metadata": {},
   "outputs": [
    {
     "name": "stdout",
     "output_type": "stream",
     "text": [
      "Result: 2\n"
     ]
    }
   ],
   "source": [
    "def add(a, b):\n",
    "    return a + b\n",
    "\n",
    "def substract(a, b):\n",
    "    return a - b\n",
    "\n",
    "def multiply(a, b):\n",
    "    return a * b\n",
    "\n",
    "\n",
    "operations = {\n",
    "    'add': add,\n",
    "    'substract': substract,\n",
    "    'multiply': multiply,\n",
    "}\n",
    "\n",
    "def calculation(a, b, operation):\n",
    "    func = operations.get(operation) #? get function from a Dictionary\n",
    "\n",
    "    if func:\n",
    "        return func(a, b)\n",
    "    else:\n",
    "        raise ValueError(\"Invalid operation\")\n",
    "\n",
    "print(f\"Result: {calculation(1, 2, operation='multiply')}\")"
   ]
  },
  {
   "cell_type": "markdown",
   "id": "a67307ea",
   "metadata": {},
   "source": [
    "### Expandable Code Example: BMI calculator"
   ]
  },
  {
   "cell_type": "code",
   "execution_count": null,
   "id": "6f11a770",
   "metadata": {},
   "outputs": [
    {
     "name": "stdout",
     "output_type": "stream",
     "text": [
      "\n",
      "Result: Low\n"
     ]
    }
   ],
   "source": [
    "BMIs = {\n",
    "    \"Low\": lambda bmi: bmi <= 18.5,\n",
    "    \"Normal\": lambda bmi: 18.5 < bmi <= 25,\n",
    "    \"Over\": lambda bmi: 25 < bmi <= 100,\n",
    "    \"Dead\": lambda bmi: bmi > 100\n",
    "}\n",
    "\n",
    "def calculate(height, weight):\n",
    "    BMI = weight / (height ** 2)\n",
    "\n",
    "    #? Loop through each condition inside dictionary\n",
    "    for category, condition in BMIs.items():\n",
    "        if condition(BMI):\n",
    "            return category\n",
    "\n",
    "\n",
    "print(\"\\nResult:\", calculate(170, 70))"
   ]
  },
  {
   "cell_type": "markdown",
   "id": "8a0ad996",
   "metadata": {},
   "source": [
    "## Pythonic Code"
   ]
  },
  {
   "cell_type": "code",
   "execution_count": 7,
   "id": "86015056",
   "metadata": {},
   "outputs": [
    {
     "name": "stdout",
     "output_type": "stream",
     "text": [
      "5\n",
      "2\n"
     ]
    }
   ],
   "source": [
    "a = 5\n",
    "b = 2\n",
    "\n",
    "a, b = b, a\n",
    "print(b)\n",
    "print(a)"
   ]
  },
  {
   "cell_type": "markdown",
   "id": "e6505d1a",
   "metadata": {},
   "source": [
    "### Dict Comprehension"
   ]
  },
  {
   "cell_type": "code",
   "execution_count": 8,
   "id": "8af31825",
   "metadata": {},
   "outputs": [
    {
     "name": "stdout",
     "output_type": "stream",
     "text": [
      "{0: 0, 1: 3, 2: 6, 3: 9, 4: 12, 5: 15, 6: 18, 7: 21, 8: 24, 9: 27}\n"
     ]
    }
   ],
   "source": [
    "dict = {}\n",
    "\n",
    "dict = {i:i*3 for i in range(10)}\n",
    "print(dict)"
   ]
  },
  {
   "cell_type": "markdown",
   "id": "32e2cc22",
   "metadata": {},
   "source": [
    "### Multiple Indexing & Basic Slicing"
   ]
  },
  {
   "cell_type": "code",
   "execution_count": 9,
   "id": "96d942f9",
   "metadata": {},
   "outputs": [
    {
     "name": "stdout",
     "output_type": "stream",
     "text": [
      "[1, 2, 3]\n",
      "[4, 5]\n"
     ]
    }
   ],
   "source": [
    "num = [1,2,3,4,5]\n",
    "print(num[:3]) #? take the first 3 numbers\n",
    "print(num[-2:]) #? take the last 2 numbers"
   ]
  },
  {
   "cell_type": "markdown",
   "id": "13f18c96",
   "metadata": {},
   "source": [
    "### Unpacking\n",
    "\n",
    "`*` use to unpack list and tuple\n",
    "\n",
    "`**` use to unpack dict"
   ]
  },
  {
   "cell_type": "code",
   "execution_count": 1,
   "id": "67ddb2b6",
   "metadata": {},
   "outputs": [
    {
     "name": "stdout",
     "output_type": "stream",
     "text": [
      "a = 4, b = 5, c = 6\n",
      "a = 7, b = 8, c = 9\n",
      "Combined list: [1, 2, 3, 4, 5, 6]\n",
      "Combined dictionary: {'x': 1, 'y': 2, 'z': 3, 'w': 4}\n"
     ]
    }
   ],
   "source": [
    "def hey(a, b, c):\n",
    "    print(\"a = %d, b = %d, c = %d\" % (a, b, c))\n",
    "\n",
    "# Example with tuple unpacking\n",
    "x = (4, 5, 6)\n",
    "hey(*x) #? use for iterable object like a \"list, tuple\"\n",
    "\n",
    "# Example with dictionary unpacking\n",
    "y = {'a': 7, 'b': 8, 'c': 9}\n",
    "hey(**y) #? ** use to map keyword and value like \"dict\"\n",
    "\n",
    "# Example combining lists using unpacking\n",
    "list1 = [1, 2, 3]\n",
    "list2 = [4, 5, 6]\n",
    "combined_list = [*list1, *list2]\n",
    "print(\"Combined list:\", combined_list)\n",
    "\n",
    "# Example combining dictionaries using unpacking\n",
    "dict1 = {\"x\": 1, \"y\": 2}\n",
    "dict2 = {\"z\": 3, \"w\": 4}\n",
    "combined_dict = {**dict1, **dict2}\n",
    "print(\"Combined dictionary:\", combined_dict)"
   ]
  },
  {
   "cell_type": "code",
   "execution_count": null,
   "id": "fc2fb697",
   "metadata": {},
   "outputs": [
    {
     "name": "stdout",
     "output_type": "stream",
     "text": [
      "2\n",
      "[2, 3, 4]\n",
      "5\n",
      "\n",
      "\n",
      "1\n",
      "[2, 3, 4]\n",
      "5\n",
      "new list: [1, 2, 3, 4, 5]\n",
      "new dict: {'A': 1, 'B': 2, 'C': 3, 'D': 4}\n"
     ]
    }
   ],
   "source": [
    "num = [1,2,3,4,5]\n",
    "\n",
    "#? Without Unpacking\n",
    "a, b, c = num[1], num[1:-1], num[-1]\n",
    "print(a)\n",
    "print(b)\n",
    "print(c)\n",
    "print(\"\\n\")\n",
    "\n",
    "#? With Unpacking\n",
    "a, *b, c = num\n",
    "print(a)\n",
    "print(b)\n",
    "print(c)\n",
    "\n",
    "#? Unpacking allow us to unpack List then combine them\n",
    "list1 = [1,2,3]\n",
    "list2 = [4, 5]\n",
    "new_list = [*list1, *list2]\n",
    "print('new list:', new_list)\n",
    "\n",
    "#? Unpacking allow us to unpack Dictionary then combine them\n",
    "dict1 = {\"A\": 1, \"B\": 2}\n",
    "dict2 = {\"C\": 3, \"D\": 4}\n",
    "new_dict = {**dict1, **dict2}\n",
    "print('new dict:', new_dict)"
   ]
  },
  {
   "cell_type": "markdown",
   "id": "42f8e4db",
   "metadata": {},
   "source": [
    "### Advance Slicing"
   ]
  },
  {
   "cell_type": "code",
   "execution_count": null,
   "id": "b554b4ba",
   "metadata": {},
   "outputs": [
    {
     "name": "stdout",
     "output_type": "stream",
     "text": [
      "GOD\n",
      "[10, 30, 50]\n",
      "[20, 40, 60]\n"
     ]
    }
   ],
   "source": [
    "\n",
    "#? Reverse String\n",
    "text = \"GOD\"\n",
    "#? first \":\" and the second \":\" mean go from start to end\n",
    "#? 1 mean number of step, \"-\" indicate reverse direction.\n",
    "# If the number of step was 2, we would skip \"O\"\n",
    "# because python would retrieve number every 2 steps, start with D as index 0\n",
    "reverse = text[::1]\n",
    "print(reverse)\n",
    "\n",
    "data = [10, 20, 30, 40, 50, 60]\n",
    "even_index = data[::2] #? go from start to end with step of 2\n",
    "odd_index = data[1::2] #? start at 1, stop condition is \"::\" go from start to end, step of 2\n",
    "print(even_index)\n",
    "print(odd_index)"
   ]
  },
  {
   "cell_type": "markdown",
   "id": "996d9803",
   "metadata": {},
   "source": [
    "### Common Pythonic Technique"
   ]
  },
  {
   "cell_type": "code",
   "execution_count": null,
   "id": "7f6a2475",
   "metadata": {},
   "outputs": [
    {
     "name": "stdout",
     "output_type": "stream",
     "text": [
      "[1, 2, 3]\n",
      "['h', 'e', 'l', 'l', 'o']\n",
      "['h', 'X', 'Y', 'l', 'o']\n",
      "['h', 'X', 'Y', 'Z', 'l', 'o']\n",
      "['X', 'Y', 'Z', 'l', 'o']\n"
     ]
    }
   ],
   "source": [
    "origin = [1,2,3]\n",
    "copy = origin[:] #? copy to avoid modifying origin list\n",
    "print(copy)\n",
    "\n",
    "#? replace variables within a range in list\n",
    "letters = list(\"hello\")\n",
    "print(letters)\n",
    "\n",
    "letters[1:3] = [\"X\", \"Y\"] #? replace var from index 1 to index 3 with corresponding letters\n",
    "print(letters)\n",
    "\n",
    "letters[1:3] = [\"X\", \"Y\", \"Z\"] #? replace var from index 1 to index 3 with corresponding letters\n",
    "print(letters)\n",
    "\n",
    "letters[0:1] = [] #? replace var from index 1 to index 3 with corresponding letters\n",
    "print(letters)"
   ]
  },
  {
   "cell_type": "markdown",
   "id": "4dd50ac2",
   "metadata": {},
   "source": [
    "### Context Managers (with)\n",
    "Context Managers is a resource management machanism using \"with\" command, help to free up resource (close file, close DB connection, free up lock)  after the program end, even if there errors. "
   ]
  },
  {
   "cell_type": "code",
   "execution_count": null,
   "id": "613e3b19",
   "metadata": {},
   "outputs": [
    {
     "name": "stdout",
     "output_type": "stream",
     "text": [
      "Hello You\n"
     ]
    }
   ],
   "source": [
    "\n",
    "#? Context Manager\n",
    "from contextlib import contextmanager\n",
    "\n",
    "@contextmanager # type: ignore\n",
    "def file_reader(file_name):\n",
    "    f = open(file_name, \"r\") #? đọc file\n",
    "    try:\n",
    "        #? Truy cập tài nguyên trong file\n",
    "        yield f\n",
    "    finally:\n",
    "        f.close()\n",
    "\n",
    "with file_reader(\"file.txt\") as file:\n",
    "    print(file.read())"
   ]
  },
  {
   "cell_type": "markdown",
   "id": "a4cd9eb6",
   "metadata": {},
   "source": [
    "### Pythonic Comparison"
   ]
  },
  {
   "cell_type": "code",
   "execution_count": 13,
   "id": "a82e5602",
   "metadata": {},
   "outputs": [
    {
     "name": "stdout",
     "output_type": "stream",
     "text": [
      "{'Anna': 23, 'Bib': 33, 'Char': 43}\n",
      "40\n"
     ]
    }
   ],
   "source": [
    "names = ['Anna', 'Bib', 'Char']\n",
    "ages = [20, 30, 40]\n",
    "\n",
    "info = {name:age+3 for name,age in zip(names, ages)}\n",
    "print(info)\n",
    "\n",
    "max_num = max(ages)\n",
    "print(max_num)"
   ]
  },
  {
   "cell_type": "markdown",
   "id": "99f5d38a",
   "metadata": {},
   "source": [
    "### Use Logging instead of Print"
   ]
  },
  {
   "cell_type": "code",
   "execution_count": 14,
   "id": "873940c2",
   "metadata": {},
   "outputs": [],
   "source": [
    "import logging\n",
    "\n",
    "# # Basic configuration\n",
    "# logging.basicConfig(level=logging.DEBUG, filename='app.log', filemode='w',\n",
    "#                     format='%(asctime)s - %(name)s - \\\n",
    "#                             %(levelname)s - %(message)s'\n",
    "# ) #? set-up default output\n",
    "\n",
    "# # Log some messages\n",
    "# logging.debug('This is a debug message')\n",
    "# logging.info('This is an info message')\n",
    "# logging.warning('This is a warning message')\n",
    "# logging.error('This is an error message')\n",
    "\n",
    "# try:\n",
    "#     print(1/0)\n",
    "# except ZeroDivisionError as e:\n",
    "#     logging.error(\"ZeroDivisionError\", exc_info=True)\n"
   ]
  },
  {
   "cell_type": "markdown",
   "id": "352bff58",
   "metadata": {},
   "source": [
    "Create differe logger for each module using `logging.getLogger(__name__)`"
   ]
  },
  {
   "cell_type": "code",
   "execution_count": null,
   "id": "03702c43",
   "metadata": {},
   "outputs": [
    {
     "name": "stderr",
     "output_type": "stream",
     "text": [
      "2025-06-10 14:00:56,500 - INFO\n",
      "2025-06-10 14:00:56,500 - INFO\n",
      "2025-06-10 14:00:56,500 - INFO\n",
      "2025-06-10 14:00:56,504 - ERROR\n",
      "2025-06-10 14:00:56,504 - ERROR\n",
      "2025-06-10 14:00:56,504 - ERROR\n"
     ]
    }
   ],
   "source": [
    "\n",
    "#? Create Custom logger for this Module\n",
    "logger = logging.getLogger('my_logger')\n",
    "logger.setLevel(logging.DEBUG)\n",
    "\n",
    "# File hander for infor and above\n",
    "#? Write log message into file\n",
    "file_handler = logging.FileHandler('error.log')\n",
    "#? Set serverity level written into file is ERROR\n",
    "file_handler.setLevel(logging.ERROR)\n",
    "\n",
    "#? Set format for the handler\n",
    "formatter = logging.Formatter('%(asctime)s - %(levelname)s')\n",
    "\n",
    "### Console handler for info and above\n",
    "# Create a console handler that writes log messages to the console\n",
    "console_handler = logging.StreamHandler()\n",
    "# Set the logging level for this handler to INFO, which means it will handle messages of INFO level or higher\n",
    "console_handler.setLevel(logging.INFO)\n",
    "\n",
    "console_handler.setFormatter(formatter)\n",
    "file_handler.setFormatter(formatter)\n",
    "\n",
    "#? Add file handler to the logger\n",
    "#* Add the file handler to logger so it will write ERROR level message\n",
    "#? to 'error.log' file\n",
    "logger.addHandler(file_handler)\n",
    "#* Add the file handler to logger so it will write ERROR level message\n",
    "#? to console\n",
    "logger.addHandler(console_handler)\n",
    "\n",
    "logger.debug(\"Print DEBUG to console\")\n",
    "logger.info(\"This will also print to console\")\n",
    "logger.error(\"Print ERROR to console\")"
   ]
  },
  {
   "cell_type": "code",
   "execution_count": null,
   "id": "457b29a3",
   "metadata": {},
   "outputs": [],
   "source": []
  }
 ],
 "metadata": {
  "kernelspec": {
   "display_name": "ds",
   "language": "python",
   "name": "python3"
  },
  "language_info": {
   "codemirror_mode": {
    "name": "ipython",
    "version": 3
   },
   "file_extension": ".py",
   "mimetype": "text/x-python",
   "name": "python",
   "nbconvert_exporter": "python",
   "pygments_lexer": "ipython3",
   "version": "3.10.16"
  }
 },
 "nbformat": 4,
 "nbformat_minor": 5
}
