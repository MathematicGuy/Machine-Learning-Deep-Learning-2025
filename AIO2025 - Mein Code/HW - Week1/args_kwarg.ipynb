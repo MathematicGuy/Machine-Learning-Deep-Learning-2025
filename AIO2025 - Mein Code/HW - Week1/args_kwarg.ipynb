{
 "cells": [
  {
   "cell_type": "markdown",
   "id": "7bbf36d7",
   "metadata": {},
   "source": [
    "`*` mean all/everything\n",
    "\n",
    "`*args`: is a tuple (use to pass multiple elements to parameters instead of defining them 1 by 1) - tuple is inmutable so they cannot be change.\n",
    "\n",
    "It's a method for passing multiple elements without defining more of them as function parameters.  \n",
    "\n",
    "**Basically passing a list as parameter without passing a list.** "
   ]
  },
  {
   "cell_type": "code",
   "execution_count": 15,
   "id": "893d307b",
   "metadata": {},
   "outputs": [
    {
     "name": "stdout",
     "output_type": "stream",
     "text": [
      "10\n",
      "function input as tuple: (1, 2, 3, 4)\n",
      "10\n",
      "normal arguments 2 3\n",
      "another argument through *args [1, 2, 3, 4]\n"
     ]
    }
   ],
   "source": [
    "\n",
    "#? Unexpandable function -> what if we want to add multiple numbers\n",
    "def basic_count(x, y):\n",
    "    return x + y \n",
    "\n",
    "#? We could use a list but it quite inconvenient  \n",
    "def count(a_list):\n",
    "    total = 0\n",
    "    for i in a_list:\n",
    "        total += i\n",
    "        \n",
    "    print(total)\n",
    "\n",
    "count([1,2,3,4])\n",
    "\n",
    "#? With *args\n",
    "def count_arg(*args):\n",
    "    total = 0\n",
    "    for i in args:\n",
    "        total += i\n",
    "\n",
    "    print('function input as tuple:', args)    \n",
    "    print(total)\n",
    "    \n",
    "count_arg(1,2,3,4)\n",
    "\n",
    "#? Like pre-define parameters, *args pass in last \n",
    "def foo(a, b, *args):\n",
    "    print('normal arguments', a, b)\n",
    "    for x in args:\n",
    "        print('another argument through *args', x)\n",
    "        \n",
    "foo(2, 3, [1,2,3,4])"
   ]
  },
  {
   "cell_type": "markdown",
   "id": "cec825d8",
   "metadata": {},
   "source": [
    "`**kwargs` mean `keyword argument`  (i.e key=vaule as a argument), instead using normal parameters it use named parameters. These parameters when define follow its default variable. \n",
    "\n",
    "**Basically passing a dict as parameters without have to passing a dict**     "
   ]
  },
  {
   "cell_type": "code",
   "execution_count": 17,
   "id": "ce935a52",
   "metadata": {},
   "outputs": [
    {
     "name": "stdout",
     "output_type": "stream",
     "text": [
      "a 1\n",
      "b 2\n",
      "function input as dict: {'a': 1, 'b': 2}\n",
      "a 1\n",
      "b 2\n"
     ]
    }
   ],
   "source": [
    "\n",
    "#? Without **kwargs\n",
    "def foo_0(a):\n",
    "    for key, value in a.items():\n",
    "        print(key, value)\n",
    "            \n",
    "foo_0({'a': 1, 'b': 2})\n",
    "\n",
    "\n",
    "#? With **kwargs\n",
    "def foo_1(**kwargs):\n",
    "    print('function input as dict:', kwargs)\n",
    "    for key, value in kwargs.items():\n",
    "        print(key, value)\n",
    "        \n",
    "foo_1(a=1, b=2)"
   ]
  },
  {
   "cell_type": "code",
   "execution_count": null,
   "id": "455c227b",
   "metadata": {},
   "outputs": [
    {
     "name": "stdout",
     "output_type": "stream",
     "text": [
      "a = 4, b = 5, c = 6\n",
      "a = 7, b = 8, c = 9\n"
     ]
    }
   ],
   "source": [
    "def hey(a, b, c):\n",
    "    print(\"a = %d, b = %d, c = %d\" % (a, b, c))\n",
    "\n",
    "x = (4, 5, 6)\n",
    "hey(*x) #? use for iterable object like a \"list, tupple\"\n",
    "\n",
    "y = {'a': 7, 'b': 8, 'c': 9}\n",
    "hey(**y) #? ** use to map keyword and value like \"dict\""
   ]
  },
  {
   "cell_type": "code",
   "execution_count": null,
   "id": "7a7bdb15",
   "metadata": {},
   "outputs": [],
   "source": []
  }
 ],
 "metadata": {
  "kernelspec": {
   "display_name": "ds",
   "language": "python",
   "name": "python3"
  },
  "language_info": {
   "codemirror_mode": {
    "name": "ipython",
    "version": 3
   },
   "file_extension": ".py",
   "mimetype": "text/x-python",
   "name": "python",
   "nbconvert_exporter": "python",
   "pygments_lexer": "ipython3",
   "version": "3.10.16"
  }
 },
 "nbformat": 4,
 "nbformat_minor": 5
}
